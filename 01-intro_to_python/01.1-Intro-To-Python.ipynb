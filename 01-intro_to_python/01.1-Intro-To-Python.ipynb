{
 "cells": [
  {
   "cell_type": "markdown",
   "metadata": {},
   "source": [
    "\n",
    "## Why learning Python for Machine Learning?\n",
    "\n",
    "Python has so many reasons for why it has become the most used language in the world, today, it is almost impossible not to be a Python fan.\n",
    "\n",
    "- MIT decided to teach python as first language because its syntax prevents for lots of errors, specially because it has identation and no semicolons.\n",
    "- Tesla uses Python for -almost- everything it does.\n",
    "- Python has the biggest data-science community and most used libraries like Pandas, Numpy, etc.\n",
    "\n",
    "We can keep going, the list of advantages is big, but you should know that you are in good hands, Python is and will be the most prominent data-oriented language to create, deploy and maintain Machine Learning solutions for the A.I. world."
   ]
  },
  {
   "cell_type": "markdown",
   "metadata": {},
   "source": [
    "## How Python code works\n",
    "\n",
    "Python is a **scripted language**, which means that you can just write a small piece of code and it will run from top to bottom without much formality, for example:\n",
    "\n",
    "In the following code we write the code to print \"Hello today is tuesday\", but replacing `tuesday` with the current day of the week:"
   ]
  },
  {
   "cell_type": "code",
   "execution_count": 1,
   "metadata": {},
   "outputs": [
    {
     "name": "stdout",
     "output_type": "stream",
     "text": [
      "Hello today is Monday\n"
     ]
    }
   ],
   "source": [
    "from datetime import datetime\n",
    "day_of_week = datetime.today().strftime('%A')\n",
    "print(f\"Hello today is {day_of_week}\")"
   ]
  },
  {
   "cell_type": "markdown",
   "metadata": {},
   "source": [
    "This python `script` contains only 3 lines of code and runs from top (line 1) to bottom (line 3), but you can have `scripts` with thousands of lines.\n",
    "\n",
    "You can also comment your code using the `#` symbol, comments are for humans, something only humans will understand.\n",
    "\n",
    "Here is an example of the same code, but now with useful comments:"
   ]
  },
  {
   "cell_type": "code",
   "execution_count": 2,
   "metadata": {},
   "outputs": [
    {
     "name": "stdout",
     "output_type": "stream",
     "text": [
      "Hello today is Monday\n"
     ]
    }
   ],
   "source": [
    "# import the datetime module because it has functions to retrieve the current date\n",
    "from datetime import datetime\n",
    "# datetime.today() returns a whole date, but I only want the day of the week\n",
    "# that is why I use \"strftime\" to format the date and get only the day of the week.\n",
    "day_of_week = datetime.today().strftime('%A')\n",
    "# lastly I just print the expected ouput\n",
    "print(f\"Hello today is {day_of_week}\")"
   ]
  },
  {
   "cell_type": "markdown",
   "metadata": {},
   "source": [
    "## Variables\n",
    "\n",
    "Variables are not a concept only for coding, anybody who knows math is familiar with `variables`.\n",
    "\n",
    "A variable is a container in which you can store any data.  For example, you can have the following variable:"
   ]
  },
  {
   "cell_type": "code",
   "execution_count": 3,
   "metadata": {},
   "outputs": [],
   "source": [
    "# you can store the age of someone\n",
    "age = 24\n",
    "# or the name of someone\n",
    "name = \"Bob Dylan\""
   ]
  },
  {
   "cell_type": "markdown",
   "metadata": {},
   "source": [
    "\n",
    "With virtually any programming language you can create as many variables as you want or need, all you have to do is type `any word` in your editor and that word will become your variable, for example, this is how we declare a variable \"name\":"
   ]
  },
  {
   "cell_type": "code",
   "execution_count": 4,
   "metadata": {},
   "outputs": [
    {
     "data": {
      "text/plain": [
       "'Alex'"
      ]
     },
     "execution_count": 4,
     "metadata": {},
     "output_type": "execute_result"
    }
   ],
   "source": [
    "\n",
    "name = \"Alex\"\n",
    "name"
   ]
  },
  {
   "cell_type": "markdown",
   "metadata": {},
   "source": [
    "\n",
    "The **variable name** is the most effective way we have to describe the variable content, so use it wisely.  It is important to choose a name that clearly tells you (and other coders) about the data that is being stored in the variable.  If we choose a bad or an ambiguous name, our code will be almost impossible to understand, ergo it becomes unusable.  For example, let’s say we change the name of our \"name\" variable to `myVar`, that would be:"
   ]
  },
  {
   "cell_type": "code",
   "execution_count": 5,
   "metadata": {},
   "outputs": [
    {
     "data": {
      "text/plain": [
       "'Alex'"
      ]
     },
     "execution_count": 5,
     "metadata": {},
     "output_type": "execute_result"
    }
   ],
   "source": [
    "myVar = \"Alex\"\n",
    "# I have no idea what data is inside myVar unless I actually see the line of code where if was declared.\n",
    "myVar"
   ]
  },
  {
   "cell_type": "markdown",
   "metadata": {},
   "source": [
    "As you can see above, the new variable name does not tell us anything about the data that is being stored and why we are using it.\n",
    "\n",
    "Choosing the name for your variable really matters, so we beg you not to use generic names.  Be descriptive!  A vague name will make it difficult to understand the purpose of the variable, especially for other coders (including your future self)."
   ]
  },
  {
   "cell_type": "markdown",
   "metadata": {},
   "source": [
    "### Printing variables\n",
    "\n",
    "To print the content of a variable we use the `print` statement. \n",
    "As a developer, you will often forget or ignore a variable value, you can print it anytime using `print`; Printing a variable is the most effective debugging tool as a developer.\n",
    "Another reason to print is when you want to display some message to the user."
   ]
  },
  {
   "cell_type": "code",
   "execution_count": 6,
   "metadata": {},
   "outputs": [
    {
     "name": "stdout",
     "output_type": "stream",
     "text": [
      "You can print the name like this: Bob Dylan in the middle of a sentence\n",
      "Or you can print it using the plus sign Bob Dylan\n",
      "Or using a comma Bob Dylan\n"
     ]
    }
   ],
   "source": [
    "name = \"Bob Dylan\"\n",
    "print(f\"You can print the name like this: {name} in the middle of a sentence\")\n",
    "print(\"Or you can print it using the plus sign \"+name)\n",
    "print(\"Or using a comma\", name)"
   ]
  },
  {
   "cell_type": "markdown",
   "metadata": {},
   "source": [
    "> 🐶 Note: From now one, we will be printing a lot, because it is the best way to explain concepts."
   ]
  },
  {
   "cell_type": "markdown",
   "metadata": {},
   "source": [
    "### Re-Assigning a Value to Variables\n",
    "\n",
    "As developers, we can set the value of a variable at any time using the `=` operator.  You have to set a value when you first declare a variable, but re-set (override) its value as many times as you want, whenever you want.  The value will always be the last one you set.  Below are a few examples on how to set values to variables:"
   ]
  },
  {
   "cell_type": "code",
   "execution_count": 7,
   "metadata": {},
   "outputs": [
    {
     "name": "stdout",
     "output_type": "stream",
     "text": [
      "The variable name value ends up being Rita\n"
     ]
    }
   ],
   "source": [
    "name = \"Bob\"\n",
    "name = \"Joe\"\n",
    "name = \"Rita\"\n",
    "print(f\"The variable name value ends up being {name}\")"
   ]
  },
  {
   "cell_type": "markdown",
   "metadata": {},
   "source": [
    "Note: the variable name in this code will end up having the value `Rita`, it will be as if `Bob` and `Joe` never existed.\n",
    "\n",
    "### No special keywords to declare a variable\n",
    "\n",
    "Other languages lik javascript make you use a special statement before the variable name in order to \"declare\" the variable for the first time like this:\n",
    "\n",
    "```javascript\n",
    "let age = 12;\n",
    "```\n",
    "\n",
    "Other -strongly typed- languages like Typescript also make you declare the type of value that the variable will contain inside:\n",
    "\n",
    "```typescript\n",
    "let age : number = 12;\n",
    "```\n",
    "\n",
    "> Note: This means that the variable age will always contain a number inside.\n",
    "\n",
    "But Python does not need any type declaration or special keywords, just type `name = \"Rita\"` and that will be your new variable `name` with value `Rita`.\n",
    "\n",
    "## Data Types\n",
    "\n",
    "Variables can have different types of values.  Some of them are available only in specific programming languages, but almost all of them have the following types\n",
    "\n",
    "|**Data-Type**  |**Posible Types**                  |**Possible values**                            |\n",
    "|:--------------|:----------------------------------|:----------------------------------------------|\n",
    "| Nothing       |`None`                             | `x=None`                                      |\n",
    "| Text Type     |`str`                              | `x=\"bob\"`                                     |\n",
    "| Numeric Types |`int`, `float`, `complex`          | `x=2`, `x=2.012`, `x = 1j`                    |\n",
    "| Sequence Types|`list`, `tuple`, `range`           |`x=[34,32,54]`,`x=(34,32,54)`,`x=range(6)`     |\n",
    "| Mapping Type  |`dict`                             |`x={\"name\": \"Bob\", \"last_name\": \"Dylan\"}       |\n",
    "| Set Types     |`set`, `frozenset`                 |`x={\"apple\", \"banana\", \"cherry\"}               |\n",
    "| Boolean Type  |`bool`                             |`x=True` or `x=False`                          |\n",
    "| Binary Types  |`bytes`,`bytearray`, `memoryview`  |`to big to display, we will not be using them` |       "
   ]
  },
  {
   "cell_type": "code",
   "execution_count": 4,
   "metadata": {},
   "outputs": [
    {
     "name": "stdout",
     "output_type": "stream",
     "text": [
      "This is a list of Henry's information ['Henry', 'asian', 23]\n",
      "Henry is asian and 23 years old\n"
     ]
    }
   ],
   "source": [
    "ethnicity = \"asian\" # use quotes for text (strings)\n",
    "\n",
    "age = 23 # use dot for decimals (float)\n",
    "\n",
    "about_henry = ['Henry', ethnicity, age] # use square braces for lists\n",
    "print(\"This is a list of Henry's information\", about_henry)\n",
    "\n",
    "print(f\"{about_henry[0]} is {about_henry[1]} and {about_henry[2]} years old\")"
   ]
  },
  {
   "cell_type": "markdown",
   "metadata": {},
   "source": [
    "> 🐶  You can refer to any value inside a list, by using square brackets and the position you want to retrieve, for example `myList[2]` will be the third position (starting 0).  \n",
    ">     You and read more about lists in the next lesson, there is a whole reading about it."
   ]
  },
  {
   "cell_type": "markdown",
   "metadata": {},
   "source": [
    "### Operations\n",
    "\n",
    "What operations can I do to variables?  Depending on the data-type you have a few different possibilities:\n",
    "\n",
    "+ Numbers are easy – you can do whatever math operation you want.  \n",
    "+ Strings can be concatenated (merged), split, converted to Upper or Lower Case, etc.  \n",
    "+ You cannot do much to None variables or Booleans.  \n",
    "+ We will talk about Lists, Tuples and Dict's in a different section.  They require a lot more attention.  "
   ]
  },
  {
   "cell_type": "code",
   "execution_count": 8,
   "metadata": {},
   "outputs": [
    {
     "name": "stdout",
     "output_type": "stream",
     "text": [
      "The total is 6\n",
      "My name is Bob Dylab\n"
     ]
    }
   ],
   "source": [
    "# you can do any math operation with numbers\n",
    "first_number = 2\n",
    "second_number = 4\n",
    "print(f\"The total is {first_number + second_number}\")\n",
    "\n",
    "# you can put strings together (concatenate) using the plus \"+\"\" symbol\n",
    "first_name = \"Bob\"\n",
    "last_name = \"Dylab\"\n",
    "full_name = first_name + \" \" + last_name\n",
    "print(f\"My name is {full_name}\")"
   ]
  },
  {
   "cell_type": "markdown",
   "metadata": {},
   "source": [
    "\n",
    "## Functions\n",
    "\n",
    "Functions are pieces of code that can be re-used several times during runtime regardless of their position in the code.  There are hundreds of reasons to use functions, but here are the 2 most important ones:\n",
    "\n",
    "+ Divide and conquer: It is always easier to split your problems into several smaller problems.  This will become your biggest challenge when solving complex problems.  Functions will be your best tools for abstraction.\n",
    "+ Re-use: Any normal development will take at least 5,000 lines of code.  It is redundant and inefficent to keep writing the same code over and over again.\n",
    "\n",
    "## Declaring a Function\n",
    "\n",
    "To declare a function in Python you have to start using the word `def` followed by the name you want for that function and a colon `:` aftewars.\n",
    "\n",
    "You must then specify the parameters (inputs) that the function is going to have within parentheses.\n",
    "\n",
    "Then, you jump the line (hit enter) and write the code that your function must always perform.  \n",
    "\n",
    "**Note:**  To return something you use the `return` word at any time within the content of your function (between the curly brackets)."
   ]
  },
  {
   "cell_type": "code",
   "execution_count": 18,
   "metadata": {},
   "outputs": [
    {
     "name": "stdout",
     "output_type": "stream",
     "text": [
      "The result of multiplying 3 times 7 is:  21\n"
     ]
    }
   ],
   "source": [
    "def multiply (param1, param2):\n",
    "    return param1 * param2;\n",
    "\n",
    "print(\"The result of multiplying 3 times 7 is: \", multiply(3,7))"
   ]
  },
  {
   "cell_type": "markdown",
   "metadata": {},
   "source": [
    "Note: please note that the indentation (white spaces) on the left side of the line number two are rally important, all the contnet of the function must be indented to the right.\n",
    "\n",
    "## Parameters and Function Scope\n",
    "\n",
    "The scope of a variable determines where that variable is available to be used.  There are two main types of scopes:\n",
    "\n",
    "### Local Variables\n",
    "\n",
    "A local variable is available only inside the scope of the nearest curly brackets.  For example, variables that are passed as parameters into functions are only available within the content of that particular function."
   ]
  },
  {
   "cell_type": "code",
   "execution_count": null,
   "metadata": {},
   "outputs": [],
   "source": [
    "def print_your_name():\n",
    "    name = \"Bob\"\n",
    "    print(name) # This will print \"Bob\"\n",
    "    \n",
    "print(name) # This will not print \"Bob\" because name does not exist on this scope."
   ]
  },
  {
   "cell_type": "markdown",
   "metadata": {},
   "source": [
    "### Global Variables\n",
    "\n",
    "If you declare a variable at the beginning of your code, it will be available throughout the entire code – including during the content of any particular function."
   ]
  },
  {
   "cell_type": "code",
   "execution_count": null,
   "metadata": {},
   "outputs": [],
   "source": [
    "name = \"Bob\"\n",
    "def print_your_name():\n",
    "    print(name) # This will print \"Bob\"\n",
    "    \n",
    "print(name) # This will print \"Bob\" as well."
   ]
  },
  {
   "cell_type": "markdown",
   "metadata": {},
   "source": [
    "## Logical Operations\n",
    "\n",
    "Computers think of everything in black or white.  Everything is either True or False.  All the decisions in a computer are reduced into a simple **Boolean**.  You can prepare a computer to solve particular problems if you write code that asks the proper questions required to solve that problem.\n",
    "\n",
    "For example, if I want a computer to give candy only to kids older than 13 years of age, I can instruct the computer to ask:\n",
    "\n",
    "```txt\n",
    "Is this kid’s age greater than 13?  Yes or no?\n",
    "```\n",
    "\n",
    "**In JavaScript, you can instruct the computer to do the following logical operations:**\n",
    "\n",
    "|**Operation**  |**Syntaxis**   |**Examples**   |\n",
    "|:--------------|:--------------|:--------------|\n",
    "|Is none or null|is None        |`if author is None:` |\n",
    "|Equal to       |==             |Is 5 == 5? True!<br>Is 5 == 4? False!<br>Is 5 == '5'? True!    |\n",
    "|Not Equal to   |!=             |Is 5 != 5? False!<br>Is 5 != '5'? False!<br>Is 1 != 'Hello' True!   |\n",
    "|Greater than   |>              |Is 5 > 5? False!<br>Is 6 > 3? True!    |\n",
    "|Less than      |<              |Is 6 < 12? True            |\n",
    "|Greater equal  |>=             |Is 6 <= 6? True<br>Is 3 <= 6? True    |\n",
    "|Less or equal   |<=            |You get the idea 🙂       |\n",
    "\n",
    "To create really useful operations, you can combine several operations in the same question using AND, OR and NOT.\n",
    "\n",
    "You can group the logical operations in parentheses, and also use nested parentheses for several operations at the same time.\n",
    "\n",
    "|**Operation**   |**Syntaxis**   |**Examples**   |\n",
    "|:---------------|:--------------|:--------------|\n",
    "|AND             |&&             |With AND, both sides HAVE TO BE TRUE in order for everything to become true.<br>Is (5 == 5 && 3 > 1) ? True!<br>Is ('Ramon' == 'Pedro' && 2 == 2) ? False!    |\n",
    "|OR     |\\|\\|     |Is ('Oscar' != 'Maria' OR 2 != 2)? True!<br>Is (5 == '5' AND 'Ramon' != 'Pedro') OR (2 == 2)? True!   |\n",
    "|NOT     |!     |NOT will be the exact opposite of the result of the logical operator:<br>Is !(5 > 5)? True!<br>Is !(True)? False!    |\n",
    "\n",
    "\n",
    "## Control the Flow of Your Code\n",
    "\n",
    "Okay, now is when everything starts getting fun!  To control your application’s flow you will have several options, and you are going to use each of them every single day.  So, you must to become comfortable using them.\n",
    "\n",
    "### If…else…\n",
    "\n",
    "The first tool you have is the `if…else` conditional.  It is very easy.  You can tell the computer to skip any part of your code depending on the current value of your variables.\n",
    "\n",
    "The `if` statement allows you to execute a piece of code if certain conditions are met (or are true).  The \"else\" statement will execute an alternate piece of code in case the condition is false."
   ]
  },
  {
   "cell_type": "code",
   "execution_count": 9,
   "metadata": {},
   "outputs": [
    {
     "name": "stdout",
     "output_type": "stream",
     "text": [
      "Come in, you are old enough to drink\n"
     ]
    }
   ],
   "source": [
    "number = int(input(\"How old are you?\"))\n",
    "if number < 21:\n",
    "    print(\"Go home, you cannot drink\");\n",
    "else:\n",
    "    print(\"Come in, you are old enough to drink\");"
   ]
  },
  {
   "cell_type": "markdown",
   "metadata": {},
   "source": [
    "## Looping values with Python\n",
    "\n",
    "It happens a lot, that you want to read a whole list of values and display them on the screen, or manipulate them in any possible way.\n",
    "You can use loops for that purpose.\n",
    "\n",
    "### The While Loop\n",
    "\n",
    "It is possible to loop a segment of your code as many times as you want or need.  Loops are one of the most important tools for developers these days.\n",
    "\n",
    "Imagine you are inside an elevator – the elevator needs to loop throughout the floors until it reaches the specific floor that you want.\n",
    "\n",
    "A `while` loop will execute a block of code as long as a condition is true.  Once the condition returns false, the loop will stop executing the block of code."
   ]
  },
  {
   "cell_type": "code",
   "execution_count": null,
   "metadata": {},
   "outputs": [],
   "source": [
    "sum = 0\n",
    "while sum <= 50:\n",
    "  sum += 1\n",
    "\n",
    "print(\"Sum = \" + sum);"
   ]
  },
  {
   "cell_type": "markdown",
   "metadata": {},
   "source": [
    "\n",
    "### The For Loop\n",
    "\n",
    "`For` is similar to the `while,` with the only difference being that you have to specify the stopping condition from the beginning.  For that reason, `for` is a little more organized and easier to understand.\n",
    "\n",
    "Note:  When looping, make sure that the statement will eventually return false so that you avoid an infinite loop.  In an infinite loop, the code executes indefinitely and will cause your browser to crash."
   ]
  },
  {
   "cell_type": "code",
   "execution_count": 10,
   "metadata": {},
   "outputs": [
    {
     "name": "stdout",
     "output_type": "stream",
     "text": [
      "0\n",
      "1\n",
      "2\n",
      "3\n",
      "4\n",
      "5\n",
      "6\n",
      "7\n",
      "8\n",
      "9\n"
     ]
    }
   ],
   "source": [
    "# printing numbers from 0 to 0\n",
    "for i in range(10):\n",
    "    print(i)"
   ]
  },
  {
   "cell_type": "markdown",
   "metadata": {},
   "source": [
    "## Looping a dictionary (or map)\n",
    "\n",
    "In python you can store a group of related values in key => value pairs like this:"
   ]
  },
  {
   "cell_type": "code",
   "execution_count": 11,
   "metadata": {},
   "outputs": [
    {
     "name": "stdout",
     "output_type": "stream",
     "text": [
      "Great Dane\n",
      "Extra Large\n",
      "3\n",
      "Rocky\n"
     ]
    }
   ],
   "source": [
    "dog = {\n",
    "  \"breed\": \"Great Dane\",\n",
    "  \"size\": \"Extra Large\",\n",
    "  \"age\": 3 ,\n",
    "  \"name\": \"Rocky\"\n",
    "}\n",
    "\n",
    "for key in dog:\n",
    "  print(dog[key])"
   ]
  },
  {
   "cell_type": "markdown",
   "metadata": {},
   "source": [
    "## So.. tell me, did you like coding?\n",
    "\n",
    "Coding is like Taco Bell:  you always use the same ingredients except they are just mixed in different ways.  You know how to write code, but…do you know how to solve real problems?"
   ]
  }
 ],
 "metadata": {
  "interpreter": {
   "hash": "8b8334dab9339717f727a1deaf837b322d7a41c20d15cc86be99a8e69ceec8ce"
  },
  "kernelspec": {
   "display_name": "Python 3.8.12 64-bit ('3.8.12': pyenv)",
   "name": "python3"
  },
  "language_info": {
   "codemirror_mode": {
    "name": "ipython",
    "version": 3
   },
   "file_extension": ".py",
   "mimetype": "text/x-python",
   "name": "python",
   "nbconvert_exporter": "python",
   "pygments_lexer": "ipython3",
   "version": "3.8.12"
  },
  "orig_nbformat": 4
 },
 "nbformat": 4,
 "nbformat_minor": 2
}
