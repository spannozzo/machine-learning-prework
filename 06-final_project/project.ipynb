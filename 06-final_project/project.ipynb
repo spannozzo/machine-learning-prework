{
 "cells": [
  {
   "cell_type": "markdown",
   "id": "bdfbcacc",
   "metadata": {},
   "source": [
    "## Final project\n",
    "\n",
    "Finally, you already have all the necessary knowledge to prepare a real dataset to later train a machine learning model, which you will learn throughout the bootcamp.\n",
    "\n",
    "It is intended that you apply all the knowledge learned with the other numpy, pandas and matplotlib notebooks and even openCV that we will delve into later.\n",
    "\n",
    "Feel free to add any additional analysis that you consider necessary and that is not raised in the questions.\n"
   ]
  },
  {
   "cell_type": "markdown",
   "id": "c4e52ee5",
   "metadata": {},
   "source": [
    "## The dataset\n",
    "\n",
    "This is a real dataset and it was downloaded using web scraping techniques. The data contains registers from fotocasa which is one of the most popular websites of real estate in Spain. Please, do not do this (web scraping) unless it is for academic purposes.\n",
    "\n",
    "The dataset was downloaded a few years ago by Henry Navarro and In no case were economic returns obtained from it.\n",
    "\n",
    "It contains thousands of data from real homes published on the web www.fotocasa.com. Your goal is to extract as much information as possible with the knowledge you have so far about data science, for example what is the most expensive home in the entire dataset?\n",
    "\n",
    "Let's start with precisely that question... Good luck!\n"
   ]
  },
  {
   "cell_type": "markdown",
   "id": "dd97255d",
   "metadata": {},
   "source": [
    "#### Read the dataset real_estate.csv and try to visualize the table (★☆☆)"
   ]
  },
  {
   "cell_type": "code",
   "execution_count": 1,
   "id": "4b93d9c8",
   "metadata": {},
   "outputs": [
    {
     "data": {
      "text/html": [
       "<div>\n",
       "<style scoped>\n",
       "    .dataframe tbody tr th:only-of-type {\n",
       "        vertical-align: middle;\n",
       "    }\n",
       "\n",
       "    .dataframe tbody tr th {\n",
       "        vertical-align: top;\n",
       "    }\n",
       "\n",
       "    .dataframe thead th {\n",
       "        text-align: right;\n",
       "    }\n",
       "</style>\n",
       "<table border=\"1\" class=\"dataframe\">\n",
       "  <thead>\n",
       "    <tr style=\"text-align: right;\">\n",
       "      <th></th>\n",
       "      <th>id_realEstates</th>\n",
       "      <th>isNew</th>\n",
       "      <th>realEstate_name</th>\n",
       "      <th>phone_realEstate</th>\n",
       "      <th>url_inmueble</th>\n",
       "      <th>rooms</th>\n",
       "      <th>bathrooms</th>\n",
       "      <th>surface</th>\n",
       "      <th>price</th>\n",
       "      <th>date</th>\n",
       "      <th>...</th>\n",
       "      <th>level4Id</th>\n",
       "      <th>level5Id</th>\n",
       "      <th>level6Id</th>\n",
       "      <th>level7Id</th>\n",
       "      <th>level8Id</th>\n",
       "      <th>accuracy</th>\n",
       "      <th>latitude</th>\n",
       "      <th>longitude</th>\n",
       "      <th>zipCode</th>\n",
       "      <th>customZone</th>\n",
       "    </tr>\n",
       "  </thead>\n",
       "  <tbody>\n",
       "    <tr>\n",
       "      <th>1</th>\n",
       "      <td>153771986</td>\n",
       "      <td>False</td>\n",
       "      <td>ferrari 57 inmobiliaria</td>\n",
       "      <td>912177526.0</td>\n",
       "      <td>https://www.fotocasa.es/es/comprar/vivienda/ma...</td>\n",
       "      <td>3.0</td>\n",
       "      <td>2.0</td>\n",
       "      <td>103.0</td>\n",
       "      <td>195000</td>\n",
       "      <td>2019-12-28T18:27:15.9975027Z</td>\n",
       "      <td>...</td>\n",
       "      <td>0</td>\n",
       "      <td>0</td>\n",
       "      <td>0</td>\n",
       "      <td>0</td>\n",
       "      <td>0</td>\n",
       "      <td>0</td>\n",
       "      <td>40,2948276786438</td>\n",
       "      <td>-3,44402412135624</td>\n",
       "      <td>NaN</td>\n",
       "      <td>NaN</td>\n",
       "    </tr>\n",
       "    <tr>\n",
       "      <th>2</th>\n",
       "      <td>153867863</td>\n",
       "      <td>False</td>\n",
       "      <td>tecnocasa fuenlabrada ferrocarril</td>\n",
       "      <td>916358736.0</td>\n",
       "      <td>https://www.fotocasa.es/es/comprar/vivienda/ma...</td>\n",
       "      <td>3.0</td>\n",
       "      <td>1.0</td>\n",
       "      <td>NaN</td>\n",
       "      <td>89000</td>\n",
       "      <td>2019-12-28T18:27:15.9975027Z</td>\n",
       "      <td>...</td>\n",
       "      <td>0</td>\n",
       "      <td>0</td>\n",
       "      <td>0</td>\n",
       "      <td>0</td>\n",
       "      <td>0</td>\n",
       "      <td>1</td>\n",
       "      <td>40,28674</td>\n",
       "      <td>-3,79351</td>\n",
       "      <td>NaN</td>\n",
       "      <td>NaN</td>\n",
       "    </tr>\n",
       "    <tr>\n",
       "      <th>3</th>\n",
       "      <td>153430440</td>\n",
       "      <td>False</td>\n",
       "      <td>look find boadilla</td>\n",
       "      <td>916350408.0</td>\n",
       "      <td>https://www.fotocasa.es/es/comprar/vivienda/ma...</td>\n",
       "      <td>2.0</td>\n",
       "      <td>2.0</td>\n",
       "      <td>99.0</td>\n",
       "      <td>390000</td>\n",
       "      <td>2019-12-28T18:27:15.9975027Z</td>\n",
       "      <td>...</td>\n",
       "      <td>0</td>\n",
       "      <td>0</td>\n",
       "      <td>0</td>\n",
       "      <td>0</td>\n",
       "      <td>0</td>\n",
       "      <td>0</td>\n",
       "      <td>40,4115646786438</td>\n",
       "      <td>-3,90662252135624</td>\n",
       "      <td>NaN</td>\n",
       "      <td>NaN</td>\n",
       "    </tr>\n",
       "    <tr>\n",
       "      <th>4</th>\n",
       "      <td>152776331</td>\n",
       "      <td>False</td>\n",
       "      <td>tecnocasa fuenlabrada ferrocarril</td>\n",
       "      <td>916358736.0</td>\n",
       "      <td>https://www.fotocasa.es/es/comprar/vivienda/ma...</td>\n",
       "      <td>3.0</td>\n",
       "      <td>1.0</td>\n",
       "      <td>86.0</td>\n",
       "      <td>89000</td>\n",
       "      <td>2019-12-28T18:27:15.9975027Z</td>\n",
       "      <td>...</td>\n",
       "      <td>0</td>\n",
       "      <td>0</td>\n",
       "      <td>0</td>\n",
       "      <td>0</td>\n",
       "      <td>0</td>\n",
       "      <td>0</td>\n",
       "      <td>40,2853785786438</td>\n",
       "      <td>-3,79508142135624</td>\n",
       "      <td>NaN</td>\n",
       "      <td>NaN</td>\n",
       "    </tr>\n",
       "    <tr>\n",
       "      <th>5</th>\n",
       "      <td>153180188</td>\n",
       "      <td>False</td>\n",
       "      <td>ferrari 57 inmobiliaria</td>\n",
       "      <td>912177526.0</td>\n",
       "      <td>https://www.fotocasa.es/es/comprar/vivienda/ma...</td>\n",
       "      <td>2.0</td>\n",
       "      <td>2.0</td>\n",
       "      <td>106.0</td>\n",
       "      <td>172000</td>\n",
       "      <td>2019-12-28T18:27:15.9975027Z</td>\n",
       "      <td>...</td>\n",
       "      <td>0</td>\n",
       "      <td>0</td>\n",
       "      <td>0</td>\n",
       "      <td>0</td>\n",
       "      <td>0</td>\n",
       "      <td>0</td>\n",
       "      <td>40,2998774864376</td>\n",
       "      <td>-3,45226301356237</td>\n",
       "      <td>NaN</td>\n",
       "      <td>NaN</td>\n",
       "    </tr>\n",
       "  </tbody>\n",
       "</table>\n",
       "<p>5 rows × 36 columns</p>\n",
       "</div>"
      ],
      "text/plain": [
       "   id_realEstates  isNew                    realEstate_name  phone_realEstate  \\\n",
       "1       153771986  False            ferrari 57 inmobiliaria       912177526.0   \n",
       "2       153867863  False  tecnocasa fuenlabrada ferrocarril       916358736.0   \n",
       "3       153430440  False                 look find boadilla       916350408.0   \n",
       "4       152776331  False  tecnocasa fuenlabrada ferrocarril       916358736.0   \n",
       "5       153180188  False            ferrari 57 inmobiliaria       912177526.0   \n",
       "\n",
       "                                        url_inmueble  rooms  bathrooms  \\\n",
       "1  https://www.fotocasa.es/es/comprar/vivienda/ma...    3.0        2.0   \n",
       "2  https://www.fotocasa.es/es/comprar/vivienda/ma...    3.0        1.0   \n",
       "3  https://www.fotocasa.es/es/comprar/vivienda/ma...    2.0        2.0   \n",
       "4  https://www.fotocasa.es/es/comprar/vivienda/ma...    3.0        1.0   \n",
       "5  https://www.fotocasa.es/es/comprar/vivienda/ma...    2.0        2.0   \n",
       "\n",
       "   surface   price                          date  ... level4Id level5Id  \\\n",
       "1    103.0  195000  2019-12-28T18:27:15.9975027Z  ...        0        0   \n",
       "2      NaN   89000  2019-12-28T18:27:15.9975027Z  ...        0        0   \n",
       "3     99.0  390000  2019-12-28T18:27:15.9975027Z  ...        0        0   \n",
       "4     86.0   89000  2019-12-28T18:27:15.9975027Z  ...        0        0   \n",
       "5    106.0  172000  2019-12-28T18:27:15.9975027Z  ...        0        0   \n",
       "\n",
       "  level6Id level7Id level8Id accuracy          latitude          longitude  \\\n",
       "1        0        0        0        0  40,2948276786438  -3,44402412135624   \n",
       "2        0        0        0        1          40,28674           -3,79351   \n",
       "3        0        0        0        0  40,4115646786438  -3,90662252135624   \n",
       "4        0        0        0        0  40,2853785786438  -3,79508142135624   \n",
       "5        0        0        0        0  40,2998774864376  -3,45226301356237   \n",
       "\n",
       "  zipCode customZone  \n",
       "1     NaN        NaN  \n",
       "2     NaN        NaN  \n",
       "3     NaN        NaN  \n",
       "4     NaN        NaN  \n",
       "5     NaN        NaN  \n",
       "\n",
       "[5 rows x 36 columns]"
      ]
     },
     "metadata": {},
     "output_type": "display_data"
    }
   ],
   "source": [
    "import pandas as pd\n",
    "\n",
    "df = pd.read_csv('./assets/real_estate.csv',sep=';',index_col=[0])\n",
    "display(df.head(5))"
   ]
  },
  {
   "cell_type": "markdown",
   "id": "40631cd6",
   "metadata": {},
   "source": [
    "#### What is the most expensive home in the dataset? (★☆☆)"
   ]
  },
  {
   "cell_type": "code",
   "execution_count": 2,
   "id": "8a758bcf",
   "metadata": {},
   "outputs": [
    {
     "name": "stdout",
     "output_type": "stream",
     "text": [
      "8500000\n"
     ]
    },
    {
     "data": {
      "text/html": [
       "<div>\n",
       "<style scoped>\n",
       "    .dataframe tbody tr th:only-of-type {\n",
       "        vertical-align: middle;\n",
       "    }\n",
       "\n",
       "    .dataframe tbody tr th {\n",
       "        vertical-align: top;\n",
       "    }\n",
       "\n",
       "    .dataframe thead th {\n",
       "        text-align: right;\n",
       "    }\n",
       "</style>\n",
       "<table border=\"1\" class=\"dataframe\">\n",
       "  <thead>\n",
       "    <tr style=\"text-align: right;\">\n",
       "      <th></th>\n",
       "      <th>id_realEstates</th>\n",
       "      <th>isNew</th>\n",
       "      <th>realEstate_name</th>\n",
       "      <th>phone_realEstate</th>\n",
       "      <th>url_inmueble</th>\n",
       "      <th>rooms</th>\n",
       "      <th>bathrooms</th>\n",
       "      <th>surface</th>\n",
       "      <th>price</th>\n",
       "      <th>date</th>\n",
       "      <th>...</th>\n",
       "      <th>level4Id</th>\n",
       "      <th>level5Id</th>\n",
       "      <th>level6Id</th>\n",
       "      <th>level7Id</th>\n",
       "      <th>level8Id</th>\n",
       "      <th>accuracy</th>\n",
       "      <th>latitude</th>\n",
       "      <th>longitude</th>\n",
       "      <th>zipCode</th>\n",
       "      <th>customZone</th>\n",
       "    </tr>\n",
       "  </thead>\n",
       "  <tbody>\n",
       "    <tr>\n",
       "      <th>13111</th>\n",
       "      <td>132042636</td>\n",
       "      <td>False</td>\n",
       "      <td>engel volkers torrelodones</td>\n",
       "      <td>911798512.0</td>\n",
       "      <td>https://www.fotocasa.es/es/comprar/vivienda/vi...</td>\n",
       "      <td>19.0</td>\n",
       "      <td>NaN</td>\n",
       "      <td>NaN</td>\n",
       "      <td>8500000</td>\n",
       "      <td>2019-12-19T12:29:00Z</td>\n",
       "      <td>...</td>\n",
       "      <td>0</td>\n",
       "      <td>0</td>\n",
       "      <td>0</td>\n",
       "      <td>0</td>\n",
       "      <td>0</td>\n",
       "      <td>0</td>\n",
       "      <td>40,5830801751782</td>\n",
       "      <td>-4,12951942848611</td>\n",
       "      <td>NaN</td>\n",
       "      <td>NaN</td>\n",
       "    </tr>\n",
       "  </tbody>\n",
       "</table>\n",
       "<p>1 rows × 36 columns</p>\n",
       "</div>"
      ],
      "text/plain": [
       "       id_realEstates  isNew             realEstate_name  phone_realEstate  \\\n",
       "13111       132042636  False  engel volkers torrelodones       911798512.0   \n",
       "\n",
       "                                            url_inmueble  rooms  bathrooms  \\\n",
       "13111  https://www.fotocasa.es/es/comprar/vivienda/vi...   19.0        NaN   \n",
       "\n",
       "       surface    price                  date  ... level4Id level5Id level6Id  \\\n",
       "13111      NaN  8500000  2019-12-19T12:29:00Z  ...        0        0        0   \n",
       "\n",
       "      level7Id level8Id accuracy          latitude          longitude zipCode  \\\n",
       "13111        0        0        0  40,5830801751782  -4,12951942848611     NaN   \n",
       "\n",
       "      customZone  \n",
       "13111        NaN  \n",
       "\n",
       "[1 rows x 36 columns]"
      ]
     },
     "metadata": {},
     "output_type": "display_data"
    }
   ],
   "source": [
    "max_price = df['price'].max()\n",
    "\n",
    "print(max_price)\n",
    "\n",
    "x= df.loc[df['price']==max_price]\n",
    "display(x)"
   ]
  },
  {
   "cell_type": "markdown",
   "id": "0a708990",
   "metadata": {},
   "source": [
    "#### What is cheapest home in the dataset? (★☆☆)"
   ]
  },
  {
   "cell_type": "code",
   "execution_count": 3,
   "id": "477e01f4",
   "metadata": {},
   "outputs": [
    {
     "name": "stdout",
     "output_type": "stream",
     "text": [
      "600\n"
     ]
    },
    {
     "data": {
      "text/html": [
       "<div>\n",
       "<style scoped>\n",
       "    .dataframe tbody tr th:only-of-type {\n",
       "        vertical-align: middle;\n",
       "    }\n",
       "\n",
       "    .dataframe tbody tr th {\n",
       "        vertical-align: top;\n",
       "    }\n",
       "\n",
       "    .dataframe thead th {\n",
       "        text-align: right;\n",
       "    }\n",
       "</style>\n",
       "<table border=\"1\" class=\"dataframe\">\n",
       "  <thead>\n",
       "    <tr style=\"text-align: right;\">\n",
       "      <th></th>\n",
       "      <th>id_realEstates</th>\n",
       "      <th>isNew</th>\n",
       "      <th>realEstate_name</th>\n",
       "      <th>phone_realEstate</th>\n",
       "      <th>url_inmueble</th>\n",
       "      <th>rooms</th>\n",
       "      <th>bathrooms</th>\n",
       "      <th>surface</th>\n",
       "      <th>price</th>\n",
       "      <th>date</th>\n",
       "      <th>...</th>\n",
       "      <th>level4Id</th>\n",
       "      <th>level5Id</th>\n",
       "      <th>level6Id</th>\n",
       "      <th>level7Id</th>\n",
       "      <th>level8Id</th>\n",
       "      <th>accuracy</th>\n",
       "      <th>latitude</th>\n",
       "      <th>longitude</th>\n",
       "      <th>zipCode</th>\n",
       "      <th>customZone</th>\n",
       "    </tr>\n",
       "  </thead>\n",
       "  <tbody>\n",
       "    <tr>\n",
       "      <th>7492</th>\n",
       "      <td>153977752</td>\n",
       "      <td>False</td>\n",
       "      <td>redpiso coslada</td>\n",
       "      <td>910759552.0</td>\n",
       "      <td>https://www.fotocasa.es/es/comprar/vivienda/ma...</td>\n",
       "      <td>3.0</td>\n",
       "      <td>1.0</td>\n",
       "      <td>80.0</td>\n",
       "      <td>600</td>\n",
       "      <td>2019-12-24T12:56:00Z</td>\n",
       "      <td>...</td>\n",
       "      <td>0</td>\n",
       "      <td>0</td>\n",
       "      <td>0</td>\n",
       "      <td>0</td>\n",
       "      <td>0</td>\n",
       "      <td>0</td>\n",
       "      <td>40,41869</td>\n",
       "      <td>-3,54004</td>\n",
       "      <td>NaN</td>\n",
       "      <td>NaN</td>\n",
       "    </tr>\n",
       "  </tbody>\n",
       "</table>\n",
       "<p>1 rows × 36 columns</p>\n",
       "</div>"
      ],
      "text/plain": [
       "      id_realEstates  isNew  realEstate_name  phone_realEstate  \\\n",
       "7492       153977752  False  redpiso coslada       910759552.0   \n",
       "\n",
       "                                           url_inmueble  rooms  bathrooms  \\\n",
       "7492  https://www.fotocasa.es/es/comprar/vivienda/ma...    3.0        1.0   \n",
       "\n",
       "      surface  price                  date  ... level4Id level5Id level6Id  \\\n",
       "7492     80.0    600  2019-12-24T12:56:00Z  ...        0        0        0   \n",
       "\n",
       "     level7Id level8Id accuracy  latitude longitude zipCode customZone  \n",
       "7492        0        0        0  40,41869  -3,54004     NaN        NaN  \n",
       "\n",
       "[1 rows x 36 columns]"
      ]
     },
     "metadata": {},
     "output_type": "display_data"
    }
   ],
   "source": [
    "\n",
    "t = df.loc[df['price']>0]\n",
    "min_price = t['price'].min()\n",
    "\n",
    "print(min_price)\n",
    "\n",
    "x = t.loc[t['price']==min_price]\n",
    "display(x)"
   ]
  },
  {
   "cell_type": "markdown",
   "id": "0b16cd77",
   "metadata": {},
   "source": [
    "#### What is the biggest and the smallest home in the dataset? (★☆☆)"
   ]
  },
  {
   "cell_type": "code",
   "execution_count": 4,
   "id": "4d9b5975",
   "metadata": {},
   "outputs": [
    {
     "name": "stdout",
     "output_type": "stream",
     "text": [
      "249000.0\n",
      "15.0\n"
     ]
    },
    {
     "data": {
      "text/html": [
       "<div>\n",
       "<style scoped>\n",
       "    .dataframe tbody tr th:only-of-type {\n",
       "        vertical-align: middle;\n",
       "    }\n",
       "\n",
       "    .dataframe tbody tr th {\n",
       "        vertical-align: top;\n",
       "    }\n",
       "\n",
       "    .dataframe thead th {\n",
       "        text-align: right;\n",
       "    }\n",
       "</style>\n",
       "<table border=\"1\" class=\"dataframe\">\n",
       "  <thead>\n",
       "    <tr style=\"text-align: right;\">\n",
       "      <th></th>\n",
       "      <th>id_realEstates</th>\n",
       "      <th>isNew</th>\n",
       "      <th>realEstate_name</th>\n",
       "      <th>phone_realEstate</th>\n",
       "      <th>url_inmueble</th>\n",
       "      <th>rooms</th>\n",
       "      <th>bathrooms</th>\n",
       "      <th>surface</th>\n",
       "      <th>price</th>\n",
       "      <th>date</th>\n",
       "      <th>...</th>\n",
       "      <th>level4Id</th>\n",
       "      <th>level5Id</th>\n",
       "      <th>level6Id</th>\n",
       "      <th>level7Id</th>\n",
       "      <th>level8Id</th>\n",
       "      <th>accuracy</th>\n",
       "      <th>latitude</th>\n",
       "      <th>longitude</th>\n",
       "      <th>zipCode</th>\n",
       "      <th>customZone</th>\n",
       "    </tr>\n",
       "  </thead>\n",
       "  <tbody>\n",
       "    <tr>\n",
       "      <th>499</th>\n",
       "      <td>152817874</td>\n",
       "      <td>False</td>\n",
       "      <td>toledo21</td>\n",
       "      <td>910757382.0</td>\n",
       "      <td>https://www.fotocasa.es/es/comprar/vivienda/ma...</td>\n",
       "      <td>1.0</td>\n",
       "      <td>1.0</td>\n",
       "      <td>15.0</td>\n",
       "      <td>85000</td>\n",
       "      <td>2019-12-28T19:04:44.6433814Z</td>\n",
       "      <td>...</td>\n",
       "      <td>0</td>\n",
       "      <td>0</td>\n",
       "      <td>0</td>\n",
       "      <td>0</td>\n",
       "      <td>0</td>\n",
       "      <td>0</td>\n",
       "      <td>40,40818</td>\n",
       "      <td>-3,70192</td>\n",
       "      <td>NaN</td>\n",
       "      <td>NaN</td>\n",
       "    </tr>\n",
       "    <tr>\n",
       "      <th>6795</th>\n",
       "      <td>153936192</td>\n",
       "      <td>False</td>\n",
       "      <td>habitarium inmobiliaria</td>\n",
       "      <td>916357732.0</td>\n",
       "      <td>https://www.fotocasa.es/es/comprar/vivienda/ma...</td>\n",
       "      <td>3.0</td>\n",
       "      <td>2.0</td>\n",
       "      <td>249000.0</td>\n",
       "      <td>289000</td>\n",
       "      <td>2019-12-25T18:30:00Z</td>\n",
       "      <td>...</td>\n",
       "      <td>0</td>\n",
       "      <td>0</td>\n",
       "      <td>0</td>\n",
       "      <td>0</td>\n",
       "      <td>0</td>\n",
       "      <td>0</td>\n",
       "      <td>40,34633</td>\n",
       "      <td>-4,02174</td>\n",
       "      <td>NaN</td>\n",
       "      <td>NaN</td>\n",
       "    </tr>\n",
       "  </tbody>\n",
       "</table>\n",
       "<p>2 rows × 36 columns</p>\n",
       "</div>"
      ],
      "text/plain": [
       "      id_realEstates  isNew          realEstate_name  phone_realEstate  \\\n",
       "499        152817874  False                 toledo21       910757382.0   \n",
       "6795       153936192  False  habitarium inmobiliaria       916357732.0   \n",
       "\n",
       "                                           url_inmueble  rooms  bathrooms  \\\n",
       "499   https://www.fotocasa.es/es/comprar/vivienda/ma...    1.0        1.0   \n",
       "6795  https://www.fotocasa.es/es/comprar/vivienda/ma...    3.0        2.0   \n",
       "\n",
       "       surface   price                          date  ... level4Id level5Id  \\\n",
       "499       15.0   85000  2019-12-28T19:04:44.6433814Z  ...        0        0   \n",
       "6795  249000.0  289000          2019-12-25T18:30:00Z  ...        0        0   \n",
       "\n",
       "     level6Id level7Id level8Id accuracy  latitude longitude zipCode  \\\n",
       "499         0        0        0        0  40,40818  -3,70192     NaN   \n",
       "6795        0        0        0        0  40,34633  -4,02174     NaN   \n",
       "\n",
       "     customZone  \n",
       "499         NaN  \n",
       "6795        NaN  \n",
       "\n",
       "[2 rows x 36 columns]"
      ]
     },
     "metadata": {},
     "output_type": "display_data"
    }
   ],
   "source": [
    "max_surface = df['surface'].max()\n",
    "print(max_surface)\n",
    "biggest_home= df.loc[df['surface']==max_surface]\n",
    "\n",
    "min_surface = df['surface'].min()\n",
    "print(min_surface)\n",
    "smallest_home = df.loc[df['surface']==min_surface]\n",
    "\n",
    "result = pd.concat([smallest_home,biggest_home])\n",
    "display(result)"
   ]
  },
  {
   "cell_type": "markdown",
   "id": "782d4c77",
   "metadata": {},
   "source": [
    "#### How many populations (level5) the dataset contains? (★☆☆)"
   ]
  },
  {
   "cell_type": "code",
   "execution_count": 5,
   "id": "5dbe1a08",
   "metadata": {},
   "outputs": [
    {
     "name": "stdout",
     "output_type": "stream",
     "text": [
      "168\n"
     ]
    }
   ],
   "source": [
    "\n",
    "print(len(df.groupby('level5')))"
   ]
  },
  {
   "cell_type": "markdown",
   "id": "48d48f01",
   "metadata": {},
   "source": [
    "#### Does the dataset contain NAs? (★☆☆)\n"
   ]
  },
  {
   "cell_type": "code",
   "execution_count": 6,
   "id": "3ed233e7",
   "metadata": {},
   "outputs": [
    {
     "name": "stdout",
     "output_type": "stream",
     "text": [
      "id_realEstates          0\n",
      "isNew                   0\n",
      "realEstate_name        10\n",
      "phone_realEstate      794\n",
      "url_inmueble            0\n",
      "rooms                 353\n",
      "bathrooms             345\n",
      "surface              1250\n",
      "price                   0\n",
      "date                    0\n",
      "description           142\n",
      "address                 0\n",
      "country                 0\n",
      "level1                  0\n",
      "level2                  0\n",
      "level3                  0\n",
      "level4               6643\n",
      "level5                  0\n",
      "level6              14627\n",
      "level7               2277\n",
      "level8               8579\n",
      "upperLevel              0\n",
      "countryId               0\n",
      "level1Id                0\n",
      "level2Id                0\n",
      "level3Id                0\n",
      "level4Id                0\n",
      "level5Id                0\n",
      "level6Id                0\n",
      "level7Id                0\n",
      "level8Id                0\n",
      "accuracy                0\n",
      "latitude                0\n",
      "longitude               0\n",
      "zipCode             15335\n",
      "customZone          15335\n",
      "dtype: int64\n"
     ]
    }
   ],
   "source": [
    "x=df.isnull().sum()\n",
    "print(x)\n"
   ]
  },
  {
   "cell_type": "markdown",
   "id": "4fa39382",
   "metadata": {},
   "source": [
    "#### Delete the NAs of the dataset, if applicable (★★☆)"
   ]
  },
  {
   "cell_type": "code",
   "execution_count": 7,
   "id": "c97757ec",
   "metadata": {},
   "outputs": [
    {
     "data": {
      "text/html": [
       "<div>\n",
       "<style scoped>\n",
       "    .dataframe tbody tr th:only-of-type {\n",
       "        vertical-align: middle;\n",
       "    }\n",
       "\n",
       "    .dataframe tbody tr th {\n",
       "        vertical-align: top;\n",
       "    }\n",
       "\n",
       "    .dataframe thead th {\n",
       "        text-align: right;\n",
       "    }\n",
       "</style>\n",
       "<table border=\"1\" class=\"dataframe\">\n",
       "  <thead>\n",
       "    <tr style=\"text-align: right;\">\n",
       "      <th></th>\n",
       "      <th>id_realEstates</th>\n",
       "      <th>isNew</th>\n",
       "      <th>realEstate_name</th>\n",
       "      <th>phone_realEstate</th>\n",
       "      <th>url_inmueble</th>\n",
       "      <th>rooms</th>\n",
       "      <th>bathrooms</th>\n",
       "      <th>surface</th>\n",
       "      <th>price</th>\n",
       "      <th>date</th>\n",
       "      <th>...</th>\n",
       "      <th>level4Id</th>\n",
       "      <th>level5Id</th>\n",
       "      <th>level6Id</th>\n",
       "      <th>level7Id</th>\n",
       "      <th>level8Id</th>\n",
       "      <th>accuracy</th>\n",
       "      <th>latitude</th>\n",
       "      <th>longitude</th>\n",
       "      <th>zipCode</th>\n",
       "      <th>customZone</th>\n",
       "    </tr>\n",
       "  </thead>\n",
       "  <tbody>\n",
       "  </tbody>\n",
       "</table>\n",
       "<p>0 rows × 36 columns</p>\n",
       "</div>"
      ],
      "text/plain": [
       "Empty DataFrame\n",
       "Columns: [id_realEstates, isNew, realEstate_name, phone_realEstate, url_inmueble, rooms, bathrooms, surface, price, date, description, address, country, level1, level2, level3, level4, level5, level6, level7, level8, upperLevel, countryId, level1Id, level2Id, level3Id, level4Id, level5Id, level6Id, level7Id, level8Id, accuracy, latitude, longitude, zipCode, customZone]\n",
       "Index: []\n",
       "\n",
       "[0 rows x 36 columns]"
      ]
     },
     "metadata": {},
     "output_type": "display_data"
    },
    {
     "name": "stdout",
     "output_type": "stream",
     "text": [
      "not applicable\n"
     ]
    }
   ],
   "source": [
    "x = df.dropna()\n",
    "display(x)\n",
    "print('not applicable')"
   ]
  },
  {
   "cell_type": "markdown",
   "id": "0e5f76de",
   "metadata": {},
   "source": [
    "#### What is the mean of prices in the population (level5) of \"Arroyomolinos (Madrid)\"? (★★☆)"
   ]
  },
  {
   "cell_type": "code",
   "execution_count": 8,
   "id": "327f7adb",
   "metadata": {},
   "outputs": [
    {
     "name": "stdout",
     "output_type": "stream",
     "text": [
      "294541.59854014596\n"
     ]
    }
   ],
   "source": [
    "x = df.loc[df['level5']=='Arroyomolinos (Madrid)']\n",
    "\n",
    "mean = x['price'].mean()\n",
    "\n",
    "print(mean)\n",
    "\n"
   ]
  },
  {
   "cell_type": "markdown",
   "id": "89b548e3",
   "metadata": {},
   "source": [
    "#### Plot the histogram of prices for the population (level5) of \"Arroyomolinos (Madrid)\" and explain what you observe (★★☆)"
   ]
  },
  {
   "cell_type": "code",
   "execution_count": 148,
   "id": "2ba51bf7",
   "metadata": {},
   "outputs": [
    {
     "data": {
      "image/png": "[encoded data removed]",
      "text/plain": [
       "<Figure size 432x288 with 1 Axes>"
      ]
     },
     "metadata": {
      "needs_background": "light"
     },
     "output_type": "display_data"
    }
   ],
   "source": [
    "import matplotlib.pyplot as plt\n",
    "\n",
    "t = df.loc[df['level5']=='Arroyomolinos (Madrid)']\n",
    "\n",
    "t['price'].plot(kind = 'hist',bins=100)\n",
    "\n",
    "\n",
    "plt.title('PriceS for Arroyomolinos (Madrid)')\n",
    "plt.xlabel('prices')\n",
    "plt.ylabel('n. of houses')\n",
    "plt.show()\n"
   ]
  },
  {
   "cell_type": "markdown",
   "id": "c86dc493",
   "metadata": {},
   "source": [
    "#### Now let's work with the \"south belt\" of madrid. Make a subsetting that contains the following populations (level5): \"Fuenlabrada\",\"Leganés\",\"Getafe\",\"Alcorcón\" (★★☆) "
   ]
  },
  {
   "cell_type": "code",
   "execution_count": 10,
   "id": "5280d0cb",
   "metadata": {},
   "outputs": [
    {
     "data": {
      "text/html": [
       "<div>\n",
       "<style scoped>\n",
       "    .dataframe tbody tr th:only-of-type {\n",
       "        vertical-align: middle;\n",
       "    }\n",
       "\n",
       "    .dataframe tbody tr th {\n",
       "        vertical-align: top;\n",
       "    }\n",
       "\n",
       "    .dataframe thead th {\n",
       "        text-align: right;\n",
       "    }\n",
       "</style>\n",
       "<table border=\"1\" class=\"dataframe\">\n",
       "  <thead>\n",
       "    <tr style=\"text-align: right;\">\n",
       "      <th></th>\n",
       "      <th>id_realEstates</th>\n",
       "      <th>isNew</th>\n",
       "      <th>realEstate_name</th>\n",
       "      <th>phone_realEstate</th>\n",
       "      <th>url_inmueble</th>\n",
       "      <th>rooms</th>\n",
       "      <th>bathrooms</th>\n",
       "      <th>surface</th>\n",
       "      <th>price</th>\n",
       "      <th>date</th>\n",
       "      <th>...</th>\n",
       "      <th>level4Id</th>\n",
       "      <th>level5Id</th>\n",
       "      <th>level6Id</th>\n",
       "      <th>level7Id</th>\n",
       "      <th>level8Id</th>\n",
       "      <th>accuracy</th>\n",
       "      <th>latitude</th>\n",
       "      <th>longitude</th>\n",
       "      <th>zipCode</th>\n",
       "      <th>customZone</th>\n",
       "    </tr>\n",
       "  </thead>\n",
       "  <tbody>\n",
       "    <tr>\n",
       "      <th>2</th>\n",
       "      <td>153867863</td>\n",
       "      <td>False</td>\n",
       "      <td>tecnocasa fuenlabrada ferrocarril</td>\n",
       "      <td>916358736.0</td>\n",
       "      <td>https://www.fotocasa.es/es/comprar/vivienda/ma...</td>\n",
       "      <td>3.0</td>\n",
       "      <td>1.0</td>\n",
       "      <td>NaN</td>\n",
       "      <td>89000</td>\n",
       "      <td>2019-12-28T18:27:15.9975027Z</td>\n",
       "      <td>...</td>\n",
       "      <td>0</td>\n",
       "      <td>0</td>\n",
       "      <td>0</td>\n",
       "      <td>0</td>\n",
       "      <td>0</td>\n",
       "      <td>1</td>\n",
       "      <td>40,28674</td>\n",
       "      <td>-3,79351</td>\n",
       "      <td>NaN</td>\n",
       "      <td>NaN</td>\n",
       "    </tr>\n",
       "    <tr>\n",
       "      <th>4</th>\n",
       "      <td>152776331</td>\n",
       "      <td>False</td>\n",
       "      <td>tecnocasa fuenlabrada ferrocarril</td>\n",
       "      <td>916358736.0</td>\n",
       "      <td>https://www.fotocasa.es/es/comprar/vivienda/ma...</td>\n",
       "      <td>3.0</td>\n",
       "      <td>1.0</td>\n",
       "      <td>86.0</td>\n",
       "      <td>89000</td>\n",
       "      <td>2019-12-28T18:27:15.9975027Z</td>\n",
       "      <td>...</td>\n",
       "      <td>0</td>\n",
       "      <td>0</td>\n",
       "      <td>0</td>\n",
       "      <td>0</td>\n",
       "      <td>0</td>\n",
       "      <td>0</td>\n",
       "      <td>40,2853785786438</td>\n",
       "      <td>-3,79508142135624</td>\n",
       "      <td>NaN</td>\n",
       "      <td>NaN</td>\n",
       "    </tr>\n",
       "    <tr>\n",
       "      <th>86</th>\n",
       "      <td>153152077</td>\n",
       "      <td>False</td>\n",
       "      <td>sinergical inmobiliaria</td>\n",
       "      <td>NaN</td>\n",
       "      <td>https://www.fotocasa.es/es/comprar/vivienda/le...</td>\n",
       "      <td>1.0</td>\n",
       "      <td>1.0</td>\n",
       "      <td>50.0</td>\n",
       "      <td>107000</td>\n",
       "      <td>2019-12-28T18:30:53.960102Z</td>\n",
       "      <td>...</td>\n",
       "      <td>0</td>\n",
       "      <td>0</td>\n",
       "      <td>0</td>\n",
       "      <td>0</td>\n",
       "      <td>0</td>\n",
       "      <td>1</td>\n",
       "      <td>40,35059</td>\n",
       "      <td>-3,82693</td>\n",
       "      <td>NaN</td>\n",
       "      <td>NaN</td>\n",
       "    </tr>\n",
       "    <tr>\n",
       "      <th>95</th>\n",
       "      <td>153995577</td>\n",
       "      <td>False</td>\n",
       "      <td>viviendas365com</td>\n",
       "      <td>911226014.0</td>\n",
       "      <td>https://www.fotocasa.es/es/comprar/vivienda/le...</td>\n",
       "      <td>3.0</td>\n",
       "      <td>2.0</td>\n",
       "      <td>120.0</td>\n",
       "      <td>320000</td>\n",
       "      <td>2019-12-28T18:30:53.960102Z</td>\n",
       "      <td>...</td>\n",
       "      <td>0</td>\n",
       "      <td>0</td>\n",
       "      <td>0</td>\n",
       "      <td>0</td>\n",
       "      <td>0</td>\n",
       "      <td>0</td>\n",
       "      <td>40,31933</td>\n",
       "      <td>-3,77574</td>\n",
       "      <td>NaN</td>\n",
       "      <td>NaN</td>\n",
       "    </tr>\n",
       "    <tr>\n",
       "      <th>110</th>\n",
       "      <td>153586414</td>\n",
       "      <td>False</td>\n",
       "      <td>area uno asesores inmobiliarios</td>\n",
       "      <td>912664081.0</td>\n",
       "      <td>https://www.fotocasa.es/es/comprar/vivienda/ma...</td>\n",
       "      <td>3.0</td>\n",
       "      <td>3.0</td>\n",
       "      <td>142.0</td>\n",
       "      <td>425000</td>\n",
       "      <td>2019-12-28T18:32:32.5337942Z</td>\n",
       "      <td>...</td>\n",
       "      <td>0</td>\n",
       "      <td>0</td>\n",
       "      <td>0</td>\n",
       "      <td>0</td>\n",
       "      <td>0</td>\n",
       "      <td>0</td>\n",
       "      <td>40,3313411</td>\n",
       "      <td>-3,8313868</td>\n",
       "      <td>NaN</td>\n",
       "      <td>NaN</td>\n",
       "    </tr>\n",
       "  </tbody>\n",
       "</table>\n",
       "<p>5 rows × 36 columns</p>\n",
       "</div>"
      ],
      "text/plain": [
       "     id_realEstates  isNew                    realEstate_name  \\\n",
       "2         153867863  False  tecnocasa fuenlabrada ferrocarril   \n",
       "4         152776331  False  tecnocasa fuenlabrada ferrocarril   \n",
       "86        153152077  False            sinergical inmobiliaria   \n",
       "95        153995577  False                    viviendas365com   \n",
       "110       153586414  False    area uno asesores inmobiliarios   \n",
       "\n",
       "     phone_realEstate                                       url_inmueble  \\\n",
       "2         916358736.0  https://www.fotocasa.es/es/comprar/vivienda/ma...   \n",
       "4         916358736.0  https://www.fotocasa.es/es/comprar/vivienda/ma...   \n",
       "86                NaN  https://www.fotocasa.es/es/comprar/vivienda/le...   \n",
       "95        911226014.0  https://www.fotocasa.es/es/comprar/vivienda/le...   \n",
       "110       912664081.0  https://www.fotocasa.es/es/comprar/vivienda/ma...   \n",
       "\n",
       "     rooms  bathrooms  surface   price                          date  ...  \\\n",
       "2      3.0        1.0      NaN   89000  2019-12-28T18:27:15.9975027Z  ...   \n",
       "4      3.0        1.0     86.0   89000  2019-12-28T18:27:15.9975027Z  ...   \n",
       "86     1.0        1.0     50.0  107000   2019-12-28T18:30:53.960102Z  ...   \n",
       "95     3.0        2.0    120.0  320000   2019-12-28T18:30:53.960102Z  ...   \n",
       "110    3.0        3.0    142.0  425000  2019-12-28T18:32:32.5337942Z  ...   \n",
       "\n",
       "    level4Id level5Id level6Id level7Id level8Id accuracy          latitude  \\\n",
       "2          0        0        0        0        0        1          40,28674   \n",
       "4          0        0        0        0        0        0  40,2853785786438   \n",
       "86         0        0        0        0        0        1          40,35059   \n",
       "95         0        0        0        0        0        0          40,31933   \n",
       "110        0        0        0        0        0        0        40,3313411   \n",
       "\n",
       "             longitude zipCode customZone  \n",
       "2             -3,79351     NaN        NaN  \n",
       "4    -3,79508142135624     NaN        NaN  \n",
       "86            -3,82693     NaN        NaN  \n",
       "95            -3,77574     NaN        NaN  \n",
       "110         -3,8313868     NaN        NaN  \n",
       "\n",
       "[5 rows x 36 columns]"
      ]
     },
     "metadata": {},
     "output_type": "display_data"
    }
   ],
   "source": [
    "south_belt = df.loc[df['level5'].isin([\"Fuenlabrada\",\"Leganés\",\"Getafe\",\"Alcorcón\"])]\n",
    "\n",
    "display(south_belt.head(5))"
   ]
  },
  {
   "cell_type": "markdown",
   "id": "090a6a3e",
   "metadata": {},
   "source": [
    "#### Make a bar plot of the median of prices (★★★) "
   ]
  },
  {
   "cell_type": "code",
   "execution_count": 11,
   "id": "68aec11c",
   "metadata": {},
   "outputs": [
    {
     "data": {
      "image/png": "[encoded data removed]",
      "text/plain": [
       "<Figure size 1080x720 with 1 Axes>"
      ]
     },
     "metadata": {
      "needs_background": "light"
     },
     "output_type": "display_data"
    }
   ],
   "source": [
    "import matplotlib.pyplot as plt\n",
    "\n",
    "fig = plt.figure()\n",
    "\n",
    "south_belt.groupby('level5')['price'].median().plot.bar()\n",
    "\n",
    "\n",
    "\n",
    "plt.title('Median of price per zone')\n",
    "plt.xlabel('zone')\n",
    "plt.ylabel('median')\n",
    "fig.set_size_inches(15, 10)\n",
    "\n",
    "\n",
    "plt.show()"
   ]
  },
  {
   "cell_type": "markdown",
   "id": "18f67373",
   "metadata": {},
   "source": [
    "#### Calculate the sample mean and variance of the variables: price, rooms, surface area and bathrooms (★★★) "
   ]
  },
  {
   "cell_type": "code",
   "execution_count": 12,
   "id": "8d068061",
   "metadata": {},
   "outputs": [
    {
     "name": "stdout",
     "output_type": "stream",
     "text": [
      "mean:\n",
      " rooms             3.017738\n",
      "price        223094.480706\n",
      "surface         111.752224\n",
      "bathrooms         1.633222\n",
      "dtype: float64\n",
      "variance:\n",
      " rooms        7.188859e-01\n",
      "price        1.492137e+10\n",
      "surface      4.263052e+03\n",
      "bathrooms    5.717969e-01\n",
      "dtype: float64\n"
     ]
    }
   ],
   "source": [
    "t = south_belt[['rooms','price','surface','bathrooms']]\n",
    "\n",
    "print('mean:\\n',t.mean(axis=0))\n",
    "print('variance:\\n',t.var(axis=0))\n",
    "\n"
   ]
  },
  {
   "cell_type": "markdown",
   "id": "95cfde61",
   "metadata": {},
   "source": [
    "#### What is the most expensive home of each population? (★★☆) "
   ]
  },
  {
   "cell_type": "code",
   "execution_count": 13,
   "id": "1c29f78c",
   "metadata": {},
   "outputs": [
    {
     "data": {
      "text/html": [
       "<div>\n",
       "<style scoped>\n",
       "    .dataframe tbody tr th:only-of-type {\n",
       "        vertical-align: middle;\n",
       "    }\n",
       "\n",
       "    .dataframe tbody tr th {\n",
       "        vertical-align: top;\n",
       "    }\n",
       "\n",
       "    .dataframe thead th {\n",
       "        text-align: right;\n",
       "    }\n",
       "</style>\n",
       "<table border=\"1\" class=\"dataframe\">\n",
       "  <thead>\n",
       "    <tr style=\"text-align: right;\">\n",
       "      <th></th>\n",
       "      <th>id_realEstates</th>\n",
       "      <th>isNew</th>\n",
       "      <th>realEstate_name</th>\n",
       "      <th>phone_realEstate</th>\n",
       "      <th>url_inmueble</th>\n",
       "      <th>rooms</th>\n",
       "      <th>bathrooms</th>\n",
       "      <th>surface</th>\n",
       "      <th>price</th>\n",
       "      <th>date</th>\n",
       "      <th>...</th>\n",
       "      <th>level4Id</th>\n",
       "      <th>level5Id</th>\n",
       "      <th>level6Id</th>\n",
       "      <th>level7Id</th>\n",
       "      <th>level8Id</th>\n",
       "      <th>accuracy</th>\n",
       "      <th>latitude</th>\n",
       "      <th>longitude</th>\n",
       "      <th>zipCode</th>\n",
       "      <th>customZone</th>\n",
       "    </tr>\n",
       "  </thead>\n",
       "  <tbody>\n",
       "    <tr>\n",
       "      <th>2882</th>\n",
       "      <td>151105544</td>\n",
       "      <td>False</td>\n",
       "      <td>unna grupo inmobiliario</td>\n",
       "      <td>912665694.0</td>\n",
       "      <td>https://www.fotocasa.es/es/comprar/vivienda/ma...</td>\n",
       "      <td>6.0</td>\n",
       "      <td>4.0</td>\n",
       "      <td>600.0</td>\n",
       "      <td>1050000</td>\n",
       "      <td>2019-12-27T15:59:00Z</td>\n",
       "      <td>...</td>\n",
       "      <td>0</td>\n",
       "      <td>0</td>\n",
       "      <td>0</td>\n",
       "      <td>0</td>\n",
       "      <td>0</td>\n",
       "      <td>0</td>\n",
       "      <td>40,302820239187</td>\n",
       "      <td>-3,7281704612835</td>\n",
       "      <td>NaN</td>\n",
       "      <td>NaN</td>\n",
       "    </tr>\n",
       "    <tr>\n",
       "      <th>5586</th>\n",
       "      <td>153275915</td>\n",
       "      <td>False</td>\n",
       "      <td>100 home red inmobiliaria</td>\n",
       "      <td>912669623.0</td>\n",
       "      <td>https://www.fotocasa.es/es/comprar/vivienda/ca...</td>\n",
       "      <td>6.0</td>\n",
       "      <td>6.0</td>\n",
       "      <td>722.0</td>\n",
       "      <td>950000</td>\n",
       "      <td>2019-12-26T11:01:00Z</td>\n",
       "      <td>...</td>\n",
       "      <td>0</td>\n",
       "      <td>0</td>\n",
       "      <td>0</td>\n",
       "      <td>0</td>\n",
       "      <td>0</td>\n",
       "      <td>0</td>\n",
       "      <td>40,3535169</td>\n",
       "      <td>-3,8664683</td>\n",
       "      <td>NaN</td>\n",
       "      <td>NaN</td>\n",
       "    </tr>\n",
       "    <tr>\n",
       "      <th>10413</th>\n",
       "      <td>152251506</td>\n",
       "      <td>False</td>\n",
       "      <td>bafre gestion y servicios inmobiliarios</td>\n",
       "      <td>910752245.0</td>\n",
       "      <td>https://www.fotocasa.es/es/comprar/vivienda/co...</td>\n",
       "      <td>6.0</td>\n",
       "      <td>5.0</td>\n",
       "      <td>360.0</td>\n",
       "      <td>650000</td>\n",
       "      <td>2019-12-21T16:00:00Z</td>\n",
       "      <td>...</td>\n",
       "      <td>0</td>\n",
       "      <td>0</td>\n",
       "      <td>0</td>\n",
       "      <td>0</td>\n",
       "      <td>0</td>\n",
       "      <td>0</td>\n",
       "      <td>40,3423636291504</td>\n",
       "      <td>-3,74814414978027</td>\n",
       "      <td>NaN</td>\n",
       "      <td>NaN</td>\n",
       "    </tr>\n",
       "    <tr>\n",
       "      <th>11562</th>\n",
       "      <td>153660921</td>\n",
       "      <td>False</td>\n",
       "      <td>unna madrid</td>\n",
       "      <td>912780846.0</td>\n",
       "      <td>https://www.fotocasa.es/es/comprar/vivienda/va...</td>\n",
       "      <td>4.0</td>\n",
       "      <td>3.0</td>\n",
       "      <td>274.0</td>\n",
       "      <td>490000</td>\n",
       "      <td>2019-12-20T10:31:00Z</td>\n",
       "      <td>...</td>\n",
       "      <td>0</td>\n",
       "      <td>0</td>\n",
       "      <td>0</td>\n",
       "      <td>0</td>\n",
       "      <td>0</td>\n",
       "      <td>1</td>\n",
       "      <td>40,28286</td>\n",
       "      <td>-3,81475</td>\n",
       "      <td>NaN</td>\n",
       "      <td>NaN</td>\n",
       "    </tr>\n",
       "  </tbody>\n",
       "</table>\n",
       "<p>4 rows × 36 columns</p>\n",
       "</div>"
      ],
      "text/plain": [
       "       id_realEstates  isNew                          realEstate_name  \\\n",
       "2882        151105544  False                  unna grupo inmobiliario   \n",
       "5586        153275915  False                100 home red inmobiliaria   \n",
       "10413       152251506  False  bafre gestion y servicios inmobiliarios   \n",
       "11562       153660921  False                              unna madrid   \n",
       "\n",
       "       phone_realEstate                                       url_inmueble  \\\n",
       "2882        912665694.0  https://www.fotocasa.es/es/comprar/vivienda/ma...   \n",
       "5586        912669623.0  https://www.fotocasa.es/es/comprar/vivienda/ca...   \n",
       "10413       910752245.0  https://www.fotocasa.es/es/comprar/vivienda/co...   \n",
       "11562       912780846.0  https://www.fotocasa.es/es/comprar/vivienda/va...   \n",
       "\n",
       "       rooms  bathrooms  surface    price                  date  ... level4Id  \\\n",
       "2882     6.0        4.0    600.0  1050000  2019-12-27T15:59:00Z  ...        0   \n",
       "5586     6.0        6.0    722.0   950000  2019-12-26T11:01:00Z  ...        0   \n",
       "10413    6.0        5.0    360.0   650000  2019-12-21T16:00:00Z  ...        0   \n",
       "11562    4.0        3.0    274.0   490000  2019-12-20T10:31:00Z  ...        0   \n",
       "\n",
       "      level5Id level6Id level7Id level8Id accuracy          latitude  \\\n",
       "2882         0        0        0        0        0   40,302820239187   \n",
       "5586         0        0        0        0        0        40,3535169   \n",
       "10413        0        0        0        0        0  40,3423636291504   \n",
       "11562        0        0        0        0        1          40,28286   \n",
       "\n",
       "               longitude zipCode customZone  \n",
       "2882    -3,7281704612835     NaN        NaN  \n",
       "5586          -3,8664683     NaN        NaN  \n",
       "10413  -3,74814414978027     NaN        NaN  \n",
       "11562           -3,81475     NaN        NaN  \n",
       "\n",
       "[4 rows x 36 columns]"
      ]
     },
     "metadata": {},
     "output_type": "display_data"
    }
   ],
   "source": [
    "x=south_belt.groupby('level5')['price'].max()\n",
    "\n",
    "t = pd.DataFrame(x)\n",
    "t.reset_index(level=0, inplace=True)\n",
    "#display(t)\n",
    "\n",
    "z = south_belt.loc[south_belt['price'].isin(t.price)]\n",
    "\n",
    "display(z)"
   ]
  },
  {
   "cell_type": "markdown",
   "id": "ea67579b",
   "metadata": {},
   "source": [
    "#### Normalize the variable of prices for each population and plot the 4 histograms in the same plot (★★★) "
   ]
  },
  {
   "cell_type": "code",
   "execution_count": 142,
   "id": "385ad99c",
   "metadata": {},
   "outputs": [
    {
     "data": {
      "image/png": "[encoded data removed]",
      "text/plain": [
       "<Figure size 1080x1080 with 4 Axes>"
      ]
     },
     "metadata": {
      "needs_background": "light"
     },
     "output_type": "display_data"
    }
   ],
   "source": [
    "import matplotlib.pyplot as plt\n",
    "import numpy as np\n",
    "import pd as pandas\n",
    "\n",
    "sb_prices = south_belt[['level5','price']]\n",
    "\n",
    "max = sb_prices['price'].max()\n",
    "min = sb_prices['price'].min()\n",
    "\n",
    "norm_sb_prices = sb_prices.apply(lambda x: (x-min)/(max-min) if x.name == 'price' else x)\n",
    "norm_sb_prices.columns=['zone','norm. price']\n",
    "#display(norm_sb_prices)\n",
    "\n",
    "g = norm_sb_prices.groupby('zone')\n",
    "\n",
    "fig, axs = plt.subplots(nrows=len(g), ncols=1, sharex=True, sharey=True,figsize=(15,15))\n",
    "plt.gca().axes.get_xaxis().set_visible(False)\n",
    "for (name, group), ax in zip(g, axs):\n",
    "    group.plot.bar(x='zone', y='norm. price', legend=False, ax=ax)\n",
    "    ax.set_title(name)\n",
    "\n",
    "fig.suptitle('norm. prices per zone')\n",
    "fig.supylabel('norm. price')\n",
    "\n",
    "plt.tight_layout()\n"
   ]
  },
  {
   "cell_type": "markdown",
   "id": "2ec1bd5c",
   "metadata": {},
   "source": [
    "#### Make a plot of the coordinates (lat and long) of the south belt of Madrid by color of each population (★★★★) \n",
    "This is a extremely hard exercise and we highly recommend to do it at the end of everything"
   ]
  },
  {
   "cell_type": "code",
   "execution_count": 143,
   "id": "312aac99",
   "metadata": {},
   "outputs": [
    {
     "data": {
      "application/vnd.jupyter.widget-view+json": {
       "model_id": "b297c3fbc2cb4900835cd30413f6c34c",
       "version_major": 2,
       "version_minor": 0
      },
      "text/plain": [
       "Map(center=[60, -2.2], controls=(ZoomControl(options=['position', 'zoom_in_text', 'zoom_in_title', 'zoom_out_t…"
      ]
     },
     "metadata": {},
     "output_type": "display_data"
    }
   ],
   "source": [
    "# Run in console the following command before run the rest of code:\n",
    "# pip install ipyleaflet\n",
    "# jupyter nbextension enable --py --sys-prefix ipyleaflet\n",
    "\n",
    "from ipyleaflet import Map, basemaps\n",
    "\n",
    "# Map centred on (60 degrees latitude et -2.2 degrees longitude)\n",
    "# Latitude, longitude\n",
    "map = Map(center = (60, -2.2), zoom = 2, min_zoom = 1, max_zoom = 20, \n",
    "    basemap=basemaps.Stamen.Terrain)\n",
    "map"
   ]
  },
  {
   "cell_type": "code",
   "execution_count": 184,
   "id": "f7931ec0",
   "metadata": {},
   "outputs": [
    {
     "data": {
      "application/vnd.jupyter.widget-view+json": {
       "model_id": "b297c3fbc2cb4900835cd30413f6c34c",
       "version_major": 2,
       "version_minor": 0
      },
      "text/plain": [
       "Map(bottom=5517255.544921875, center=[52.32527428267329, 4.946783524883323], controls=(ZoomControl(options=['p…"
      ]
     },
     "metadata": {},
     "output_type": "display_data"
    }
   ],
   "source": [
    "## HERE: plot the coordinates of the estates\n",
    "#pip install geopandas\n",
    "## PUT HERE YOUR CODE:\n",
    "from ipyleaflet import Map, GeoJSON, GeoData\n",
    "import geopandas, pandas as pd, numpy as np\n",
    "\n",
    "\n",
    "group = south_belt.groupby('level5')\n",
    "\n",
    "#print(group.groups.keys())\n",
    "\n",
    "t = south_belt.copy()\n",
    "\n",
    "t['latitude'] = t['latitude'].str.replace(',' , '.').astype(float)\n",
    "t['longitude'] = t['longitude'].str.replace(',' , '.').astype(float)\n",
    "\n",
    "\n",
    "gdf = geopandas.GeoDataFrame(\n",
    "    t, geometry=geopandas.points_from_xy(t.longitude, t.latitude))\n",
    "\n",
    "geo_data = GeoData(geo_dataframe = gdf.,\n",
    "    style={'color': 'black', 'radius':8, 'fillColor': '#3366cc', 'opacity':0.5, 'weight':1.9, 'dashArray':'2', 'fillOpacity':0.6},\n",
    "    hover_style={'fillColor': 'red' , 'fillOpacity': 0.2},\n",
    "    point_style={'radius': 5, 'color': 'red', 'fillOpacity': 0.8, 'fillColor': 'blue', 'weight': 3},\n",
    "    name = 'Release')\n",
    "\n",
    "map.add_layer(geo_data)\n",
    "map\n"
   ]
  },
  {
   "cell_type": "markdown",
   "id": "b22874b7",
   "metadata": {},
   "source": [
    "#### What can you say about the price per square meter between the towns of Getafe and Alcorcón?"
   ]
  },
  {
   "cell_type": "code",
   "execution_count": null,
   "id": "e0ef506b",
   "metadata": {},
   "outputs": [],
   "source": []
  },
  {
   "cell_type": "markdown",
   "id": "a4376b3f",
   "metadata": {},
   "source": [
    "#### Reload the data, is the average of \"Valdemorillo\" and \"Galapagar\" prices the same?"
   ]
  },
  {
   "cell_type": "code",
   "execution_count": null,
   "id": "37dbaf65",
   "metadata": {},
   "outputs": [],
   "source": []
  },
  {
   "cell_type": "markdown",
   "id": "b6af45ec",
   "metadata": {},
   "source": [
    "#### What happens if we do the same analysis for price/m2 (★★☆) "
   ]
  },
  {
   "cell_type": "code",
   "execution_count": null,
   "id": "8231d73e",
   "metadata": {},
   "outputs": [],
   "source": []
  },
  {
   "cell_type": "markdown",
   "id": "2d40e202",
   "metadata": {},
   "source": [
    "#### Could you say there is a relation between surface and price? (★★☆) \n",
    "Hint: make a scatter plot."
   ]
  },
  {
   "cell_type": "code",
   "execution_count": null,
   "id": "405462e1",
   "metadata": {},
   "outputs": [],
   "source": []
  },
  {
   "cell_type": "markdown",
   "id": "3275db77",
   "metadata": {},
   "source": [
    "#### Make the same plot for 4 different populations (level5) and rearrange them on the same graph? (★★☆) \n",
    "Hint: make a scatter plot of each population using subplots."
   ]
  },
  {
   "cell_type": "code",
   "execution_count": null,
   "id": "e08292ff",
   "metadata": {},
   "outputs": [],
   "source": []
  },
  {
   "cell_type": "markdown",
   "id": "522c6bd9",
   "metadata": {},
   "source": [
    "#### How many  real estate agencies the dataset contains? (★★☆) "
   ]
  },
  {
   "cell_type": "code",
   "execution_count": null,
   "id": "014ec6c8",
   "metadata": {},
   "outputs": [],
   "source": []
  },
  {
   "cell_type": "markdown",
   "id": "899a101e",
   "metadata": {},
   "source": [
    "#### What is the population (level 5) that contains the most houses? (★★☆) "
   ]
  },
  {
   "cell_type": "code",
   "execution_count": null,
   "id": "9e8b34ba",
   "metadata": {},
   "outputs": [],
   "source": []
  },
  {
   "cell_type": "markdown",
   "id": "aa6a4e3f",
   "metadata": {},
   "source": [
    "# Good luck! and remember, if you need something, please email us! "
   ]
  }
 ],
 "metadata": {
  "kernelspec": {
   "display_name": "Python 3",
   "language": "python",
   "name": "python3"
  },
  "language_info": {
   "codemirror_mode": {
    "name": "ipython",
    "version": 3
   },
   "file_extension": ".py",
   "mimetype": "text/x-python",
   "name": "python",
   "nbconvert_exporter": "python",
   "pygments_lexer": "ipython3",
   "version": "3.8.12"
  }
 },
 "nbformat": 4,
 "nbformat_minor": 5
}
