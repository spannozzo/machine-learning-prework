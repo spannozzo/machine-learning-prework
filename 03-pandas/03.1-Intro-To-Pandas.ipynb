{
 "cells": [
  {
   "cell_type": "markdown",
   "id": "bdfbcacc",
   "metadata": {},
   "source": [
    "![alt text](./assets/pandas_logo.jpg)\n",
    "\n",
    "\n",
    "\n",
    "## Introduction to pandas\n",
    "\n",
    "Pandas is a fast, powerful, flexible and easy to use open source data analysis and manipulation tool,\n",
    "built on top of the Python programming language.\n",
    "\n",
    "## What is Pandas?\n",
    "\n",
    "Pandas is a Python library used for working with data sets.\n",
    "\n",
    "It has functions for analyzing, cleaning, exploring, and manipulating data.\n",
    "\n",
    "The name \"Pandas\" has a reference to both \"Panel Data\", and \"Python Data Analysis\" and was created by Wes McKinney in 2008.\n",
    "\n",
    "\n",
    "## Installing Pandas\n",
    "\n",
    "When you want to work with pandas locally, you should run the following commands:\n",
    "\n",
    "`pip install pandas`\\\n",
    "or\\\n",
    "`conda install pandas`\n",
    "\n",
    "In our case, 4Geeks have prepared all the environment in order that you can work comfortably.\n",
    "\n"
   ]
  },
  {
   "cell_type": "markdown",
   "id": "60e5d082",
   "metadata": {},
   "source": [
    "## Why use Pandas?\n",
    "\n",
    "Pandas allows us to analyze big data and make conclusions based on statistical theories. It can clean messy data sets, and make them readable and relevant and clearly, relevant data is very important in data science.\n",
    "\n",
    "But the main reason is Pandas allow you deal with a new structure of data: dataframes. A dataframe is a two-dimensional data structure in which data of different types (such as characters, integers, floating-point values, factors, and more) can be stored in columns. It is similar to an SQL spreadsheet or table of excels. A dataframe always has an index (starting at 0). The index refers to the position of an element in the data structure.\n",
    "\n",
    "Pandas provides tools that allow:\n",
    "\n",
    "- read and write data in different formats: CSV, Microsoft Excel, SQL databases and HDF5 format\n",
    "\n",
    "- easily select and filter data tables based on position, value, or labels\n",
    "\n",
    "- merge and join data\n",
    "\n",
    "- time series manipulation\n",
    "\n",
    "- make graphs (plots)\n",
    "\n",
    "In pandas there are three basic types of objects, all of them based on Numpy:\n",
    "\n",
    "- Series (lists, 1D),\n",
    "\n",
    "- DataFrame (tables, 2D) and\n",
    "\n",
    "- Panels (3D tables)."
   ]
  },
  {
   "cell_type": "markdown",
   "id": "c4e52ee5",
   "metadata": {},
   "source": [
    "#### Exercise: Import the pandas package under the name `pd` (★☆☆)\n",
    "\n",
    "To import a new library in python we have to use the import statement like this: `import <library_name> as <your_alias>`.\n",
    "\n",
    "Use the `import` statement in python to import the pandas module under the alias pd. If you want to assert the library was correctly imported, remember you can print the version of any python library with: `name_of_package.__version__`"
   ]
  },
  {
   "cell_type": "code",
   "execution_count": 2,
   "id": "ea3038d9",
   "metadata": {},
   "outputs": [],
   "source": [
    "import pandas as pd"
   ]
  },
  {
   "cell_type": "markdown",
   "id": "40631cd6",
   "metadata": {},
   "source": [
    "## Pandas data types\n",
    "\n",
    "Pandas has three different data structures:\n",
    "\n",
    "- Series: One-dimensional structure.\n",
    "- DataFrame: Two-dimensional structure (tables).\n",
    "- Panel: Three-dimensional structure (cubes and less used).\n",
    "\n",
    "These structures are built from arrays from the NumPy library, adding new functionalities.\n",
    "\n",
    "\n",
    "<img src=\"./assets/series_dataframe.png\" width=\"600\"/>\n"
   ]
  },
  {
   "cell_type": "markdown",
   "id": "2060325e",
   "metadata": {},
   "source": [
    "## Object creation\n",
    "\n",
    "Creating a Series by passing a list of values, letting pandas create a default integer index:"
   ]
  },
  {
   "cell_type": "code",
   "execution_count": 4,
   "id": "2a9f5838",
   "metadata": {},
   "outputs": [
    {
     "data": {
      "text/plain": [
       "0    1.0\n",
       "1    3.0\n",
       "2    5.0\n",
       "3    NaN\n",
       "4    6.0\n",
       "5    8.0\n",
       "dtype: float64"
      ]
     },
     "execution_count": 4,
     "metadata": {},
     "output_type": "execute_result"
    }
   ],
   "source": [
    "import numpy as np\n",
    "import pandas as pd\n",
    "\n",
    "s = pd.Series([1, 3, 5, np.nan, 6, 8])\n",
    "s"
   ]
  },
  {
   "cell_type": "markdown",
   "id": "e3c20b3d",
   "metadata": {},
   "source": [
    "In the previous exercise, we have created a pandas series (a one-dimensional vector or array) from a list. In the following exercise, we ask you to create a one-dimensional vector but this time from other python structures.\n",
    "\n",
    "#### Exercise: Create a pandas series from each of the items below: a list, numpy and a dictionary (★☆☆)"
   ]
  },
  {
   "cell_type": "code",
   "execution_count": 14,
   "id": "8a758bcf",
   "metadata": {},
   "outputs": [
    {
     "name": "stdout",
     "output_type": "stream",
     "text": [
      "0            [1, 3]\n",
      "1        [1.0, 1.0]\n",
      "2    {'p1': (1, 4)}\n",
      "dtype: object\n"
     ]
    }
   ],
   "source": [
    "import pandas as pd\n",
    "import numpy as np\n",
    "\n",
    "s = pd.Series([[1,3],np.ones(2),{'p1':(1,4)}])\n",
    "\n",
    "print(s)"
   ]
  },
  {
   "cell_type": "markdown",
   "id": "0a708990",
   "metadata": {},
   "source": [
    "#### Exercise: Now, try to create a dataframe of one column from a pandas series (★☆☆)\n",
    "\n",
    "Check the function `to_frame` (https://pandas.pydata.org/docs/reference/api/pandas.Series.to_frame.html)"
   ]
  },
  {
   "cell_type": "code",
   "execution_count": 19,
   "id": "477e01f4",
   "metadata": {},
   "outputs": [
    {
     "name": "stdout",
     "output_type": "stream",
     "text": [
      "0    9\n",
      "1    0\n",
      "2    6\n",
      "3    8\n",
      "4    7\n",
      "Name: random_ints, dtype: int64\n",
      "   random_ints\n",
      "0            9\n",
      "1            0\n",
      "2            6\n",
      "3            8\n",
      "4            7\n"
     ]
    }
   ],
   "source": [
    "import numpy as np\n",
    "import pandas as pd\n",
    "\n",
    "s = pd.Series(np.random.randint(0,10,5),name='random_ints')\n",
    "print(s)\n",
    "\n",
    "print(s.to_frame())"
   ]
  },
  {
   "cell_type": "markdown",
   "id": "0b16cd77",
   "metadata": {},
   "source": [
    "#### Exercise: How to combine many series to form a dataframe? (★☆☆)\n",
    "Create two series with names `ser1` and `ser2` to form a dataframe. That is, a two columns dataframe from the series `ser1` and `ser2`."
   ]
  },
  {
   "cell_type": "code",
   "execution_count": 25,
   "id": "4d9b5975",
   "metadata": {},
   "outputs": [
    {
     "name": "stdout",
     "output_type": "stream",
     "text": [
      "0    1\n",
      "1    8\n",
      "2    8\n",
      "Name: r1, dtype: int64\n",
      "0    8\n",
      "1    6\n",
      "2    0\n",
      "Name: r2, dtype: int64\n",
      "   r1  r2  L\n",
      "0   1   8  a\n",
      "1   8   6  b\n",
      "2   8   0  c\n"
     ]
    }
   ],
   "source": [
    "import numpy as np\n",
    "import pandas as pd\n",
    "\n",
    "ser1 = pd.Series(np.random.randint(0,10,3), name='r1')\n",
    "ser2 = pd.Series(np.random.randint(0,10,3),name='r2')\n",
    "\n",
    "print(ser1)\n",
    "print(ser2)\n",
    "\n",
    "df = pd.concat([ser1,ser2,pd.Series(['a','b','c'],name='L')],axis=1)\n",
    "\n",
    "print(df)\n",
    "\n"
   ]
  },
  {
   "cell_type": "markdown",
   "id": "782d4c77",
   "metadata": {},
   "source": [
    "#### Exercise: How to get the items not common to both series A and series B? (★☆☆)\n",
    "Extract the elements that are not in common of the series `ser1` and `ser2`we define below.\n",
    "Check functions `union1d` and `intersect1d` from numpy. Yes, numpy (https://numpy.org/doc/stable/reference/generated/numpy.union1d.html and https://numpy.org/doc/stable/reference/generated/numpy.intersect1d.html). Remember that **numpy and pandas work together**"
   ]
  },
  {
   "cell_type": "code",
   "execution_count": 50,
   "id": "5dbe1a08",
   "metadata": {},
   "outputs": [
    {
     "name": "stdout",
     "output_type": "stream",
     "text": [
      "[1 2 3 4 5 6 7]\n",
      "[3 4 5]\n",
      "[1 2 6 7]\n"
     ]
    }
   ],
   "source": [
    "# Input\n",
    "import numpy as np\n",
    "import pandas as pd\n",
    "\n",
    "ser1 = pd.Series([1, 2, 3, 4, 5])\n",
    "ser2 = pd.Series([3, 4, 5, 6, 7]) \n",
    "\n",
    "union = np.union1d(ser1,ser2)\n",
    "intersect = np.intersect1d(ser1,ser2)\n",
    "\n",
    "print(union)\n",
    "print(intersect)\n",
    "print(union[np.isin(union,intersect)==False])\n"
   ]
  },
  {
   "cell_type": "markdown",
   "id": "48d48f01",
   "metadata": {},
   "source": [
    "#### Exercise: How to convert a numpy array to a dataframe of given shape? (★☆☆)\n",
    "Reshape a random series into a dataframe with 7 rows and 5 columns. In this exercise, you have to create a one-dimensional array of length 35 and then you will have to convert that array into a dataframe"
   ]
  },
  {
   "cell_type": "code",
   "execution_count": 80,
   "id": "3ed233e7",
   "metadata": {},
   "outputs": [
    {
     "name": "stdout",
     "output_type": "stream",
     "text": [
      "[24 20 37 22 33 45 30 18 34 36 15 23 33 16 15 35 45 49 30 48 25 40 16 10\n",
      " 34 41 40 34 33  1 36 33 40  7 27]\n",
      "    c1\n",
      "0   24\n",
      "1   20\n",
      "2   37\n",
      "3   22\n",
      "4   33\n",
      "5   45\n",
      "6   30\n",
      "7   18\n",
      "8   34\n",
      "9   36\n",
      "10  15\n",
      "11  23\n",
      "12  33\n",
      "13  16\n",
      "14  15\n",
      "15  35\n",
      "16  45\n",
      "17  49\n",
      "18  30\n",
      "19  48\n",
      "20  25\n",
      "21  40\n",
      "22  16\n",
      "23  10\n",
      "24  34\n",
      "25  41\n",
      "26  40\n",
      "27  34\n",
      "28  33\n",
      "29   1\n",
      "30  36\n",
      "31  33\n",
      "32  40\n",
      "33   7\n",
      "34  27\n",
      "   c1  c2  c3  c4  c5\n",
      "0  24  20  37  22  33\n",
      "1  45  30  18  34  36\n",
      "2  15  23  33  16  15\n",
      "3  35  45  49  30  48\n",
      "4  25  40  16  10  34\n",
      "5  41  40  34  33   1\n",
      "6  36  33  40   7  27\n"
     ]
    }
   ],
   "source": [
    "import numpy as np\n",
    "import pandas as pd\n",
    "\n",
    "v = np.random.randint(0,50,35)\n",
    "print(v)\n",
    "\n",
    "s = pd.Series(v,name='values')\n",
    "x = s.values\n",
    "\n",
    "#print(x.reshape((7,5)))\n",
    "\n",
    "\n",
    "df1 = pd.DataFrame({'c1':s})\n",
    "df2 = pd.DataFrame(x.reshape((7,5)),columns=['c1','c2','c3','c4','c5'])\n",
    "\n",
    "print(df1)\n",
    "print(df2)"
   ]
  },
  {
   "cell_type": "markdown",
   "id": "4fa39382",
   "metadata": {},
   "source": [
    "#### Exercise:  How to extract items at given positions from a series (★☆☆)\n",
    "You can also create series and dataframe that contain strings. From the following pandas series `ser`, extract the items at positions in the list `pos`. Check `take`from pandas (https://pandas.pydata.org/docs/reference/api/pandas.DataFrame.take.html)"
   ]
  },
  {
   "cell_type": "code",
   "execution_count": 14,
   "id": "c97757ec",
   "metadata": {},
   "outputs": [
    {
     "name": "stdout",
     "output_type": "stream",
     "text": [
      "    L\n",
      "0   a\n",
      "4   e\n",
      "8   i\n",
      "14  o\n",
      "20  u\n"
     ]
    }
   ],
   "source": [
    "# Input\n",
    "import pandas as pd\n",
    "\n",
    "ser = pd.Series(list('abcdefghijklmnopqrstuvwxyz'))\n",
    "#print(ser)\n",
    "pos = [0, 4, 8, 14, 20]\n",
    "\n",
    "df = pd.DataFrame(ser,columns=['L'])\n",
    "print(df.take(pos))\n"
   ]
  },
  {
   "cell_type": "markdown",
   "id": "da64551a",
   "metadata": {},
   "source": [
    "#### Exercise:  How to stack two series vertically and horizontally ?\n",
    "Create two series `ser1` and `ser2` and stack them vertically and horizontally (to form a dataframe). Check `concatenate`from pandas (https://pandas.pydata.org/docs/reference/api/pandas.concat.html)"
   ]
  },
  {
   "cell_type": "code",
   "execution_count": 24,
   "id": "327f7adb",
   "metadata": {},
   "outputs": [
    {
     "name": "stdout",
     "output_type": "stream",
     "text": [
      "[1 4 8] [9 9 7]\n",
      "0    1\n",
      "1    4\n",
      "2    8\n",
      "dtype: int64\n",
      "0    9\n",
      "1    9\n",
      "2    7\n",
      "dtype: int64\n",
      "0    1\n",
      "1    4\n",
      "2    8\n",
      "0    9\n",
      "1    9\n",
      "2    7\n",
      "dtype: int64\n",
      "   0  1\n",
      "0  1  9\n",
      "1  4  9\n",
      "2  8  7\n"
     ]
    }
   ],
   "source": [
    "import numpy as np\n",
    "import pandas as pd\n",
    "\n",
    "x = np.random.randint(0,10,3)\n",
    "y = np.random.randint(0,10,3)\n",
    "\n",
    "print(x,y)\n",
    "\n",
    "ser1 = pd.Series(x)\n",
    "ser2 = pd.Series(y)\n",
    "\n",
    "print(ser1)\n",
    "print(ser2)\n",
    "df1 = pd.concat([ser1,ser2],axis=0)\n",
    "print(df1)\n",
    "df2 = pd.concat([ser1,ser2],axis=1)\n",
    "print(df2)"
   ]
  },
  {
   "cell_type": "markdown",
   "id": "13c5928c",
   "metadata": {},
   "source": [
    "#### Exercise: How to get the positions of items of series A in another series B? (★★☆)\n",
    "Get the positions of items of ser2 in ser1 as a list. Remember the function `where`from numpy (https://numpy.org/devdocs/reference/generated/numpy.where.html)"
   ]
  },
  {
   "cell_type": "code",
   "execution_count": 47,
   "id": "911c9b93",
   "metadata": {},
   "outputs": [
    {
     "name": "stdout",
     "output_type": "stream",
     "text": [
      "[5, 4, 0, 8]\n"
     ]
    }
   ],
   "source": [
    "## Input\n",
    "import pandas as pd\n",
    "import numpy as np\n",
    "\n",
    "ser1 = pd.Series([10, 9, 6, 5, 3, 1, 12, 8, 13])\n",
    "ser2 = pd.Series([1, 3, 10, 13]) \n",
    "\n",
    "i = [pd.Index(ser1).get_loc(x) for x in ser2]\n",
    "print(i)"
   ]
  },
  {
   "cell_type": "markdown",
   "id": "3fa2e461",
   "metadata": {},
   "source": [
    "#### Exercise: How to compute difference of differences between consequtive numbers of a series? (★★☆)\n",
    "Difference of differences between the consequtive numbers of `ser`."
   ]
  },
  {
   "cell_type": "code",
   "execution_count": 50,
   "id": "323eb38a",
   "metadata": {},
   "outputs": [
    {
     "name": "stdout",
     "output_type": "stream",
     "text": [
      "0    NaN\n",
      "1    NaN\n",
      "2    1.0\n",
      "3    1.0\n",
      "4    1.0\n",
      "5    1.0\n",
      "6    0.0\n",
      "7    2.0\n",
      "dtype: float64\n"
     ]
    }
   ],
   "source": [
    "## Input\n",
    "ser = pd.Series([1, 3, 6, 10, 15, 21, 27, 35])\n",
    "\n",
    "print(ser.diff().diff())\n",
    "\n",
    "## Output should be like following\n",
    "# [nan, 2.0, 3.0, 4.0, 5.0, 6.0, 6.0, 8.0]\n",
    "# [nan, nan, 1.0, 1.0, 1.0, 1.0, 0.0, 2.0]"
   ]
  },
  {
   "cell_type": "markdown",
   "id": "ff8dbb92",
   "metadata": {},
   "source": [
    "## Apply functions to a series\n",
    "It is also possible to apply a function to each element of the series using the following method:\n",
    "\n",
    "`s.apply(f)`: Returns a series with the result of applying the function f to each of the elements of the series s.\n",
    "\n",
    "### Example\n",
    "```\n",
    "import pandas as pd\n",
    "from math import log\n",
    "s = pd.Series([1, 2, 3, 4])\n",
    "s.apply(log)\n",
    "```"
   ]
  },
  {
   "cell_type": "markdown",
   "id": "e3a7ba7f",
   "metadata": {},
   "source": [
    "#### Exercise: Convert all values of a pandas series of string to upper (★☆☆)\n",
    "You have to create a series of strings with random values and then convert each string to capital letters.\n",
    "Check upper in pandas (https://pandas.pydata.org/docs/reference/api/pandas.Series.str.upper.html)"
   ]
  },
  {
   "cell_type": "code",
   "execution_count": null,
   "id": "01d8e257",
   "metadata": {},
   "outputs": [],
   "source": []
  },
  {
   "cell_type": "markdown",
   "id": "6d17ab5d",
   "metadata": {},
   "source": [
    "#### Exercise: Get all values greater than 5 from a pandas series (★☆☆)\n",
    "Remember that you can create series and dataframes from dictionaries. In this exercise you will have to get all values greater than 5."
   ]
  },
  {
   "cell_type": "code",
   "execution_count": null,
   "id": "841373cd",
   "metadata": {},
   "outputs": [],
   "source": [
    "## Input\n",
    "s = pd.Series({'Math': 6.0,  'Economy': 4.5, 'Programming': 8.5})"
   ]
  },
  {
   "cell_type": "markdown",
   "id": "8837119b",
   "metadata": {},
   "source": [
    "#### Exercise: Sort a series. Sort the series from the previous exercise in both, ascending and descendant order (★ ☆☆)\n",
    "The following methods are used to sort a series:\n",
    "\n",
    "`s.sort_values (ascending = Boolean)`: Returns the series that results from ordering the values in the series s. If the argument of the ascending parameter is True the order is increasing and if False it is decreasing.\n",
    "\n",
    "`df.sort_index (ascending = Boolean)`: Returns the series that results from sorting the index of the series s. If the argument of the ascending parameter is True the order is increasing and if it is False decreasing."
   ]
  },
  {
   "cell_type": "code",
   "execution_count": null,
   "id": "2c0d16f1",
   "metadata": {},
   "outputs": [],
   "source": []
  },
  {
   "cell_type": "markdown",
   "id": "ec788c9f",
   "metadata": {},
   "source": [
    "#### Exercise: Eliminate the unknown (`NA`) values in a series.  Drop the NAs values from the series\n",
    "Unknown data is represented in Pandas by `NaN` and `null` by `None`. Both are usually a problem when performing some data analysis, so it is common to eliminate them. To remove them from a series the following method is used:\n",
    "\n",
    "s.dropna (): Removes the unknown or null data from the s series."
   ]
  },
  {
   "cell_type": "code",
   "execution_count": null,
   "id": "0a4f919f",
   "metadata": {},
   "outputs": [],
   "source": [
    "## Input\n",
    "import pandas as pd\n",
    "import numpy as np\n",
    "s = pd.Series(['a', 'b', None, 'c', np.NaN,  'd'])"
   ]
  },
  {
   "cell_type": "markdown",
   "id": "391791e0",
   "metadata": {},
   "source": [
    "## The DataFrame object class\n",
    "\n",
    "An object of type DataFrame defines a set of data structured in the form of a table where each column is an object of type Series, that is, all the data in the same column are of the same type, and the rows are records that can contain data from Different types.\n",
    "\n",
    "A DataFrame contains two indexes, one for the rows and one for the columns, and its elements can be accessed by the names of the rows and columns.\n",
    "\n",
    "Example. The following DataFrame contains information about the students in a course. Each row corresponds to a student and each column to a variable.\n",
    "\n",
    "![alt text](./assets/df.png \"df\")\n"
   ]
  },
  {
   "cell_type": "markdown",
   "id": "7c2e563a",
   "metadata": {},
   "source": [
    "## Creating a DataFrame from a CSV or Excel file\n",
    "Depending on the type of file, there are different functions to import a DataFrame from a file.\n",
    "\n",
    "- read_csv: Returns an object of type DataFrame with the data from the CSV file file.csv using as separator of the data the string separator.\n",
    "\n",
    "- read_excel: Returns an object of type DataFrame with the data from the spreadsheet sheet of the Excel file file .xlsx."
   ]
  },
  {
   "cell_type": "markdown",
   "id": "50a54d72",
   "metadata": {},
   "source": [
    "## The Titanic dataset \n",
    "The titanica dataset is a famous and \"funny\" dataset in the area of data science. It is commonly used for beginners in order to know how to fit a machine learning model. The competition is simple: use machine learning to create a model that predicts which passengers survived the Titanic shipwreck.\n",
    "\n",
    "The dataset consists of the following variables.\n",
    "\n",
    "\n",
    "| Variable | Definition                                 | Key                                            |\n",
    "|----------|--------------------------------------------|------------------------------------------------|\n",
    "| survival | Survival                                   | 0 = No, 1 = Yes                                |\n",
    "| pclass   | Ticket class                               | 1 = 1st, 2 = 2nd, 3 = 3rd                      |\n",
    "| sex      | Sex                                        |                                                |\n",
    "| Age      | Age in years                               |                                                |\n",
    "| sibsp    | # of siblings / spouses aboard the Titanic |                                                |\n",
    "| parch    | # of parents / children aboard the Titanic |                                                |\n",
    "| ticket   | Ticket number                              |                                                |\n",
    "| fare     | Passenger fare                             |                                                |\n",
    "| cabin    | Cabin number                               |                                                |\n",
    "| embarked | Port of Embarkation                        | C = Cherbourg, Q = Queenstown, S = Southampton |\n",
    "\n",
    "\n",
    "In the following exercise you will have to get some insights about this dataset. An insight is a just derived information you can get from a dataset like the mean of age for example."
   ]
  },
  {
   "cell_type": "markdown",
   "id": "1e74d39e",
   "metadata": {},
   "source": [
    "#### Exercise: Read the data `titanic_train.csv` located in the assets folder (★☆☆)"
   ]
  },
  {
   "cell_type": "code",
   "execution_count": null,
   "id": "3f639d33",
   "metadata": {},
   "outputs": [],
   "source": []
  },
  {
   "cell_type": "markdown",
   "id": "78250c14",
   "metadata": {},
   "source": [
    "#### Exercise: File export. Export the previous data frame separated by semicolon (;) and name it as \"`your_name.txt`\" (★☆☆)\n",
    "There are also functions to export a DataFrame to a file with different formats.\n",
    "\n",
    "- `df.to_csv (file.csv, sep = separator, columns = Boolean, index = Boolean)`: Exports the DataFrame df to the file file.csv in CSV format using the separator string as data separator.\n",
    "- `df.to_excel (file.xlsx, sheet_name = sheet, columns = Boolean, index = Boolean)`: Exports the DataFrame df to the spreadsheet sheet of the file file.xlsx in Excel format."
   ]
  },
  {
   "cell_type": "code",
   "execution_count": null,
   "id": "9fe729cb",
   "metadata": {},
   "outputs": [],
   "source": []
  },
  {
   "cell_type": "markdown",
   "id": "51898680",
   "metadata": {},
   "source": [
    "## Attributes of a DataFrame\n",
    "There are several properties or methods for viewing the characteristics of a DataFrame.\n",
    "\n",
    "- `df.info()`: Returns information (number of rows, number of columns, indexes, type of columns and used memory) about the DataFrame df.\n",
    "\n",
    "- `df.shape`: Returns a tuple with the number of rows and columns of the DataFrame df.\n",
    "\n",
    "- `df.size`: Returns the number of elements in the DataFrame.\n",
    "\n",
    "- `df.columns`: Returns a list with the names of the columns of the DataFrame df.\n",
    "\n",
    "- `df.index`: Returns a list with the names of the rows in the DataFrame df.\n",
    "\n",
    "- `df.dtypes`: Returns a series with the data types of the columns of the DataFrame df.\n",
    "\n",
    "- `df.head(n)`: Returns the first n rows of the DataFrame df.\n",
    "\n",
    "- `df.tail(n)`: Returns the last n rows of the DataFrame df."
   ]
  },
  {
   "cell_type": "markdown",
   "id": "89e78048",
   "metadata": {},
   "source": [
    "#### Exercise: Read the dataframe exported as \"`your_name.txt`\" and print all the previous attributes taking `n = 10` (★☆☆)"
   ]
  },
  {
   "cell_type": "code",
   "execution_count": null,
   "id": "b62e9d1c",
   "metadata": {},
   "outputs": [],
   "source": []
  },
  {
   "cell_type": "markdown",
   "id": "ebd10810",
   "metadata": {},
   "source": [
    "#### Exercise: Change the name of columns of the above data frame using two different methos (★★☆) \n",
    "Check the function `rename` (https://pandas.pydata.org/docs/reference/api/pandas.DataFrame.rename.html) and remember you can get the name of columns using `df.columns`"
   ]
  },
  {
   "cell_type": "code",
   "execution_count": null,
   "id": "6ada209f",
   "metadata": {},
   "outputs": [],
   "source": []
  },
  {
   "cell_type": "markdown",
   "id": "c0e940f8",
   "metadata": {},
   "source": [
    "#### Exercise: Change the index of the above data frame using two different methos (★★☆) \n",
    "Check `iloc` (https://pandas.pydata.org/docs/reference/api/pandas.DataFrame.iloc.html)"
   ]
  },
  {
   "cell_type": "code",
   "execution_count": null,
   "id": "820dc7a5",
   "metadata": {},
   "outputs": [],
   "source": []
  },
  {
   "cell_type": "markdown",
   "id": "22713c3f",
   "metadata": {},
   "source": [
    "#### Exercise: Get the position (3,5) from the dataframe `your_name.txt`  (★☆☆)"
   ]
  },
  {
   "cell_type": "code",
   "execution_count": null,
   "id": "a3e05c29",
   "metadata": {},
   "outputs": [],
   "source": []
  },
  {
   "cell_type": "markdown",
   "id": "4815930e",
   "metadata": {},
   "source": [
    "#### Exercise: Get the 10-th value from the column \"Ticket\" from the dataframe `your_name.txt`  (★☆☆)"
   ]
  },
  {
   "cell_type": "code",
   "execution_count": null,
   "id": "cd81c3c6",
   "metadata": {},
   "outputs": [],
   "source": []
  },
  {
   "cell_type": "markdown",
   "id": "8e34f294",
   "metadata": {},
   "source": [
    "#### Exercise: Add columns to a DataFrame. Create a random array and a random list and add them to the dataframe coming from  `your_name.txt` (★☆☆)\n",
    "The procedure for adding a new column to a DataFrame is similar to adding a new pair to a dictionary, but passing the column's values in a list or series."
   ]
  },
  {
   "cell_type": "code",
   "execution_count": null,
   "id": "890bde78",
   "metadata": {},
   "outputs": [],
   "source": []
  },
  {
   "cell_type": "markdown",
   "id": "759c9c8d",
   "metadata": {},
   "source": [
    "#### Exercise: Create or subset a data frame. Subset the dataframe coming from `your_name.txt` by Male registers using two different methods (★★☆)\n",
    "Remember the function `where` from `numpy`"
   ]
  },
  {
   "cell_type": "code",
   "execution_count": null,
   "id": "6801c73d",
   "metadata": {},
   "outputs": [],
   "source": []
  },
  {
   "cell_type": "markdown",
   "id": "129c342d",
   "metadata": {},
   "source": [
    "## Descriptive summary of a DataFrame\n",
    "As for strings, the following methods allow you to summarize the information in a DataFrame by columns:\n",
    "\n",
    "- `df.count()`: Returns a series number of elements that are not null or NaN in each column of the DataFrame df.\n",
    "- `df.sum()`: Returns a series with the sum of the data of the columns of the DataFrame df when the data is of a numeric type, or the concatenation of them when they are of the string type str.\n",
    "- `df.cumsum()`: Returns a DataFrame with the cumulative sum of the data in the columns of the DataFrame df when the data is of a numeric type.\n",
    "- `df.min()`: Returns a series with the minors of the data of the columns of the DataFrame df.\n",
    "- `df.max()`: Returns a series with the largest of the data in the columns of the DataFrame df.\n",
    "- `df.mean()`: Returns a series with the mean of the data in the columns of the DataFrame df when the data is of a numeric type.\n",
    "- `df.std()`: Returns a series with the standard deviations of the data in the columns of the DataFrame df when the data is of a numeric type.\n",
    "- `df.describe(include = type)`: Returns a DataFrame with a statistical summary of the columns of the DataFrame df of type type. For numerical data(number), the mean, standard deviation, minimum, maximum and quartiles of the numeric columns are calculated. For non-numeric data(object) the number of values, the number of distinct values, the mode and their frequency are calculated. If the type is not indicated, only the numeric columns are considered."
   ]
  },
  {
   "cell_type": "markdown",
   "id": "25ab9cc1",
   "metadata": {},
   "source": [
    "#### Exercise: Make a description of the dataset `your_name.txt` (★☆☆)"
   ]
  },
  {
   "cell_type": "code",
   "execution_count": null,
   "id": "8ba1badb",
   "metadata": {},
   "outputs": [],
   "source": []
  },
  {
   "cell_type": "markdown",
   "id": "42f8b2f9",
   "metadata": {},
   "source": [
    "#### Exercise: Remove the column Ticket from your dataframe (★☆☆)"
   ]
  },
  {
   "cell_type": "code",
   "execution_count": null,
   "id": "eb8ebe45",
   "metadata": {},
   "outputs": [],
   "source": []
  },
  {
   "cell_type": "markdown",
   "id": "486df8ea",
   "metadata": {},
   "source": [
    "#### Exercise: Sort the dataframe by the Age column  (★★☆)\n",
    "Check the functions `df.sort_values` and `df.sort_index`"
   ]
  },
  {
   "cell_type": "code",
   "execution_count": null,
   "id": "34b4fa08",
   "metadata": {},
   "outputs": [],
   "source": []
  },
  {
   "cell_type": "markdown",
   "id": "649e89f9",
   "metadata": {},
   "source": [
    "#### Exercise: Drop the rows of your dataframe that contain na values (★★☆)"
   ]
  },
  {
   "cell_type": "code",
   "execution_count": null,
   "id": "663cc611",
   "metadata": {},
   "outputs": [],
   "source": []
  },
  {
   "cell_type": "markdown",
   "id": "3421e17f",
   "metadata": {},
   "source": [
    "#### Exercise: Subset the rows where Age values are greater than 18 (★★☆)"
   ]
  },
  {
   "cell_type": "code",
   "execution_count": null,
   "id": "7336b8e4",
   "metadata": {},
   "outputs": [],
   "source": []
  },
  {
   "cell_type": "markdown",
   "id": "483dd554",
   "metadata": {},
   "source": [
    "#### Exercise: Subset the rows where Age values are greater than 18 and less than 5 and get the number of rows  (★★☆)"
   ]
  },
  {
   "cell_type": "code",
   "execution_count": null,
   "id": "c89b93e7",
   "metadata": {},
   "outputs": [],
   "source": []
  },
  {
   "cell_type": "markdown",
   "id": "2d07be1c",
   "metadata": {},
   "source": [
    "#### Exercise: Normalize the column Age (★★☆)\n",
    "Remember from probability (https://en.wikipedia.org/wiki/Normalization_(statistics)) that :\n",
    "\n",
    "$$ x_{norm} = \\frac{x - \\bar{x}}{\\sigma}$$"
   ]
  },
  {
   "cell_type": "code",
   "execution_count": null,
   "id": "4f7cb3ad",
   "metadata": {},
   "outputs": [],
   "source": []
  },
  {
   "cell_type": "markdown",
   "id": "fe043549",
   "metadata": {},
   "source": [
    "#### Exercise: Consider two random array A and B, check if they are equal (★★☆)"
   ]
  },
  {
   "cell_type": "code",
   "execution_count": null,
   "id": "3326a686",
   "metadata": {},
   "outputs": [],
   "source": []
  },
  {
   "cell_type": "markdown",
   "id": "2002cb03",
   "metadata": {},
   "source": [
    "#### Exercise: How to set the number of rows and columns displayed in the output? (★★★)\n",
    "Check the function `set_option` from pandas"
   ]
  },
  {
   "cell_type": "code",
   "execution_count": null,
   "id": "58be72bc",
   "metadata": {},
   "outputs": [],
   "source": []
  },
  {
   "cell_type": "markdown",
   "id": "b7109c9f",
   "metadata": {},
   "source": [
    "#### Exercise: How to join two dataframes by 2 columns so they have only the common rows? (★★★)\n",
    "Join dataframes df1 and df2 by ‘fruit-pazham’ and ‘weight-kilo’."
   ]
  },
  {
   "cell_type": "code",
   "execution_count": null,
   "id": "f79e79a7",
   "metadata": {},
   "outputs": [],
   "source": [
    "## Input\n",
    "\n",
    "df1 = pd.DataFrame({'fruit': ['apple', 'banana', 'orange'] * 3,\n",
    "                    'weight': ['high', 'medium', 'low'] * 3,\n",
    "                    'price': np.random.randint(0, 15, 9)})\n",
    "\n",
    "df2 = pd.DataFrame({'pazham': ['apple', 'orange', 'pine'] * 2,\n",
    "                    'kilo': ['high', 'low'] * 3,\n",
    "                    'price': np.random.randint(0, 15, 6)})"
   ]
  },
  {
   "cell_type": "markdown",
   "id": "fb24674c",
   "metadata": {},
   "source": [
    "#### Exercise: How to get the positions where values of two columns match? (★★★)\n",
    "Join dataframes df1 and df2 by ‘fruit-pazham’ and ‘weight-kilo’."
   ]
  },
  {
   "cell_type": "code",
   "execution_count": null,
   "id": "3e253564",
   "metadata": {},
   "outputs": [],
   "source": [
    "## Input\n",
    "df = pd.DataFrame({'fruit1': np.random.choice(['apple', 'orange', 'banana'], 10),\n",
    "                    'fruit2': np.random.choice(['apple', 'orange', 'banana'], 10)})\n"
   ]
  }
 ],
 "metadata": {
  "kernelspec": {
   "display_name": "Python 3",
   "language": "python",
   "name": "python3"
  },
  "language_info": {
   "codemirror_mode": {
    "name": "ipython",
    "version": 3
   },
   "file_extension": ".py",
   "mimetype": "text/x-python",
   "name": "python",
   "nbconvert_exporter": "python",
   "pygments_lexer": "ipython3",
   "version": "3.8.12"
  }
 },
 "nbformat": 4,
 "nbformat_minor": 5
}
