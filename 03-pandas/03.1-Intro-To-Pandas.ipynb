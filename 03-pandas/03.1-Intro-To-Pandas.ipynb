{
 "cells": [
  {
   "cell_type": "markdown",
   "id": "bdfbcacc",
   "metadata": {},
   "source": [
    "![alt text](./assets/pandas_logo.jpg)\n",
    "\n",
    "\n",
    "\n",
    "## Introduction to pandas\n",
    "\n",
    "Pandas is a fast, powerful, flexible and easy to use open source data analysis and manipulation tool,\n",
    "built on top of the Python programming language.\n",
    "\n",
    "## What is Pandas?\n",
    "\n",
    "Pandas is a Python library used for working with data sets.\n",
    "\n",
    "It has functions for analyzing, cleaning, exploring, and manipulating data.\n",
    "\n",
    "The name \"Pandas\" has a reference to both \"Panel Data\", and \"Python Data Analysis\" and was created by Wes McKinney in 2008.\n",
    "\n",
    "\n",
    "## Installing Pandas\n",
    "\n",
    "When you want to work with pandas locally, you should run the following commands:\n",
    "\n",
    "`pip install pandas`\\\n",
    "or\\\n",
    "`conda install pandas`\n",
    "\n",
    "In our case, 4Geeks have prepared all the environment in order that you can work comfortably.\n",
    "\n"
   ]
  },
  {
   "cell_type": "markdown",
   "id": "60e5d082",
   "metadata": {},
   "source": [
    "## Why use Pandas?\n",
    "\n",
    "Pandas allows us to analyze big data and make conclusions based on statistical theories. It can clean messy data sets, and make them readable and relevant and clearly, relevant data is very important in data science.\n",
    "\n",
    "But the main reason is Pandas allow you deal with a new structure of data: dataframes. A dataframe is a two-dimensional data structure in which data of different types (such as characters, integers, floating-point values, factors, and more) can be stored in columns. It is similar to an SQL spreadsheet or table of excels. A dataframe always has an index (starting at 0). The index refers to the position of an element in the data structure.\n",
    "\n",
    "Pandas provides tools that allow:\n",
    "\n",
    "- read and write data in different formats: CSV, Microsoft Excel, SQL databases and HDF5 format\n",
    "\n",
    "- easily select and filter data tables based on position, value, or labels\n",
    "\n",
    "- merge and join data\n",
    "\n",
    "- time series manipulation\n",
    "\n",
    "- make graphs (plots)\n",
    "\n",
    "In pandas there are three basic types of objects, all of them based on Numpy:\n",
    "\n",
    "- Series (lists, 1D),\n",
    "\n",
    "- DataFrame (tables, 2D) and\n",
    "\n",
    "- Panels (3D tables)."
   ]
  },
  {
   "cell_type": "markdown",
   "id": "c4e52ee5",
   "metadata": {},
   "source": [
    "#### Exercise: Import the pandas package under the name `pd` (★☆☆)\n",
    "\n",
    "To import a new library in python we have to use the import statement like this: `import <library_name> as <your_alias>`.\n",
    "\n",
    "Use the `import` statement in python to import the pandas module under the alias pd. If you want to assert the library was correctly imported, remember you can print the version of any python library with: `name_of_package.__version__`"
   ]
  },
  {
   "cell_type": "code",
   "execution_count": 2,
   "id": "ea3038d9",
   "metadata": {},
   "outputs": [],
   "source": [
    "import pandas as pd"
   ]
  },
  {
   "cell_type": "markdown",
   "id": "40631cd6",
   "metadata": {},
   "source": [
    "## Pandas data types\n",
    "\n",
    "Pandas has three different data structures:\n",
    "\n",
    "- Series: One-dimensional structure.\n",
    "- DataFrame: Two-dimensional structure (tables).\n",
    "- Panel: Three-dimensional structure (cubes and less used).\n",
    "\n",
    "These structures are built from arrays from the NumPy library, adding new functionalities.\n",
    "\n",
    "\n",
    "<img src=\"./assets/series_dataframe.png\" width=\"600\"/>\n"
   ]
  },
  {
   "cell_type": "markdown",
   "id": "2060325e",
   "metadata": {},
   "source": [
    "## Object creation\n",
    "\n",
    "Creating a Series by passing a list of values, letting pandas create a default integer index:"
   ]
  },
  {
   "cell_type": "code",
   "execution_count": 4,
   "id": "2a9f5838",
   "metadata": {},
   "outputs": [
    {
     "data": {
      "text/plain": [
       "0    1.0\n",
       "1    3.0\n",
       "2    5.0\n",
       "3    NaN\n",
       "4    6.0\n",
       "5    8.0\n",
       "dtype: float64"
      ]
     },
     "execution_count": 4,
     "metadata": {},
     "output_type": "execute_result"
    }
   ],
   "source": [
    "import numpy as np\n",
    "import pandas as pd\n",
    "\n",
    "s = pd.Series([1, 3, 5, np.nan, 6, 8])\n",
    "s"
   ]
  },
  {
   "cell_type": "markdown",
   "id": "e3c20b3d",
   "metadata": {},
   "source": [
    "In the previous exercise, we have created a pandas series (a one-dimensional vector or array) from a list. In the following exercise, we ask you to create a one-dimensional vector but this time from other python structures.\n",
    "\n",
    "#### Exercise: Create a pandas series from each of the items below: a list, numpy and a dictionary (★☆☆)"
   ]
  },
  {
   "cell_type": "code",
   "execution_count": 14,
   "id": "8a758bcf",
   "metadata": {},
   "outputs": [
    {
     "name": "stdout",
     "output_type": "stream",
     "text": [
      "0            [1, 3]\n",
      "1        [1.0, 1.0]\n",
      "2    {'p1': (1, 4)}\n",
      "dtype: object\n"
     ]
    }
   ],
   "source": [
    "import pandas as pd\n",
    "import numpy as np\n",
    "\n",
    "s = pd.Series([[1,3],np.ones(2),{'p1':(1,4)}])\n",
    "\n",
    "print(s)"
   ]
  },
  {
   "cell_type": "markdown",
   "id": "0a708990",
   "metadata": {},
   "source": [
    "#### Exercise: Now, try to create a dataframe of one column from a pandas series (★☆☆)\n",
    "\n",
    "Check the function `to_frame` (https://pandas.pydata.org/docs/reference/api/pandas.Series.to_frame.html)"
   ]
  },
  {
   "cell_type": "code",
   "execution_count": 19,
   "id": "477e01f4",
   "metadata": {},
   "outputs": [
    {
     "name": "stdout",
     "output_type": "stream",
     "text": [
      "0    9\n",
      "1    0\n",
      "2    6\n",
      "3    8\n",
      "4    7\n",
      "Name: random_ints, dtype: int64\n",
      "   random_ints\n",
      "0            9\n",
      "1            0\n",
      "2            6\n",
      "3            8\n",
      "4            7\n"
     ]
    }
   ],
   "source": [
    "import numpy as np\n",
    "import pandas as pd\n",
    "\n",
    "s = pd.Series(np.random.randint(0,10,5),name='random_ints')\n",
    "print(s)\n",
    "\n",
    "print(s.to_frame())"
   ]
  },
  {
   "cell_type": "markdown",
   "id": "0b16cd77",
   "metadata": {},
   "source": [
    "#### Exercise: How to combine many series to form a dataframe? (★☆☆)\n",
    "Create two series with names `ser1` and `ser2` to form a dataframe. That is, a two columns dataframe from the series `ser1` and `ser2`."
   ]
  },
  {
   "cell_type": "code",
   "execution_count": 25,
   "id": "4d9b5975",
   "metadata": {},
   "outputs": [
    {
     "name": "stdout",
     "output_type": "stream",
     "text": [
      "0    1\n",
      "1    8\n",
      "2    8\n",
      "Name: r1, dtype: int64\n",
      "0    8\n",
      "1    6\n",
      "2    0\n",
      "Name: r2, dtype: int64\n",
      "   r1  r2  L\n",
      "0   1   8  a\n",
      "1   8   6  b\n",
      "2   8   0  c\n"
     ]
    }
   ],
   "source": [
    "import numpy as np\n",
    "import pandas as pd\n",
    "\n",
    "ser1 = pd.Series(np.random.randint(0,10,3), name='r1')\n",
    "ser2 = pd.Series(np.random.randint(0,10,3),name='r2')\n",
    "\n",
    "print(ser1)\n",
    "print(ser2)\n",
    "\n",
    "df = pd.concat([ser1,ser2,pd.Series(['a','b','c'],name='L')],axis=1)\n",
    "\n",
    "print(df)\n",
    "\n"
   ]
  },
  {
   "cell_type": "markdown",
   "id": "782d4c77",
   "metadata": {},
   "source": [
    "#### Exercise: How to get the items not common to both series A and series B? (★☆☆)\n",
    "Extract the elements that are not in common of the series `ser1` and `ser2`we define below.\n",
    "Check functions `union1d` and `intersect1d` from numpy. Yes, numpy (https://numpy.org/doc/stable/reference/generated/numpy.union1d.html and https://numpy.org/doc/stable/reference/generated/numpy.intersect1d.html). Remember that **numpy and pandas work together**"
   ]
  },
  {
   "cell_type": "code",
   "execution_count": 50,
   "id": "5dbe1a08",
   "metadata": {},
   "outputs": [
    {
     "name": "stdout",
     "output_type": "stream",
     "text": [
      "[1 2 3 4 5 6 7]\n",
      "[3 4 5]\n",
      "[1 2 6 7]\n"
     ]
    }
   ],
   "source": [
    "# Input\n",
    "import numpy as np\n",
    "import pandas as pd\n",
    "\n",
    "ser1 = pd.Series([1, 2, 3, 4, 5])\n",
    "ser2 = pd.Series([3, 4, 5, 6, 7]) \n",
    "\n",
    "union = np.union1d(ser1,ser2)\n",
    "intersect = np.intersect1d(ser1,ser2)\n",
    "\n",
    "print(union)\n",
    "print(intersect)\n",
    "print(union[np.isin(union,intersect)==False])\n"
   ]
  },
  {
   "cell_type": "markdown",
   "id": "48d48f01",
   "metadata": {},
   "source": [
    "#### Exercise: How to convert a numpy array to a dataframe of given shape? (★☆☆)\n",
    "Reshape a random series into a dataframe with 7 rows and 5 columns. In this exercise, you have to create a one-dimensional array of length 35 and then you will have to convert that array into a dataframe"
   ]
  },
  {
   "cell_type": "code",
   "execution_count": 80,
   "id": "3ed233e7",
   "metadata": {},
   "outputs": [
    {
     "name": "stdout",
     "output_type": "stream",
     "text": [
      "[24 20 37 22 33 45 30 18 34 36 15 23 33 16 15 35 45 49 30 48 25 40 16 10\n",
      " 34 41 40 34 33  1 36 33 40  7 27]\n",
      "    c1\n",
      "0   24\n",
      "1   20\n",
      "2   37\n",
      "3   22\n",
      "4   33\n",
      "5   45\n",
      "6   30\n",
      "7   18\n",
      "8   34\n",
      "9   36\n",
      "10  15\n",
      "11  23\n",
      "12  33\n",
      "13  16\n",
      "14  15\n",
      "15  35\n",
      "16  45\n",
      "17  49\n",
      "18  30\n",
      "19  48\n",
      "20  25\n",
      "21  40\n",
      "22  16\n",
      "23  10\n",
      "24  34\n",
      "25  41\n",
      "26  40\n",
      "27  34\n",
      "28  33\n",
      "29   1\n",
      "30  36\n",
      "31  33\n",
      "32  40\n",
      "33   7\n",
      "34  27\n",
      "   c1  c2  c3  c4  c5\n",
      "0  24  20  37  22  33\n",
      "1  45  30  18  34  36\n",
      "2  15  23  33  16  15\n",
      "3  35  45  49  30  48\n",
      "4  25  40  16  10  34\n",
      "5  41  40  34  33   1\n",
      "6  36  33  40   7  27\n"
     ]
    }
   ],
   "source": [
    "import numpy as np\n",
    "import pandas as pd\n",
    "\n",
    "v = np.random.randint(0,50,35)\n",
    "print(v)\n",
    "\n",
    "s = pd.Series(v,name='values')\n",
    "x = s.values\n",
    "\n",
    "#print(x.reshape((7,5)))\n",
    "\n",
    "\n",
    "df1 = pd.DataFrame({'c1':s})\n",
    "df2 = pd.DataFrame(x.reshape((7,5)),columns=['c1','c2','c3','c4','c5'])\n",
    "\n",
    "print(df1)\n",
    "print(df2)"
   ]
  },
  {
   "cell_type": "markdown",
   "id": "4fa39382",
   "metadata": {},
   "source": [
    "#### Exercise:  How to extract items at given positions from a series (★☆☆)\n",
    "You can also create series and dataframe that contain strings. From the following pandas series `ser`, extract the items at positions in the list `pos`. Check `take`from pandas (https://pandas.pydata.org/docs/reference/api/pandas.DataFrame.take.html)"
   ]
  },
  {
   "cell_type": "code",
   "execution_count": 14,
   "id": "c97757ec",
   "metadata": {},
   "outputs": [
    {
     "name": "stdout",
     "output_type": "stream",
     "text": [
      "    L\n",
      "0   a\n",
      "4   e\n",
      "8   i\n",
      "14  o\n",
      "20  u\n"
     ]
    }
   ],
   "source": [
    "# Input\n",
    "import pandas as pd\n",
    "\n",
    "ser = pd.Series(list('abcdefghijklmnopqrstuvwxyz'))\n",
    "#print(ser)\n",
    "pos = [0, 4, 8, 14, 20]\n",
    "\n",
    "df = pd.DataFrame(ser,columns=['L'])\n",
    "print(df.take(pos))\n"
   ]
  },
  {
   "cell_type": "markdown",
   "id": "da64551a",
   "metadata": {},
   "source": [
    "#### Exercise:  How to stack two series vertically and horizontally ?\n",
    "Create two series `ser1` and `ser2` and stack them vertically and horizontally (to form a dataframe). Check `concatenate`from pandas (https://pandas.pydata.org/docs/reference/api/pandas.concat.html)"
   ]
  },
  {
   "cell_type": "code",
   "execution_count": 24,
   "id": "327f7adb",
   "metadata": {},
   "outputs": [
    {
     "name": "stdout",
     "output_type": "stream",
     "text": [
      "[1 4 8] [9 9 7]\n",
      "0    1\n",
      "1    4\n",
      "2    8\n",
      "dtype: int64\n",
      "0    9\n",
      "1    9\n",
      "2    7\n",
      "dtype: int64\n",
      "0    1\n",
      "1    4\n",
      "2    8\n",
      "0    9\n",
      "1    9\n",
      "2    7\n",
      "dtype: int64\n",
      "   0  1\n",
      "0  1  9\n",
      "1  4  9\n",
      "2  8  7\n"
     ]
    }
   ],
   "source": [
    "import numpy as np\n",
    "import pandas as pd\n",
    "\n",
    "x = np.random.randint(0,10,3)\n",
    "y = np.random.randint(0,10,3)\n",
    "\n",
    "print(x,y)\n",
    "\n",
    "ser1 = pd.Series(x)\n",
    "ser2 = pd.Series(y)\n",
    "\n",
    "print(ser1)\n",
    "print(ser2)\n",
    "df1 = pd.concat([ser1,ser2],axis=0)\n",
    "print(df1)\n",
    "df2 = pd.concat([ser1,ser2],axis=1)\n",
    "print(df2)"
   ]
  },
  {
   "cell_type": "markdown",
   "id": "13c5928c",
   "metadata": {},
   "source": [
    "#### Exercise: How to get the positions of items of series A in another series B? (★★☆)\n",
    "Get the positions of items of ser2 in ser1 as a list. Remember the function `where`from numpy (https://numpy.org/devdocs/reference/generated/numpy.where.html)"
   ]
  },
  {
   "cell_type": "code",
   "execution_count": 47,
   "id": "911c9b93",
   "metadata": {},
   "outputs": [
    {
     "name": "stdout",
     "output_type": "stream",
     "text": [
      "[5, 4, 0, 8]\n"
     ]
    }
   ],
   "source": [
    "## Input\n",
    "import pandas as pd\n",
    "import numpy as np\n",
    "\n",
    "ser1 = pd.Series([10, 9, 6, 5, 3, 1, 12, 8, 13])\n",
    "ser2 = pd.Series([1, 3, 10, 13]) \n",
    "\n",
    "i = [pd.Index(ser1).get_loc(x) for x in ser2]\n",
    "print(i)"
   ]
  },
  {
   "cell_type": "markdown",
   "id": "3fa2e461",
   "metadata": {},
   "source": [
    "#### Exercise: How to compute difference of differences between consequtive numbers of a series? (★★☆)\n",
    "Difference of differences between the consequtive numbers of `ser`."
   ]
  },
  {
   "cell_type": "code",
   "execution_count": 50,
   "id": "323eb38a",
   "metadata": {},
   "outputs": [
    {
     "name": "stdout",
     "output_type": "stream",
     "text": [
      "0    NaN\n",
      "1    NaN\n",
      "2    1.0\n",
      "3    1.0\n",
      "4    1.0\n",
      "5    1.0\n",
      "6    0.0\n",
      "7    2.0\n",
      "dtype: float64\n"
     ]
    }
   ],
   "source": [
    "## Input\n",
    "ser = pd.Series([1, 3, 6, 10, 15, 21, 27, 35])\n",
    "\n",
    "print(ser.diff().diff())\n",
    "\n",
    "## Output should be like following\n",
    "# [nan, 2.0, 3.0, 4.0, 5.0, 6.0, 6.0, 8.0]\n",
    "# [nan, nan, 1.0, 1.0, 1.0, 1.0, 0.0, 2.0]"
   ]
  },
  {
   "cell_type": "markdown",
   "id": "ff8dbb92",
   "metadata": {},
   "source": [
    "## Apply functions to a series\n",
    "It is also possible to apply a function to each element of the series using the following method:\n",
    "\n",
    "`s.apply(f)`: Returns a series with the result of applying the function f to each of the elements of the series s.\n",
    "\n",
    "### Example\n",
    "```\n",
    "import pandas as pd\n",
    "from math import log\n",
    "s = pd.Series([1, 2, 3, 4])\n",
    "s.apply(log)\n",
    "```"
   ]
  },
  {
   "cell_type": "markdown",
   "id": "e3a7ba7f",
   "metadata": {},
   "source": [
    "#### Exercise: Convert all values of a pandas series of string to upper (★☆☆)\n",
    "You have to create a series of strings with random values and then convert each string to capital letters.\n",
    "Check upper in pandas (https://pandas.pydata.org/docs/reference/api/pandas.Series.str.upper.html)"
   ]
  },
  {
   "cell_type": "code",
   "execution_count": 56,
   "id": "01d8e257",
   "metadata": {},
   "outputs": [
    {
     "name": "stdout",
     "output_type": "stream",
     "text": [
      "0    A\n",
      "1    B\n",
      "2    C\n",
      "dtype: object\n"
     ]
    }
   ],
   "source": [
    "import numpy as np\n",
    "import pandas as pd\n",
    "\n",
    "v = np.array(['a','b','c'])\n",
    "s = pd.Series(v)\n",
    "\n",
    "print(s.apply(str.upper))"
   ]
  },
  {
   "cell_type": "markdown",
   "id": "6d17ab5d",
   "metadata": {},
   "source": [
    "#### Exercise: Get all values greater than 5 from a pandas series (★☆☆)\n",
    "Remember that you can create series and dataframes from dictionaries. In this exercise you will have to get all values greater than 5."
   ]
  },
  {
   "cell_type": "code",
   "execution_count": 63,
   "id": "841373cd",
   "metadata": {},
   "outputs": [
    {
     "name": "stdout",
     "output_type": "stream",
     "text": [
      "Math           6.0\n",
      "Programming    8.5\n",
      "dtype: float64\n"
     ]
    }
   ],
   "source": [
    "## Input\n",
    "s = pd.Series({'Math': 6.0,  'Economy': 4.5, 'Programming': 8.5})\n",
    "\n",
    "print(s[s>5])"
   ]
  },
  {
   "cell_type": "markdown",
   "id": "8837119b",
   "metadata": {},
   "source": [
    "#### Exercise: Sort a series. Sort the series from the previous exercise in both, ascending and descendant order (★ ☆☆)\n",
    "The following methods are used to sort a series:\n",
    "\n",
    "`s.sort_values (ascending = Boolean)`: Returns the series that results from ordering the values in the series s. If the argument of the ascending parameter is True the order is increasing and if False it is decreasing.\n",
    "\n",
    "`df.sort_index (ascending = Boolean)`: Returns the series that results from sorting the index of the series s. If the argument of the ascending parameter is True the order is increasing and if it is False decreasing."
   ]
  },
  {
   "cell_type": "code",
   "execution_count": 69,
   "id": "2c0d16f1",
   "metadata": {},
   "outputs": [
    {
     "name": "stdout",
     "output_type": "stream",
     "text": [
      "Programming    8.5\n",
      "Math           6.0\n",
      "Economy        4.5\n",
      "dtype: float64\n",
      "Economy        4.5\n",
      "Math           6.0\n",
      "Programming    8.5\n",
      "dtype: float64\n"
     ]
    }
   ],
   "source": [
    "print(s.sort_values(ascending=False))\n",
    "print(s.sort_values(ascending=True))"
   ]
  },
  {
   "cell_type": "markdown",
   "id": "ec788c9f",
   "metadata": {},
   "source": [
    "#### Exercise: Eliminate the unknown (`NA`) values in a series.  Drop the NAs values from the series\n",
    "Unknown data is represented in Pandas by `NaN` and `null` by `None`. Both are usually a problem when performing some data analysis, so it is common to eliminate them. To remove them from a series the following method is used:\n",
    "\n",
    "s.dropna (): Removes the unknown or null data from the s series."
   ]
  },
  {
   "cell_type": "code",
   "execution_count": 97,
   "id": "0a4f919f",
   "metadata": {},
   "outputs": [
    {
     "name": "stdout",
     "output_type": "stream",
     "text": [
      "0       a\n",
      "1       b\n",
      "2    None\n",
      "3       c\n",
      "4     NaN\n",
      "5       d\n",
      "dtype: object\n",
      "0    a\n",
      "1    b\n",
      "3    c\n",
      "5    d\n",
      "dtype: object\n"
     ]
    }
   ],
   "source": [
    "## Input\n",
    "import pandas as pd\n",
    "import numpy as np\n",
    "s = pd.Series(['a', 'b', None, 'c', np.NaN,  'd'])\n",
    "\n",
    "print(s)\n",
    "print(s.dropna())\n"
   ]
  },
  {
   "cell_type": "markdown",
   "id": "391791e0",
   "metadata": {},
   "source": [
    "## The DataFrame object class\n",
    "\n",
    "An object of type DataFrame defines a set of data structured in the form of a table where each column is an object of type Series, that is, all the data in the same column are of the same type, and the rows are records that can contain data from Different types.\n",
    "\n",
    "A DataFrame contains two indexes, one for the rows and one for the columns, and its elements can be accessed by the names of the rows and columns.\n",
    "\n",
    "Example. The following DataFrame contains information about the students in a course. Each row corresponds to a student and each column to a variable.\n",
    "\n",
    "![alt text](./assets/df.png \"df\")\n"
   ]
  },
  {
   "cell_type": "markdown",
   "id": "7c2e563a",
   "metadata": {},
   "source": [
    "## Creating a DataFrame from a CSV or Excel file\n",
    "Depending on the type of file, there are different functions to import a DataFrame from a file.\n",
    "\n",
    "- read_csv: Returns an object of type DataFrame with the data from the CSV file file.csv using as separator of the data the string separator.\n",
    "\n",
    "- read_excel: Returns an object of type DataFrame with the data from the spreadsheet sheet of the Excel file file .xlsx."
   ]
  },
  {
   "cell_type": "markdown",
   "id": "50a54d72",
   "metadata": {},
   "source": [
    "## The Titanic dataset \n",
    "The titanica dataset is a famous and \"funny\" dataset in the area of data science. It is commonly used for beginners in order to know how to fit a machine learning model. The competition is simple: use machine learning to create a model that predicts which passengers survived the Titanic shipwreck.\n",
    "\n",
    "The dataset consists of the following variables.\n",
    "\n",
    "\n",
    "| Variable | Definition                                 | Key                                            |\n",
    "|----------|--------------------------------------------|------------------------------------------------|\n",
    "| survival | Survival                                   | 0 = No, 1 = Yes                                |\n",
    "| pclass   | Ticket class                               | 1 = 1st, 2 = 2nd, 3 = 3rd                      |\n",
    "| sex      | Sex                                        |                                                |\n",
    "| Age      | Age in years                               |                                                |\n",
    "| sibsp    | # of siblings / spouses aboard the Titanic |                                                |\n",
    "| parch    | # of parents / children aboard the Titanic |                                                |\n",
    "| ticket   | Ticket number                              |                                                |\n",
    "| fare     | Passenger fare                             |                                                |\n",
    "| cabin    | Cabin number                               |                                                |\n",
    "| embarked | Port of Embarkation                        | C = Cherbourg, Q = Queenstown, S = Southampton |\n",
    "\n",
    "\n",
    "In the following exercise you will have to get some insights about this dataset. An insight is a just derived information you can get from a dataset like the mean of age for example."
   ]
  },
  {
   "cell_type": "markdown",
   "id": "1e74d39e",
   "metadata": {},
   "source": [
    "#### Exercise: Read the data `titanic_train.csv` located in the assets folder (★☆☆)"
   ]
  },
  {
   "cell_type": "code",
   "execution_count": 3,
   "id": "3f639d33",
   "metadata": {},
   "outputs": [
    {
     "name": "stdout",
     "output_type": "stream",
     "text": [
      "   PassengerId  Survived  Pclass  \\\n",
      "0            1         0       3   \n",
      "1            2         1       1   \n",
      "2            3         1       3   \n",
      "3            4         1       1   \n",
      "4            5         0       3   \n",
      "\n",
      "                                                Name     Sex   Age  SibSp  \\\n",
      "0                            Braund, Mr. Owen Harris    male  22.0      1   \n",
      "1  Cumings, Mrs. John Bradley (Florence Briggs Th...  female  38.0      1   \n",
      "2                             Heikkinen, Miss. Laina  female  26.0      0   \n",
      "3       Futrelle, Mrs. Jacques Heath (Lily May Peel)  female  35.0      1   \n",
      "4                           Allen, Mr. William Henry    male  35.0      0   \n",
      "\n",
      "   Parch            Ticket     Fare Cabin Embarked  \n",
      "0      0         A/5 21171   7.2500   NaN        S  \n",
      "1      0          PC 17599  71.2833   C85        C  \n",
      "2      0  STON/O2. 3101282   7.9250   NaN        S  \n",
      "3      0            113803  53.1000  C123        S  \n",
      "4      0            373450   8.0500   NaN        S  \n"
     ]
    }
   ],
   "source": [
    "import pandas as pd\n",
    "df = pd.read_csv('./assets/titanic_train.csv')\n",
    "print(df.head())"
   ]
  },
  {
   "cell_type": "markdown",
   "id": "78250c14",
   "metadata": {},
   "source": [
    "#### Exercise: File export. Export the previous data frame separated by semicolon (;) and name it as \"`your_name.txt`\" (★☆☆)\n",
    "There are also functions to export a DataFrame to a file with different formats.\n",
    "\n",
    "- `df.to_csv (file.csv, sep = separator, columns = Boolean, index = Boolean)`: Exports the DataFrame df to the file file.csv in CSV format using the separator string as data separator.\n",
    "- `df.to_excel (file.xlsx, sheet_name = sheet, columns = Boolean, index = Boolean)`: Exports the DataFrame df to the spreadsheet sheet of the file file.xlsx in Excel format."
   ]
  },
  {
   "cell_type": "code",
   "execution_count": 4,
   "id": "9fe729cb",
   "metadata": {},
   "outputs": [],
   "source": [
    "df.to_csv('salvatore.txt',sep=';')"
   ]
  },
  {
   "cell_type": "markdown",
   "id": "51898680",
   "metadata": {},
   "source": [
    "## Attributes of a DataFrame\n",
    "There are several properties or methods for viewing the characteristics of a DataFrame.\n",
    "\n",
    "- `df.info()`: Returns information (number of rows, number of columns, indexes, type of columns and used memory) about the DataFrame df.\n",
    "\n",
    "- `df.shape`: Returns a tuple with the number of rows and columns of the DataFrame df.\n",
    "\n",
    "- `df.size`: Returns the number of elements in the DataFrame.\n",
    "\n",
    "- `df.columns`: Returns a list with the names of the columns of the DataFrame df.\n",
    "\n",
    "- `df.index`: Returns a list with the names of the rows in the DataFrame df.\n",
    "\n",
    "- `df.dtypes`: Returns a series with the data types of the columns of the DataFrame df.\n",
    "\n",
    "- `df.head(n)`: Returns the first n rows of the DataFrame df.\n",
    "\n",
    "- `df.tail(n)`: Returns the last n rows of the DataFrame df."
   ]
  },
  {
   "cell_type": "markdown",
   "id": "89e78048",
   "metadata": {},
   "source": [
    "#### Exercise: Read the dataframe exported as \"`your_name.txt`\" and print all the previous attributes taking `n = 10` (★☆☆)"
   ]
  },
  {
   "cell_type": "code",
   "execution_count": 5,
   "id": "b62e9d1c",
   "metadata": {},
   "outputs": [
    {
     "name": "stdout",
     "output_type": "stream",
     "text": [
      "Index(['Unnamed: 0', 'PassengerId', 'Survived', 'Pclass', 'Name', 'Sex', 'Age',\n",
      "       'SibSp', 'Parch', 'Ticket', 'Fare', 'Cabin', 'Embarked'],\n",
      "      dtype='object')\n"
     ]
    }
   ],
   "source": [
    "df_sal=pd.read_csv('salvatore.txt',sep=';').head(10)\n",
    "#print(df_sal.info())\n",
    "#print(df_sal.shape)\n",
    "#print(df_sal.size)\n",
    "print(df_sal.columns)\n",
    "#print(df_sal.index)\n",
    "#print(df_sal.dtypes)"
   ]
  },
  {
   "cell_type": "markdown",
   "id": "ebd10810",
   "metadata": {},
   "source": [
    "#### Exercise: Change the name of columns of the above data frame using two different methos (★★☆) \n",
    "Check the function `rename` (https://pandas.pydata.org/docs/reference/api/pandas.DataFrame.rename.html) and remember you can get the name of columns using `df.columns`"
   ]
  },
  {
   "cell_type": "code",
   "execution_count": 6,
   "id": "6ada209f",
   "metadata": {},
   "outputs": [
    {
     "name": "stdout",
     "output_type": "stream",
     "text": [
      "['PassengerId' 'Survived' 'Pclass' 'Name' 'Sex' 'Age' 'SibSp' 'Parch'\n",
      " 'Ticket' 'Fare' 'Cabin' 'Embarked']\n",
      "['id', 'surv', 'class', 'name', 'sex', 'age', 'sibs', 'parents', 'ticket', 'fare', 'cabin', 'port']\n",
      "{'PassengerId': 'id', 'Survived': 'surv', 'Pclass': 'class', 'Name': 'name', 'Sex': 'sex', 'Age': 'age', 'SibSp': 'sibs', 'Parch': 'parents', 'Ticket': 'ticket', 'Fare': 'fare', 'Cabin': 'cabin', 'Embarked': 'port'}\n",
      "----------------------------------------------------\n",
      "   id  surv  class                     name   sex   age  sibs  parents  \\\n",
      "0   1     0      3  Braund, Mr. Owen Harris  male  22.0     1        0   \n",
      "\n",
      "      ticket  fare cabin port  \n",
      "0  A/5 21171  7.25   NaN    S  \n",
      "Index(['PassengerId', 'Survived', 'Pclass', 'Name', 'Sex', 'Age', 'SibSp',\n",
      "       'Parch', 'Ticket', 'Fare', 'Cabin', 'Embarked'],\n",
      "      dtype='object')\n",
      "----------------------------------------------------\n",
      "   PassengerId  Survived  Pclass                     Name   Sex   Age  SibSp  \\\n",
      "0            1         0       3  Braund, Mr. Owen Harris  male  22.0      1   \n",
      "\n",
      "   Parch     Ticket  Fare Cabin Embarked  \n",
      "0      0  A/5 21171  7.25   NaN        S  \n",
      "   id  surv  class                     name   sex   age  sibs  parents  \\\n",
      "0   1     0      3  Braund, Mr. Owen Harris  male  22.0     1        0   \n",
      "\n",
      "      ticket  fare cabin port  \n",
      "0  A/5 21171  7.25   NaN    S  \n"
     ]
    }
   ],
   "source": [
    "df_sal=pd.read_csv('salvatore.txt',sep=';',index_col=[0]).head(10)\n",
    "old_columns= df_sal.columns\n",
    "\n",
    "old_name= df_sal.columns.values\n",
    "new_name = ['id','surv','class','name','sex','age','sibs','parents','ticket','fare','cabin','port']\n",
    "on_nn = dict(zip(old_name,new_name))\n",
    "\n",
    "print(old_name)\n",
    "print(new_name)\n",
    "print(on_nn)\n",
    "df_sal.rename(columns=on_nn,inplace=True,)\n",
    "print('----------------------------------------------------')\n",
    "print(df_sal.head(1))\n",
    "print(old_columns)\n",
    "df_sal.columns=old_columns\n",
    "print('----------------------------------------------------')\n",
    "print(df_sal.head(1))\n",
    "df_sal.rename(columns=on_nn,inplace=True)\n",
    "print(df_sal.head(1))\n",
    "\n"
   ]
  },
  {
   "cell_type": "markdown",
   "id": "c0e940f8",
   "metadata": {},
   "source": [
    "#### Exercise: Change the index of the above data frame using two different methos (★★☆) \n",
    "Check `iloc` (https://pandas.pydata.org/docs/reference/api/pandas.DataFrame.iloc.html)"
   ]
  },
  {
   "cell_type": "code",
   "execution_count": 7,
   "id": "820dc7a5",
   "metadata": {},
   "outputs": [
    {
     "name": "stdout",
     "output_type": "stream",
     "text": [
      "   id  surv  class                     name   sex   age  sibs  parents  \\\n",
      "0   1     0      3  Braund, Mr. Owen Harris  male  22.0     1        0   \n",
      "\n",
      "      ticket  fare cabin port  \n",
      "0  A/5 21171  7.25   NaN    S  \n",
      "----------------\n",
      "   id  surv  class                                               name     sex  \\\n",
      "0   2     1      1  Cumings, Mrs. John Bradley (Florence Briggs Th...  female   \n",
      "\n",
      "    age  sibs  parents    ticket     fare cabin port  \n",
      "0  38.0     1        0  PC 17599  71.2833   C85    C  \n"
     ]
    }
   ],
   "source": [
    "print(df_sal.head(1))\n",
    "r1 = df_sal.iloc[0]\n",
    "r2 = df_sal.loc[1]\n",
    "#print(r1)\n",
    "print('----------------')\n",
    "#print(r2)\n",
    "#print(df_sal['name'][0])\n",
    "#print(df_sal.name[0])\n",
    "#print(df_sal.iloc[0][3])\n",
    "#print(df_sal.loc[0]['name'])\n",
    "\n",
    "df_sal.loc[0]=r2\n",
    "df_sal.loc[1]= r1\n",
    "print(df_sal.head(1))"
   ]
  },
  {
   "cell_type": "markdown",
   "id": "22713c3f",
   "metadata": {},
   "source": [
    "#### Exercise: Get the position (3,5) from the dataframe `your_name.txt`  (★☆☆)"
   ]
  },
  {
   "cell_type": "code",
   "execution_count": 8,
   "id": "a3e05c29",
   "metadata": {},
   "outputs": [
    {
     "name": "stdout",
     "output_type": "stream",
     "text": [
      "35.0\n"
     ]
    }
   ],
   "source": [
    "df = pd.read_csv('salvatore.txt',sep=';',index_col=[0])\n",
    "\n",
    "print(df.loc[3][5])"
   ]
  },
  {
   "cell_type": "markdown",
   "id": "4815930e",
   "metadata": {},
   "source": [
    "#### Exercise: Get the 10-th value from the column \"Ticket\" from the dataframe `your_name.txt`  (★☆☆)"
   ]
  },
  {
   "cell_type": "code",
   "execution_count": 9,
   "id": "cd81c3c6",
   "metadata": {},
   "outputs": [
    {
     "name": "stdout",
     "output_type": "stream",
     "text": [
      "237736\n"
     ]
    }
   ],
   "source": [
    "df_sal = pd.read_csv('salvatore.txt',sep=';',index_col=[0])\n",
    "old_name= df_sal.columns.values\n",
    "new_name = ['id','surv','class','name','sex','age','sibs','parents','ticket','fare','cabin','port']\n",
    "on_nn = dict(zip(old_name,new_name))\n",
    "\n",
    "df_sal.rename(columns=on_nn,inplace=True)\n",
    "print(df_sal.ticket[9])"
   ]
  },
  {
   "cell_type": "markdown",
   "id": "8e34f294",
   "metadata": {},
   "source": [
    "#### Exercise: Add columns to a DataFrame. Create a random array and a random list and add them to the dataframe coming from  `your_name.txt` (★☆☆)\n",
    "The procedure for adding a new column to a DataFrame is similar to adding a new pair to a dictionary, but passing the column's values in a list or series."
   ]
  },
  {
   "cell_type": "code",
   "execution_count": 45,
   "id": "890bde78",
   "metadata": {},
   "outputs": [
    {
     "name": "stdout",
     "output_type": "stream",
     "text": [
      "   PassengerId  Survived  Pclass  \\\n",
      "0            1         0       3   \n",
      "1            2         1       1   \n",
      "2            3         1       3   \n",
      "3            4         1       1   \n",
      "4            5         0       3   \n",
      "\n",
      "                                                Name     Sex   Age  SibSp  \\\n",
      "0                            Braund, Mr. Owen Harris    male  22.0      1   \n",
      "1  Cumings, Mrs. John Bradley (Florence Briggs Th...  female  38.0      1   \n",
      "2                             Heikkinen, Miss. Laina  female  26.0      0   \n",
      "3       Futrelle, Mrs. Jacques Heath (Lily May Peel)  female  35.0      1   \n",
      "4                           Allen, Mr. William Henry    male  35.0      0   \n",
      "\n",
      "   Parch            Ticket     Fare Cabin Embarked  new_col  \n",
      "0      0         A/5 21171   7.2500   NaN        S      -16  \n",
      "1      0          PC 17599  71.2833   C85        C        4  \n",
      "2      0  STON/O2. 3101282   7.9250   NaN        S       -2  \n",
      "3      0            113803  53.1000  C123        S        9  \n",
      "4      0            373450   8.0500   NaN        S        6  \n"
     ]
    }
   ],
   "source": [
    "import numpy as np\n",
    "import pandas as pd\n",
    "\n",
    "df_sal= pd.read_csv('salvatore.txt',sep=';',index_col=[0])\n",
    "l= df_sal.shape[0]\n",
    "#print(l)\n",
    "\n",
    "v = np.random.randn(l)* 10 // 1\n",
    "v = v.astype(int)\n",
    "#print(v)\n",
    "df_sal['new_col']=v\n",
    "\n",
    "print(df_sal.head(5))"
   ]
  },
  {
   "cell_type": "markdown",
   "id": "759c9c8d",
   "metadata": {},
   "source": [
    "#### Exercise: Create or subset a data frame. Subset the dataframe coming from `your_name.txt` by Male registers using two different methods (★★☆)\n",
    "Remember the function `where` from `numpy`"
   ]
  },
  {
   "cell_type": "code",
   "execution_count": 32,
   "id": "6801c73d",
   "metadata": {},
   "outputs": [
    {
     "name": "stdout",
     "output_type": "stream",
     "text": [
      "   PassengerId  Survived  Pclass                            Name   Sex   Age  \\\n",
      "0            1         0       3         Braund, Mr. Owen Harris  male  22.0   \n",
      "4            5         0       3        Allen, Mr. William Henry  male  35.0   \n",
      "5            6         0       3                Moran, Mr. James  male   NaN   \n",
      "6            7         0       1         McCarthy, Mr. Timothy J  male  54.0   \n",
      "7            8         0       3  Palsson, Master. Gosta Leonard  male   2.0   \n",
      "\n",
      "   SibSp  Parch     Ticket     Fare Cabin Embarked  new_col  \n",
      "0      1      0  A/5 21171   7.2500   NaN        S        3  \n",
      "4      0      0     373450   8.0500   NaN        S       -5  \n",
      "5      0      0     330877   8.4583   NaN        Q       -1  \n",
      "6      0      0      17463  51.8625   E46        S        6  \n",
      "7      3      1     349909  21.0750   NaN        S       -1  \n"
     ]
    }
   ],
   "source": [
    "x= df_sal[df_sal.Sex=='male']\n",
    "print(x.head())"
   ]
  },
  {
   "cell_type": "markdown",
   "id": "129c342d",
   "metadata": {},
   "source": [
    "## Descriptive summary of a DataFrame\n",
    "As for strings, the following methods allow you to summarize the information in a DataFrame by columns:\n",
    "\n",
    "- `df.count()`: Returns a series number of elements that are not null or NaN in each column of the DataFrame df.\n",
    "- `df.sum()`: Returns a series with the sum of the data of the columns of the DataFrame df when the data is of a numeric type, or the concatenation of them when they are of the string type str.\n",
    "- `df.cumsum()`: Returns a DataFrame with the cumulative sum of the data in the columns of the DataFrame df when the data is of a numeric type.\n",
    "- `df.min()`: Returns a series with the minors of the data of the columns of the DataFrame df.\n",
    "- `df.max()`: Returns a series with the largest of the data in the columns of the DataFrame df.\n",
    "- `df.mean()`: Returns a series with the mean of the data in the columns of the DataFrame df when the data is of a numeric type.\n",
    "- `df.std()`: Returns a series with the standard deviations of the data in the columns of the DataFrame df when the data is of a numeric type.\n",
    "- `df.describe(include = type)`: Returns a DataFrame with a statistical summary of the columns of the DataFrame df of type type. For numerical data(number), the mean, standard deviation, minimum, maximum and quartiles of the numeric columns are calculated. For non-numeric data(object) the number of values, the number of distinct values, the mode and their frequency are calculated. If the type is not indicated, only the numeric columns are considered."
   ]
  },
  {
   "cell_type": "markdown",
   "id": "25ab9cc1",
   "metadata": {},
   "source": [
    "#### Exercise: Make a description of the dataset `your_name.txt` (★☆☆)"
   ]
  },
  {
   "cell_type": "code",
   "execution_count": 36,
   "id": "8ba1badb",
   "metadata": {},
   "outputs": [
    {
     "data": {
      "text/html": [
       "<div>\n",
       "<style scoped>\n",
       "    .dataframe tbody tr th:only-of-type {\n",
       "        vertical-align: middle;\n",
       "    }\n",
       "\n",
       "    .dataframe tbody tr th {\n",
       "        vertical-align: top;\n",
       "    }\n",
       "\n",
       "    .dataframe thead th {\n",
       "        text-align: right;\n",
       "    }\n",
       "</style>\n",
       "<table border=\"1\" class=\"dataframe\">\n",
       "  <thead>\n",
       "    <tr style=\"text-align: right;\">\n",
       "      <th></th>\n",
       "      <th>PassengerId</th>\n",
       "      <th>Survived</th>\n",
       "      <th>Pclass</th>\n",
       "      <th>Age</th>\n",
       "      <th>SibSp</th>\n",
       "      <th>Parch</th>\n",
       "      <th>Fare</th>\n",
       "      <th>new_col</th>\n",
       "    </tr>\n",
       "  </thead>\n",
       "  <tbody>\n",
       "    <tr>\n",
       "      <th>count</th>\n",
       "      <td>891.000000</td>\n",
       "      <td>891.000000</td>\n",
       "      <td>891.000000</td>\n",
       "      <td>714.000000</td>\n",
       "      <td>891.000000</td>\n",
       "      <td>891.000000</td>\n",
       "      <td>891.000000</td>\n",
       "      <td>891.000000</td>\n",
       "    </tr>\n",
       "    <tr>\n",
       "      <th>mean</th>\n",
       "      <td>446.000000</td>\n",
       "      <td>0.383838</td>\n",
       "      <td>2.308642</td>\n",
       "      <td>29.699118</td>\n",
       "      <td>0.523008</td>\n",
       "      <td>0.381594</td>\n",
       "      <td>32.204208</td>\n",
       "      <td>-0.524130</td>\n",
       "    </tr>\n",
       "    <tr>\n",
       "      <th>std</th>\n",
       "      <td>257.353842</td>\n",
       "      <td>0.486592</td>\n",
       "      <td>0.836071</td>\n",
       "      <td>14.526497</td>\n",
       "      <td>1.102743</td>\n",
       "      <td>0.806057</td>\n",
       "      <td>49.693429</td>\n",
       "      <td>10.016067</td>\n",
       "    </tr>\n",
       "    <tr>\n",
       "      <th>min</th>\n",
       "      <td>1.000000</td>\n",
       "      <td>0.000000</td>\n",
       "      <td>1.000000</td>\n",
       "      <td>0.420000</td>\n",
       "      <td>0.000000</td>\n",
       "      <td>0.000000</td>\n",
       "      <td>0.000000</td>\n",
       "      <td>-39.000000</td>\n",
       "    </tr>\n",
       "    <tr>\n",
       "      <th>25%</th>\n",
       "      <td>223.500000</td>\n",
       "      <td>0.000000</td>\n",
       "      <td>2.000000</td>\n",
       "      <td>20.125000</td>\n",
       "      <td>0.000000</td>\n",
       "      <td>0.000000</td>\n",
       "      <td>7.910400</td>\n",
       "      <td>-7.000000</td>\n",
       "    </tr>\n",
       "    <tr>\n",
       "      <th>50%</th>\n",
       "      <td>446.000000</td>\n",
       "      <td>0.000000</td>\n",
       "      <td>3.000000</td>\n",
       "      <td>28.000000</td>\n",
       "      <td>0.000000</td>\n",
       "      <td>0.000000</td>\n",
       "      <td>14.454200</td>\n",
       "      <td>-1.000000</td>\n",
       "    </tr>\n",
       "    <tr>\n",
       "      <th>75%</th>\n",
       "      <td>668.500000</td>\n",
       "      <td>1.000000</td>\n",
       "      <td>3.000000</td>\n",
       "      <td>38.000000</td>\n",
       "      <td>1.000000</td>\n",
       "      <td>0.000000</td>\n",
       "      <td>31.000000</td>\n",
       "      <td>7.000000</td>\n",
       "    </tr>\n",
       "    <tr>\n",
       "      <th>max</th>\n",
       "      <td>891.000000</td>\n",
       "      <td>1.000000</td>\n",
       "      <td>3.000000</td>\n",
       "      <td>80.000000</td>\n",
       "      <td>8.000000</td>\n",
       "      <td>6.000000</td>\n",
       "      <td>512.329200</td>\n",
       "      <td>28.000000</td>\n",
       "    </tr>\n",
       "  </tbody>\n",
       "</table>\n",
       "</div>"
      ],
      "text/plain": [
       "       PassengerId    Survived      Pclass         Age       SibSp  \\\n",
       "count   891.000000  891.000000  891.000000  714.000000  891.000000   \n",
       "mean    446.000000    0.383838    2.308642   29.699118    0.523008   \n",
       "std     257.353842    0.486592    0.836071   14.526497    1.102743   \n",
       "min       1.000000    0.000000    1.000000    0.420000    0.000000   \n",
       "25%     223.500000    0.000000    2.000000   20.125000    0.000000   \n",
       "50%     446.000000    0.000000    3.000000   28.000000    0.000000   \n",
       "75%     668.500000    1.000000    3.000000   38.000000    1.000000   \n",
       "max     891.000000    1.000000    3.000000   80.000000    8.000000   \n",
       "\n",
       "            Parch        Fare     new_col  \n",
       "count  891.000000  891.000000  891.000000  \n",
       "mean     0.381594   32.204208   -0.524130  \n",
       "std      0.806057   49.693429   10.016067  \n",
       "min      0.000000    0.000000  -39.000000  \n",
       "25%      0.000000    7.910400   -7.000000  \n",
       "50%      0.000000   14.454200   -1.000000  \n",
       "75%      0.000000   31.000000    7.000000  \n",
       "max      6.000000  512.329200   28.000000  "
      ]
     },
     "execution_count": 36,
     "metadata": {},
     "output_type": "execute_result"
    }
   ],
   "source": [
    "#df_sal.describe([0.80],['object','float','int'])\n",
    "df_sal.describe()"
   ]
  },
  {
   "cell_type": "markdown",
   "id": "42f8b2f9",
   "metadata": {},
   "source": [
    "#### Exercise: Remove the column Ticket from your dataframe (★☆☆)"
   ]
  },
  {
   "cell_type": "code",
   "execution_count": 39,
   "id": "eb8ebe45",
   "metadata": {},
   "outputs": [
    {
     "name": "stdout",
     "output_type": "stream",
     "text": [
      "   PassengerId  Survived  Pclass                     Name   Sex   Age  SibSp  \\\n",
      "0            1         0       3  Braund, Mr. Owen Harris  male  22.0      1   \n",
      "\n",
      "   Parch  Fare Cabin Embarked  new_col  \n",
      "0      0  7.25   NaN        S        3  \n",
      "--------------------------\n",
      "   PassengerId  Survived  Pclass                     Name   Sex   Age  SibSp  \\\n",
      "0            1         0       3  Braund, Mr. Owen Harris  male  22.0      1   \n",
      "\n",
      "   Parch     Ticket  Fare Cabin Embarked  new_col  \n",
      "0      0  A/5 21171  7.25   NaN        S        3  \n"
     ]
    }
   ],
   "source": [
    "x = df_sal.drop(['Ticket'],axis=1,inplace=False)\n",
    "print(x.head(1))\n",
    "print('--------------------------')\n",
    "print(df_sal.head(1))"
   ]
  },
  {
   "cell_type": "markdown",
   "id": "486df8ea",
   "metadata": {},
   "source": [
    "#### Exercise: Sort the dataframe by the Age column  (★★☆)\n",
    "Check the functions `df.sort_values` and `df.sort_index`"
   ]
  },
  {
   "cell_type": "code",
   "execution_count": 53,
   "id": "34b4fa08",
   "metadata": {},
   "outputs": [
    {
     "name": "stdout",
     "output_type": "stream",
     "text": [
      "    PassengerId  Survived  Pclass  \\\n",
      "1             2         1       1   \n",
      "3             4         1       1   \n",
      "6             7         0       1   \n",
      "10           11         1       3   \n",
      "11           12         1       1   \n",
      "\n",
      "                                                 Name     Sex   Age  SibSp  \\\n",
      "1   Cumings, Mrs. John Bradley (Florence Briggs Th...  female  38.0      1   \n",
      "3        Futrelle, Mrs. Jacques Heath (Lily May Peel)  female  35.0      1   \n",
      "6                             McCarthy, Mr. Timothy J    male  54.0      0   \n",
      "10                    Sandstrom, Miss. Marguerite Rut  female   4.0      1   \n",
      "11                           Bonnell, Miss. Elizabeth  female  58.0      0   \n",
      "\n",
      "    Parch    Ticket     Fare Cabin Embarked  new_col  \n",
      "1       0  PC 17599  71.2833   C85        C        4  \n",
      "3       0    113803  53.1000  C123        S        9  \n",
      "6       0     17463  51.8625   E46        S       10  \n",
      "10      1   PP 9549  16.7000    G6        S       -3  \n",
      "11      0    113783  26.5500  C103        S       -7  \n",
      "-------------\n",
      "     PassengerId  Survived  Pclass  \\\n",
      "730          731         1       1   \n",
      "305          306         1       1   \n",
      "297          298         0       1   \n",
      "498          499         0       1   \n",
      "460          461         1       1   \n",
      "\n",
      "                                                Name     Sex    Age  SibSp  \\\n",
      "730                    Allen, Miss. Elisabeth Walton  female  29.00      0   \n",
      "305                   Allison, Master. Hudson Trevor    male   0.92      1   \n",
      "297                     Allison, Miss. Helen Loraine  female   2.00      1   \n",
      "498  Allison, Mrs. Hudson J C (Bessie Waldo Daniels)  female  25.00      1   \n",
      "460                              Anderson, Mr. Harry    male  48.00      0   \n",
      "\n",
      "     Parch  Ticket      Fare    Cabin Embarked  new_col  \n",
      "730      0   24160  211.3375       B5        S       -4  \n",
      "305      2  113781  151.5500  C22 C26        S        9  \n",
      "297      2  113781  151.5500  C22 C26        S        6  \n",
      "498      2  113781  151.5500  C22 C26        S       -5  \n",
      "460      0   19952   26.5500      E12        S       -3  \n",
      "----------------\n",
      "       Age    Cabin Embarked      Fare  \\\n",
      "730  29.00       B5        S  211.3375   \n",
      "305   0.92  C22 C26        S  151.5500   \n",
      "297   2.00  C22 C26        S  151.5500   \n",
      "498  25.00  C22 C26        S  151.5500   \n",
      "460  48.00      E12        S   26.5500   \n",
      "\n",
      "                                                Name  Parch  PassengerId  \\\n",
      "730                    Allen, Miss. Elisabeth Walton      0          731   \n",
      "305                   Allison, Master. Hudson Trevor      2          306   \n",
      "297                     Allison, Miss. Helen Loraine      2          298   \n",
      "498  Allison, Mrs. Hudson J C (Bessie Waldo Daniels)      2          499   \n",
      "460                              Anderson, Mr. Harry      0          461   \n",
      "\n",
      "     Pclass     Sex  SibSp  Survived  Ticket  new_col  \n",
      "730       1  female      0         1   24160       -4  \n",
      "305       1    male      1         1  113781        9  \n",
      "297       1  female      1         0  113781        6  \n",
      "498       1  female      1         0  113781       -5  \n",
      "460       1    male      0         1   19952       -3  \n"
     ]
    }
   ],
   "source": [
    "#np.info(df_sal.sort_values)\n",
    "print(df_sal.head(5))\n",
    "print('-------------')\n",
    "x = df_sal.sort_values('Name',axis=0,ascending=True,inplace=False,na_position='last')\n",
    "\n",
    "print(x.head(5))\n",
    "print('----------------')\n",
    "print(x.sort_index(axis=1).head(5))"
   ]
  },
  {
   "cell_type": "markdown",
   "id": "649e89f9",
   "metadata": {},
   "source": [
    "#### Exercise: Drop the rows of your dataframe that contain na values (★★☆)"
   ]
  },
  {
   "cell_type": "code",
   "execution_count": 47,
   "id": "663cc611",
   "metadata": {},
   "outputs": [
    {
     "name": "stdout",
     "output_type": "stream",
     "text": [
      "    PassengerId  Survived  Pclass  \\\n",
      "1             2         1       1   \n",
      "3             4         1       1   \n",
      "6             7         0       1   \n",
      "10           11         1       3   \n",
      "11           12         1       1   \n",
      "\n",
      "                                                 Name     Sex   Age  SibSp  \\\n",
      "1   Cumings, Mrs. John Bradley (Florence Briggs Th...  female  38.0      1   \n",
      "3        Futrelle, Mrs. Jacques Heath (Lily May Peel)  female  35.0      1   \n",
      "6                             McCarthy, Mr. Timothy J    male  54.0      0   \n",
      "10                    Sandstrom, Miss. Marguerite Rut  female   4.0      1   \n",
      "11                           Bonnell, Miss. Elizabeth  female  58.0      0   \n",
      "\n",
      "    Parch    Ticket     Fare Cabin Embarked  new_col  \n",
      "1       0  PC 17599  71.2833   C85        C        4  \n",
      "3       0    113803  53.1000  C123        S        9  \n",
      "6       0     17463  51.8625   E46        S       10  \n",
      "10      1   PP 9549  16.7000    G6        S       -3  \n",
      "11      0    113783  26.5500  C103        S       -7  \n"
     ]
    }
   ],
   "source": [
    "df_sal = df_sal.dropna()\n",
    "\n",
    "print(df_sal.head(5))"
   ]
  },
  {
   "cell_type": "markdown",
   "id": "3421e17f",
   "metadata": {},
   "source": [
    "#### Exercise: Subset the rows where Age values are greater than 18 (★★☆)"
   ]
  },
  {
   "cell_type": "code",
   "execution_count": 55,
   "id": "7336b8e4",
   "metadata": {},
   "outputs": [
    {
     "name": "stdout",
     "output_type": "stream",
     "text": [
      "     PassengerId  Survived  Pclass  \\\n",
      "452          453         0       1   \n",
      "737          738         1       1   \n",
      "498          499         0       1   \n",
      "583          584         0       1   \n",
      "438          439         0       1   \n",
      "\n",
      "                                                Name     Sex   Age  SibSp  \\\n",
      "452                  Foreman, Mr. Benjamin Laventall    male  30.0      0   \n",
      "737                           Lesurer, Mr. Gustave J    male  35.0      0   \n",
      "498  Allison, Mrs. Hudson J C (Bessie Waldo Daniels)  female  25.0      1   \n",
      "583                              Ross, Mr. John Hugo    male  36.0      0   \n",
      "438                                Fortune, Mr. Mark    male  64.0      1   \n",
      "\n",
      "     Parch    Ticket      Fare        Cabin Embarked  new_col  \n",
      "452      0    113051   27.7500         C111        C        9  \n",
      "737      0  PC 17755  512.3292         B101        C       -2  \n",
      "498      2    113781  151.5500      C22 C26        S       -5  \n",
      "583      0     13049   40.1250          A10        C        5  \n",
      "438      4     19950  263.0000  C23 C25 C27        S      -14  \n"
     ]
    }
   ],
   "source": [
    "print(df_sal[df_sal['Age']>18].sample(5))\n"
   ]
  },
  {
   "cell_type": "markdown",
   "id": "483dd554",
   "metadata": {},
   "source": [
    "#### Exercise: Subset the rows where Age values are greater than 18 and less than 5 and get the number of rows  (★★☆)"
   ]
  },
  {
   "cell_type": "code",
   "execution_count": 70,
   "id": "c89b93e7",
   "metadata": {},
   "outputs": [
    {
     "name": "stdout",
     "output_type": "stream",
     "text": [
      "169\n"
     ]
    }
   ],
   "source": [
    "x = df_sal['Age']\n",
    "\n",
    "print(len(df_sal[(x>18) | (x<5)]))"
   ]
  },
  {
   "cell_type": "markdown",
   "id": "2d07be1c",
   "metadata": {},
   "source": [
    "#### Exercise: Normalize the column Age (★★☆)\n",
    "Remember from probability (https://en.wikipedia.org/wiki/Normalization_(statistics)) that :\n",
    "\n",
    "$$ x_{norm} = \\frac{x - \\bar{x}}{\\sigma}$$"
   ]
  },
  {
   "cell_type": "code",
   "execution_count": 84,
   "id": "4f7cb3ad",
   "metadata": {},
   "outputs": [
    {
     "data": {
      "text/plain": [
       "<AxesSubplot:>"
      ]
     },
     "execution_count": 84,
     "metadata": {},
     "output_type": "execute_result"
    },
    {
     "data": {
      "image/png": "[encoded data removed]",
      "text/plain": [
       "<Figure size 432x288 with 1 Axes>"
      ]
     },
     "metadata": {
      "needs_background": "light"
     },
     "output_type": "display_data"
    }
   ],
   "source": [
    "#df_sal.sample(50).Age.plot(kind='bar')\n",
    "\n",
    "df_max_scaled= df_sal.copy()\n",
    "df_max_scaled['Age'] = df_max_scaled['Age'] / df_max_scaled['Age'].abs().max()\n",
    "#display(df_max_scaled.head(5))\n",
    "df_max_scaled.sample(50).Age.plot(kind='bar')"
   ]
  },
  {
   "cell_type": "markdown",
   "id": "fe043549",
   "metadata": {},
   "source": [
    "#### Exercise: Consider two random array A and B, check if they are equal (★★☆)"
   ]
  },
  {
   "cell_type": "code",
   "execution_count": 96,
   "id": "3326a686",
   "metadata": {},
   "outputs": [
    {
     "name": "stdout",
     "output_type": "stream",
     "text": [
      "[0 0]\n",
      "[0 0]\n",
      "True\n"
     ]
    }
   ],
   "source": [
    "a = np.random.randint(0,2,2)\n",
    "b = np.random.randint(0,2,2)\n",
    "\n",
    "print(a)\n",
    "print(b)\n",
    "\n",
    "print(np.allclose(a,b))"
   ]
  },
  {
   "cell_type": "markdown",
   "id": "2002cb03",
   "metadata": {},
   "source": [
    "#### Exercise: How to set the number of rows and columns displayed in the output? (★★★)\n",
    "Check the function `set_option` from pandas"
   ]
  },
  {
   "cell_type": "code",
   "execution_count": 108,
   "id": "58be72bc",
   "metadata": {},
   "outputs": [
    {
     "data": {
      "text/html": [
       "<div>\n",
       "<style scoped>\n",
       "    .dataframe tbody tr th:only-of-type {\n",
       "        vertical-align: middle;\n",
       "    }\n",
       "\n",
       "    .dataframe tbody tr th {\n",
       "        vertical-align: top;\n",
       "    }\n",
       "\n",
       "    .dataframe thead th {\n",
       "        text-align: right;\n",
       "    }\n",
       "</style>\n",
       "<table border=\"1\" class=\"dataframe\">\n",
       "  <thead>\n",
       "    <tr style=\"text-align: right;\">\n",
       "      <th></th>\n",
       "      <th>PassengerId</th>\n",
       "      <th>Survived</th>\n",
       "      <th>Pclass</th>\n",
       "      <th>Name</th>\n",
       "      <th>Sex</th>\n",
       "      <th>Age</th>\n",
       "      <th>SibSp</th>\n",
       "      <th>Parch</th>\n",
       "      <th>Ticket</th>\n",
       "      <th>Fare</th>\n",
       "      <th>Cabin</th>\n",
       "      <th>Embarked</th>\n",
       "      <th>new_col</th>\n",
       "    </tr>\n",
       "  </thead>\n",
       "  <tbody>\n",
       "    <tr>\n",
       "      <th>1</th>\n",
       "      <td>2</td>\n",
       "      <td>1</td>\n",
       "      <td>1</td>\n",
       "      <td>Cumings, Mrs. John Bradley (Florence Briggs Th...</td>\n",
       "      <td>female</td>\n",
       "      <td>38.0</td>\n",
       "      <td>1</td>\n",
       "      <td>0</td>\n",
       "      <td>PC 17599</td>\n",
       "      <td>71.2833</td>\n",
       "      <td>C85</td>\n",
       "      <td>C</td>\n",
       "      <td>4</td>\n",
       "    </tr>\n",
       "    <tr>\n",
       "      <th>3</th>\n",
       "      <td>4</td>\n",
       "      <td>1</td>\n",
       "      <td>1</td>\n",
       "      <td>Futrelle, Mrs. Jacques Heath (Lily May Peel)</td>\n",
       "      <td>female</td>\n",
       "      <td>35.0</td>\n",
       "      <td>1</td>\n",
       "      <td>0</td>\n",
       "      <td>113803</td>\n",
       "      <td>53.1000</td>\n",
       "      <td>C123</td>\n",
       "      <td>S</td>\n",
       "      <td>9</td>\n",
       "    </tr>\n",
       "    <tr>\n",
       "      <th>...</th>\n",
       "      <td>...</td>\n",
       "      <td>...</td>\n",
       "      <td>...</td>\n",
       "      <td>...</td>\n",
       "      <td>...</td>\n",
       "      <td>...</td>\n",
       "      <td>...</td>\n",
       "      <td>...</td>\n",
       "      <td>...</td>\n",
       "      <td>...</td>\n",
       "      <td>...</td>\n",
       "      <td>...</td>\n",
       "      <td>...</td>\n",
       "    </tr>\n",
       "    <tr>\n",
       "      <th>52</th>\n",
       "      <td>53</td>\n",
       "      <td>1</td>\n",
       "      <td>1</td>\n",
       "      <td>Harper, Mrs. Henry Sleeper (Myna Haxtun)</td>\n",
       "      <td>female</td>\n",
       "      <td>49.0</td>\n",
       "      <td>1</td>\n",
       "      <td>0</td>\n",
       "      <td>PC 17572</td>\n",
       "      <td>76.7292</td>\n",
       "      <td>D33</td>\n",
       "      <td>C</td>\n",
       "      <td>-4</td>\n",
       "    </tr>\n",
       "    <tr>\n",
       "      <th>54</th>\n",
       "      <td>55</td>\n",
       "      <td>0</td>\n",
       "      <td>1</td>\n",
       "      <td>Ostby, Mr. Engelhart Cornelius</td>\n",
       "      <td>male</td>\n",
       "      <td>65.0</td>\n",
       "      <td>0</td>\n",
       "      <td>1</td>\n",
       "      <td>113509</td>\n",
       "      <td>61.9792</td>\n",
       "      <td>B30</td>\n",
       "      <td>C</td>\n",
       "      <td>-10</td>\n",
       "    </tr>\n",
       "  </tbody>\n",
       "</table>\n",
       "<p>10 rows × 13 columns</p>\n",
       "</div>"
      ],
      "text/plain": [
       "    PassengerId  Survived  Pclass  \\\n",
       "1             2         1       1   \n",
       "3             4         1       1   \n",
       "..          ...       ...     ...   \n",
       "52           53         1       1   \n",
       "54           55         0       1   \n",
       "\n",
       "                                                 Name     Sex   Age  SibSp  \\\n",
       "1   Cumings, Mrs. John Bradley (Florence Briggs Th...  female  38.0      1   \n",
       "3        Futrelle, Mrs. Jacques Heath (Lily May Peel)  female  35.0      1   \n",
       "..                                                ...     ...   ...    ...   \n",
       "52           Harper, Mrs. Henry Sleeper (Myna Haxtun)  female  49.0      1   \n",
       "54                     Ostby, Mr. Engelhart Cornelius    male  65.0      0   \n",
       "\n",
       "    Parch    Ticket     Fare Cabin Embarked  new_col  \n",
       "1       0  PC 17599  71.2833   C85        C        4  \n",
       "3       0    113803  53.1000  C123        S        9  \n",
       "..    ...       ...      ...   ...      ...      ...  \n",
       "52      0  PC 17572  76.7292   D33        C       -4  \n",
       "54      1    113509  61.9792   B30        C      -10  \n",
       "\n",
       "[10 rows x 13 columns]"
      ]
     },
     "metadata": {},
     "output_type": "display_data"
    },
    {
     "name": "stdout",
     "output_type": "stream",
     "text": [
      "As the xlwt package is no longer maintained, the xlwt engine will be removed in a future version of pandas. This is the only engine in pandas that supports writing in the xls format. Install openpyxl and write to an xlsx file instead.\n",
      "\n",
      ": boolean\n",
      "    use_inf_as_null had been deprecated and will be removed in a future\n",
      "    version. Use `use_inf_as_na` instead.\n",
      "\n",
      "---------------------------\n"
     ]
    },
    {
     "name": "stderr",
     "output_type": "stream",
     "text": [
      "/home/gitpod/.pyenv/versions/3.8.12/lib/python3.8/site-packages/pandas/_config/config.py:630: FutureWarning: As the xlwt package is no longer maintained, the xlwt engine will be removed in a future version of pandas. This is the only engine in pandas that supports writing in the xls format. Install openpyxl and write to an xlsx file instead.\n",
      "  warnings.warn(d.msg, FutureWarning)\n",
      "/home/gitpod/.pyenv/versions/3.8.12/lib/python3.8/site-packages/pandas/_config/config.py:630: FutureWarning: \n",
      ": boolean\n",
      "    use_inf_as_null had been deprecated and will be removed in a future\n",
      "    version. Use `use_inf_as_na` instead.\n",
      "\n",
      "  warnings.warn(d.msg, FutureWarning)\n"
     ]
    },
    {
     "data": {
      "text/html": [
       "<div>\n",
       "<style scoped>\n",
       "    .dataframe tbody tr th:only-of-type {\n",
       "        vertical-align: middle;\n",
       "    }\n",
       "\n",
       "    .dataframe tbody tr th {\n",
       "        vertical-align: top;\n",
       "    }\n",
       "\n",
       "    .dataframe thead th {\n",
       "        text-align: right;\n",
       "    }\n",
       "</style>\n",
       "<table border=\"1\" class=\"dataframe\">\n",
       "  <thead>\n",
       "    <tr style=\"text-align: right;\">\n",
       "      <th></th>\n",
       "      <th>PassengerId</th>\n",
       "      <th>Survived</th>\n",
       "      <th>Pclass</th>\n",
       "      <th>Name</th>\n",
       "      <th>Sex</th>\n",
       "      <th>Age</th>\n",
       "      <th>SibSp</th>\n",
       "      <th>Parch</th>\n",
       "      <th>Ticket</th>\n",
       "      <th>Fare</th>\n",
       "      <th>Cabin</th>\n",
       "      <th>Embarked</th>\n",
       "      <th>new_col</th>\n",
       "    </tr>\n",
       "  </thead>\n",
       "  <tbody>\n",
       "    <tr>\n",
       "      <th>1</th>\n",
       "      <td>2</td>\n",
       "      <td>1</td>\n",
       "      <td>1</td>\n",
       "      <td>Cumings, Mrs. John Bradley (Florence Briggs Th...</td>\n",
       "      <td>female</td>\n",
       "      <td>38.0</td>\n",
       "      <td>1</td>\n",
       "      <td>0</td>\n",
       "      <td>PC 17599</td>\n",
       "      <td>71.2833</td>\n",
       "      <td>C85</td>\n",
       "      <td>C</td>\n",
       "      <td>4</td>\n",
       "    </tr>\n",
       "    <tr>\n",
       "      <th>3</th>\n",
       "      <td>4</td>\n",
       "      <td>1</td>\n",
       "      <td>1</td>\n",
       "      <td>Futrelle, Mrs. Jacques Heath (Lily May Peel)</td>\n",
       "      <td>female</td>\n",
       "      <td>35.0</td>\n",
       "      <td>1</td>\n",
       "      <td>0</td>\n",
       "      <td>113803</td>\n",
       "      <td>53.1000</td>\n",
       "      <td>C123</td>\n",
       "      <td>S</td>\n",
       "      <td>9</td>\n",
       "    </tr>\n",
       "    <tr>\n",
       "      <th>6</th>\n",
       "      <td>7</td>\n",
       "      <td>0</td>\n",
       "      <td>1</td>\n",
       "      <td>McCarthy, Mr. Timothy J</td>\n",
       "      <td>male</td>\n",
       "      <td>54.0</td>\n",
       "      <td>0</td>\n",
       "      <td>0</td>\n",
       "      <td>17463</td>\n",
       "      <td>51.8625</td>\n",
       "      <td>E46</td>\n",
       "      <td>S</td>\n",
       "      <td>10</td>\n",
       "    </tr>\n",
       "    <tr>\n",
       "      <th>10</th>\n",
       "      <td>11</td>\n",
       "      <td>1</td>\n",
       "      <td>3</td>\n",
       "      <td>Sandstrom, Miss. Marguerite Rut</td>\n",
       "      <td>female</td>\n",
       "      <td>4.0</td>\n",
       "      <td>1</td>\n",
       "      <td>1</td>\n",
       "      <td>PP 9549</td>\n",
       "      <td>16.7000</td>\n",
       "      <td>G6</td>\n",
       "      <td>S</td>\n",
       "      <td>-3</td>\n",
       "    </tr>\n",
       "    <tr>\n",
       "      <th>11</th>\n",
       "      <td>12</td>\n",
       "      <td>1</td>\n",
       "      <td>1</td>\n",
       "      <td>Bonnell, Miss. Elizabeth</td>\n",
       "      <td>female</td>\n",
       "      <td>58.0</td>\n",
       "      <td>0</td>\n",
       "      <td>0</td>\n",
       "      <td>113783</td>\n",
       "      <td>26.5500</td>\n",
       "      <td>C103</td>\n",
       "      <td>S</td>\n",
       "      <td>-7</td>\n",
       "    </tr>\n",
       "    <tr>\n",
       "      <th>21</th>\n",
       "      <td>22</td>\n",
       "      <td>1</td>\n",
       "      <td>2</td>\n",
       "      <td>Beesley, Mr. Lawrence</td>\n",
       "      <td>male</td>\n",
       "      <td>34.0</td>\n",
       "      <td>0</td>\n",
       "      <td>0</td>\n",
       "      <td>248698</td>\n",
       "      <td>13.0000</td>\n",
       "      <td>D56</td>\n",
       "      <td>S</td>\n",
       "      <td>-7</td>\n",
       "    </tr>\n",
       "    <tr>\n",
       "      <th>23</th>\n",
       "      <td>24</td>\n",
       "      <td>1</td>\n",
       "      <td>1</td>\n",
       "      <td>Sloper, Mr. William Thompson</td>\n",
       "      <td>male</td>\n",
       "      <td>28.0</td>\n",
       "      <td>0</td>\n",
       "      <td>0</td>\n",
       "      <td>113788</td>\n",
       "      <td>35.5000</td>\n",
       "      <td>A6</td>\n",
       "      <td>S</td>\n",
       "      <td>10</td>\n",
       "    </tr>\n",
       "    <tr>\n",
       "      <th>27</th>\n",
       "      <td>28</td>\n",
       "      <td>0</td>\n",
       "      <td>1</td>\n",
       "      <td>Fortune, Mr. Charles Alexander</td>\n",
       "      <td>male</td>\n",
       "      <td>19.0</td>\n",
       "      <td>3</td>\n",
       "      <td>2</td>\n",
       "      <td>19950</td>\n",
       "      <td>263.0000</td>\n",
       "      <td>C23 C25 C27</td>\n",
       "      <td>S</td>\n",
       "      <td>3</td>\n",
       "    </tr>\n",
       "    <tr>\n",
       "      <th>52</th>\n",
       "      <td>53</td>\n",
       "      <td>1</td>\n",
       "      <td>1</td>\n",
       "      <td>Harper, Mrs. Henry Sleeper (Myna Haxtun)</td>\n",
       "      <td>female</td>\n",
       "      <td>49.0</td>\n",
       "      <td>1</td>\n",
       "      <td>0</td>\n",
       "      <td>PC 17572</td>\n",
       "      <td>76.7292</td>\n",
       "      <td>D33</td>\n",
       "      <td>C</td>\n",
       "      <td>-4</td>\n",
       "    </tr>\n",
       "    <tr>\n",
       "      <th>54</th>\n",
       "      <td>55</td>\n",
       "      <td>0</td>\n",
       "      <td>1</td>\n",
       "      <td>Ostby, Mr. Engelhart Cornelius</td>\n",
       "      <td>male</td>\n",
       "      <td>65.0</td>\n",
       "      <td>0</td>\n",
       "      <td>1</td>\n",
       "      <td>113509</td>\n",
       "      <td>61.9792</td>\n",
       "      <td>B30</td>\n",
       "      <td>C</td>\n",
       "      <td>-10</td>\n",
       "    </tr>\n",
       "  </tbody>\n",
       "</table>\n",
       "</div>"
      ],
      "text/plain": [
       "    PassengerId  Survived  Pclass  \\\n",
       "1             2         1       1   \n",
       "3             4         1       1   \n",
       "6             7         0       1   \n",
       "10           11         1       3   \n",
       "11           12         1       1   \n",
       "21           22         1       2   \n",
       "23           24         1       1   \n",
       "27           28         0       1   \n",
       "52           53         1       1   \n",
       "54           55         0       1   \n",
       "\n",
       "                                                 Name     Sex   Age  SibSp  \\\n",
       "1   Cumings, Mrs. John Bradley (Florence Briggs Th...  female  38.0      1   \n",
       "3        Futrelle, Mrs. Jacques Heath (Lily May Peel)  female  35.0      1   \n",
       "6                             McCarthy, Mr. Timothy J    male  54.0      0   \n",
       "10                    Sandstrom, Miss. Marguerite Rut  female   4.0      1   \n",
       "11                           Bonnell, Miss. Elizabeth  female  58.0      0   \n",
       "21                              Beesley, Mr. Lawrence    male  34.0      0   \n",
       "23                       Sloper, Mr. William Thompson    male  28.0      0   \n",
       "27                     Fortune, Mr. Charles Alexander    male  19.0      3   \n",
       "52           Harper, Mrs. Henry Sleeper (Myna Haxtun)  female  49.0      1   \n",
       "54                     Ostby, Mr. Engelhart Cornelius    male  65.0      0   \n",
       "\n",
       "    Parch    Ticket      Fare        Cabin Embarked  new_col  \n",
       "1       0  PC 17599   71.2833          C85        C        4  \n",
       "3       0    113803   53.1000         C123        S        9  \n",
       "6       0     17463   51.8625          E46        S       10  \n",
       "10      1   PP 9549   16.7000           G6        S       -3  \n",
       "11      0    113783   26.5500         C103        S       -7  \n",
       "21      0    248698   13.0000          D56        S       -7  \n",
       "23      0    113788   35.5000           A6        S       10  \n",
       "27      2     19950  263.0000  C23 C25 C27        S        3  \n",
       "52      0  PC 17572   76.7292          D33        C       -4  \n",
       "54      1    113509   61.9792          B30        C      -10  "
      ]
     },
     "metadata": {},
     "output_type": "display_data"
    }
   ],
   "source": [
    "#np.info(pd.set_option)\n",
    "\n",
    "pd.set_option('display.max_rows',5)\n",
    "\n",
    "display(df_sal.head(10))\n",
    "\n",
    "pd.reset_option(\"all\")\n",
    "print('---------------------------')\n",
    "\n",
    "display(df_sal.head(10))"
   ]
  },
  {
   "cell_type": "markdown",
   "id": "b7109c9f",
   "metadata": {},
   "source": [
    "#### Exercise: How to join two dataframes by 2 columns so they have only the common rows? (★★★)\n",
    "Join dataframes df1 and df2 by ‘fruit-pazham’ and ‘weight-kilo’."
   ]
  },
  {
   "cell_type": "code",
   "execution_count": 111,
   "id": "f79e79a7",
   "metadata": {},
   "outputs": [
    {
     "data": {
      "text/html": [
       "<div>\n",
       "<style scoped>\n",
       "    .dataframe tbody tr th:only-of-type {\n",
       "        vertical-align: middle;\n",
       "    }\n",
       "\n",
       "    .dataframe tbody tr th {\n",
       "        vertical-align: top;\n",
       "    }\n",
       "\n",
       "    .dataframe thead th {\n",
       "        text-align: right;\n",
       "    }\n",
       "</style>\n",
       "<table border=\"1\" class=\"dataframe\">\n",
       "  <thead>\n",
       "    <tr style=\"text-align: right;\">\n",
       "      <th></th>\n",
       "      <th>fruit</th>\n",
       "      <th>weight</th>\n",
       "      <th>price</th>\n",
       "    </tr>\n",
       "  </thead>\n",
       "  <tbody>\n",
       "    <tr>\n",
       "      <th>0</th>\n",
       "      <td>apple</td>\n",
       "      <td>high</td>\n",
       "      <td>9</td>\n",
       "    </tr>\n",
       "    <tr>\n",
       "      <th>1</th>\n",
       "      <td>banana</td>\n",
       "      <td>medium</td>\n",
       "      <td>11</td>\n",
       "    </tr>\n",
       "    <tr>\n",
       "      <th>2</th>\n",
       "      <td>orange</td>\n",
       "      <td>low</td>\n",
       "      <td>10</td>\n",
       "    </tr>\n",
       "    <tr>\n",
       "      <th>3</th>\n",
       "      <td>apple</td>\n",
       "      <td>high</td>\n",
       "      <td>3</td>\n",
       "    </tr>\n",
       "    <tr>\n",
       "      <th>4</th>\n",
       "      <td>banana</td>\n",
       "      <td>medium</td>\n",
       "      <td>11</td>\n",
       "    </tr>\n",
       "    <tr>\n",
       "      <th>5</th>\n",
       "      <td>orange</td>\n",
       "      <td>low</td>\n",
       "      <td>6</td>\n",
       "    </tr>\n",
       "    <tr>\n",
       "      <th>6</th>\n",
       "      <td>apple</td>\n",
       "      <td>high</td>\n",
       "      <td>5</td>\n",
       "    </tr>\n",
       "    <tr>\n",
       "      <th>7</th>\n",
       "      <td>banana</td>\n",
       "      <td>medium</td>\n",
       "      <td>2</td>\n",
       "    </tr>\n",
       "    <tr>\n",
       "      <th>8</th>\n",
       "      <td>orange</td>\n",
       "      <td>low</td>\n",
       "      <td>11</td>\n",
       "    </tr>\n",
       "  </tbody>\n",
       "</table>\n",
       "</div>"
      ],
      "text/plain": [
       "    fruit  weight  price\n",
       "0   apple    high      9\n",
       "1  banana  medium     11\n",
       "2  orange     low     10\n",
       "3   apple    high      3\n",
       "4  banana  medium     11\n",
       "5  orange     low      6\n",
       "6   apple    high      5\n",
       "7  banana  medium      2\n",
       "8  orange     low     11"
      ]
     },
     "metadata": {},
     "output_type": "display_data"
    },
    {
     "data": {
      "text/html": [
       "<div>\n",
       "<style scoped>\n",
       "    .dataframe tbody tr th:only-of-type {\n",
       "        vertical-align: middle;\n",
       "    }\n",
       "\n",
       "    .dataframe tbody tr th {\n",
       "        vertical-align: top;\n",
       "    }\n",
       "\n",
       "    .dataframe thead th {\n",
       "        text-align: right;\n",
       "    }\n",
       "</style>\n",
       "<table border=\"1\" class=\"dataframe\">\n",
       "  <thead>\n",
       "    <tr style=\"text-align: right;\">\n",
       "      <th></th>\n",
       "      <th>pazham</th>\n",
       "      <th>kilo</th>\n",
       "      <th>price</th>\n",
       "    </tr>\n",
       "  </thead>\n",
       "  <tbody>\n",
       "    <tr>\n",
       "      <th>0</th>\n",
       "      <td>apple</td>\n",
       "      <td>high</td>\n",
       "      <td>6</td>\n",
       "    </tr>\n",
       "    <tr>\n",
       "      <th>1</th>\n",
       "      <td>orange</td>\n",
       "      <td>low</td>\n",
       "      <td>0</td>\n",
       "    </tr>\n",
       "    <tr>\n",
       "      <th>2</th>\n",
       "      <td>pine</td>\n",
       "      <td>high</td>\n",
       "      <td>10</td>\n",
       "    </tr>\n",
       "    <tr>\n",
       "      <th>3</th>\n",
       "      <td>apple</td>\n",
       "      <td>low</td>\n",
       "      <td>8</td>\n",
       "    </tr>\n",
       "    <tr>\n",
       "      <th>4</th>\n",
       "      <td>orange</td>\n",
       "      <td>high</td>\n",
       "      <td>9</td>\n",
       "    </tr>\n",
       "    <tr>\n",
       "      <th>5</th>\n",
       "      <td>pine</td>\n",
       "      <td>low</td>\n",
       "      <td>10</td>\n",
       "    </tr>\n",
       "  </tbody>\n",
       "</table>\n",
       "</div>"
      ],
      "text/plain": [
       "   pazham  kilo  price\n",
       "0   apple  high      6\n",
       "1  orange   low      0\n",
       "2    pine  high     10\n",
       "3   apple   low      8\n",
       "4  orange  high      9\n",
       "5    pine   low     10"
      ]
     },
     "metadata": {},
     "output_type": "display_data"
    },
    {
     "data": {
      "text/html": [
       "<div>\n",
       "<style scoped>\n",
       "    .dataframe tbody tr th:only-of-type {\n",
       "        vertical-align: middle;\n",
       "    }\n",
       "\n",
       "    .dataframe tbody tr th {\n",
       "        vertical-align: top;\n",
       "    }\n",
       "\n",
       "    .dataframe thead th {\n",
       "        text-align: right;\n",
       "    }\n",
       "</style>\n",
       "<table border=\"1\" class=\"dataframe\">\n",
       "  <thead>\n",
       "    <tr style=\"text-align: right;\">\n",
       "      <th></th>\n",
       "      <th>fruit</th>\n",
       "      <th>weight</th>\n",
       "      <th>price_x</th>\n",
       "      <th>pazham</th>\n",
       "      <th>kilo</th>\n",
       "      <th>price_y</th>\n",
       "    </tr>\n",
       "  </thead>\n",
       "  <tbody>\n",
       "    <tr>\n",
       "      <th>0</th>\n",
       "      <td>apple</td>\n",
       "      <td>high</td>\n",
       "      <td>9</td>\n",
       "      <td>apple</td>\n",
       "      <td>high</td>\n",
       "      <td>6</td>\n",
       "    </tr>\n",
       "    <tr>\n",
       "      <th>1</th>\n",
       "      <td>apple</td>\n",
       "      <td>high</td>\n",
       "      <td>3</td>\n",
       "      <td>apple</td>\n",
       "      <td>high</td>\n",
       "      <td>6</td>\n",
       "    </tr>\n",
       "    <tr>\n",
       "      <th>2</th>\n",
       "      <td>apple</td>\n",
       "      <td>high</td>\n",
       "      <td>5</td>\n",
       "      <td>apple</td>\n",
       "      <td>high</td>\n",
       "      <td>6</td>\n",
       "    </tr>\n",
       "    <tr>\n",
       "      <th>3</th>\n",
       "      <td>orange</td>\n",
       "      <td>low</td>\n",
       "      <td>10</td>\n",
       "      <td>orange</td>\n",
       "      <td>low</td>\n",
       "      <td>0</td>\n",
       "    </tr>\n",
       "    <tr>\n",
       "      <th>4</th>\n",
       "      <td>orange</td>\n",
       "      <td>low</td>\n",
       "      <td>6</td>\n",
       "      <td>orange</td>\n",
       "      <td>low</td>\n",
       "      <td>0</td>\n",
       "    </tr>\n",
       "    <tr>\n",
       "      <th>5</th>\n",
       "      <td>orange</td>\n",
       "      <td>low</td>\n",
       "      <td>11</td>\n",
       "      <td>orange</td>\n",
       "      <td>low</td>\n",
       "      <td>0</td>\n",
       "    </tr>\n",
       "  </tbody>\n",
       "</table>\n",
       "</div>"
      ],
      "text/plain": [
       "    fruit weight  price_x  pazham  kilo  price_y\n",
       "0   apple   high        9   apple  high        6\n",
       "1   apple   high        3   apple  high        6\n",
       "2   apple   high        5   apple  high        6\n",
       "3  orange    low       10  orange   low        0\n",
       "4  orange    low        6  orange   low        0\n",
       "5  orange    low       11  orange   low        0"
      ]
     },
     "metadata": {},
     "output_type": "display_data"
    }
   ],
   "source": [
    "## Input\n",
    "\n",
    "df1 = pd.DataFrame({'fruit': ['apple', 'banana', 'orange'] * 3,\n",
    "                    'weight': ['high', 'medium', 'low'] * 3,\n",
    "                    'price': np.random.randint(0, 15, 9)})\n",
    "\n",
    "display(df1)\n",
    "\n",
    "df2 = pd.DataFrame({'pazham': ['apple', 'orange', 'pine'] * 2,\n",
    "                    'kilo': ['high', 'low'] * 3,\n",
    "                    'price': np.random.randint(0, 15, 6)})\n",
    "\n",
    "display(df2)\n",
    "\n",
    "\n",
    "display(df1.merge(df2,how='inner',left_on=('fruit','weight'),right_on=('pazham','kilo')))\n"
   ]
  },
  {
   "cell_type": "markdown",
   "id": "fb24674c",
   "metadata": {},
   "source": [
    "#### Exercise: How to get the positions where values of two columns match? (★★★)\n",
    "Join dataframes df1 and df2 by ‘fruit-pazham’ and ‘weight-kilo’."
   ]
  },
  {
   "cell_type": "code",
   "execution_count": 114,
   "id": "3e253564",
   "metadata": {},
   "outputs": [
    {
     "data": {
      "text/html": [
       "<div>\n",
       "<style scoped>\n",
       "    .dataframe tbody tr th:only-of-type {\n",
       "        vertical-align: middle;\n",
       "    }\n",
       "\n",
       "    .dataframe tbody tr th {\n",
       "        vertical-align: top;\n",
       "    }\n",
       "\n",
       "    .dataframe thead th {\n",
       "        text-align: right;\n",
       "    }\n",
       "</style>\n",
       "<table border=\"1\" class=\"dataframe\">\n",
       "  <thead>\n",
       "    <tr style=\"text-align: right;\">\n",
       "      <th></th>\n",
       "      <th>fruit1</th>\n",
       "      <th>fruit2</th>\n",
       "    </tr>\n",
       "  </thead>\n",
       "  <tbody>\n",
       "    <tr>\n",
       "      <th>0</th>\n",
       "      <td>orange</td>\n",
       "      <td>banana</td>\n",
       "    </tr>\n",
       "    <tr>\n",
       "      <th>1</th>\n",
       "      <td>orange</td>\n",
       "      <td>banana</td>\n",
       "    </tr>\n",
       "    <tr>\n",
       "      <th>2</th>\n",
       "      <td>apple</td>\n",
       "      <td>banana</td>\n",
       "    </tr>\n",
       "    <tr>\n",
       "      <th>3</th>\n",
       "      <td>orange</td>\n",
       "      <td>apple</td>\n",
       "    </tr>\n",
       "    <tr>\n",
       "      <th>4</th>\n",
       "      <td>apple</td>\n",
       "      <td>banana</td>\n",
       "    </tr>\n",
       "    <tr>\n",
       "      <th>5</th>\n",
       "      <td>banana</td>\n",
       "      <td>orange</td>\n",
       "    </tr>\n",
       "    <tr>\n",
       "      <th>6</th>\n",
       "      <td>apple</td>\n",
       "      <td>orange</td>\n",
       "    </tr>\n",
       "    <tr>\n",
       "      <th>7</th>\n",
       "      <td>apple</td>\n",
       "      <td>apple</td>\n",
       "    </tr>\n",
       "    <tr>\n",
       "      <th>8</th>\n",
       "      <td>orange</td>\n",
       "      <td>orange</td>\n",
       "    </tr>\n",
       "    <tr>\n",
       "      <th>9</th>\n",
       "      <td>orange</td>\n",
       "      <td>orange</td>\n",
       "    </tr>\n",
       "  </tbody>\n",
       "</table>\n",
       "</div>"
      ],
      "text/plain": [
       "   fruit1  fruit2\n",
       "0  orange  banana\n",
       "1  orange  banana\n",
       "2   apple  banana\n",
       "3  orange   apple\n",
       "4   apple  banana\n",
       "5  banana  orange\n",
       "6   apple  orange\n",
       "7   apple   apple\n",
       "8  orange  orange\n",
       "9  orange  orange"
      ]
     },
     "metadata": {},
     "output_type": "display_data"
    },
    {
     "data": {
      "text/html": [
       "<div>\n",
       "<style scoped>\n",
       "    .dataframe tbody tr th:only-of-type {\n",
       "        vertical-align: middle;\n",
       "    }\n",
       "\n",
       "    .dataframe tbody tr th {\n",
       "        vertical-align: top;\n",
       "    }\n",
       "\n",
       "    .dataframe thead th {\n",
       "        text-align: right;\n",
       "    }\n",
       "</style>\n",
       "<table border=\"1\" class=\"dataframe\">\n",
       "  <thead>\n",
       "    <tr style=\"text-align: right;\">\n",
       "      <th></th>\n",
       "      <th>fruit1</th>\n",
       "      <th>fruit2</th>\n",
       "    </tr>\n",
       "  </thead>\n",
       "  <tbody>\n",
       "    <tr>\n",
       "      <th>7</th>\n",
       "      <td>apple</td>\n",
       "      <td>apple</td>\n",
       "    </tr>\n",
       "    <tr>\n",
       "      <th>8</th>\n",
       "      <td>orange</td>\n",
       "      <td>orange</td>\n",
       "    </tr>\n",
       "    <tr>\n",
       "      <th>9</th>\n",
       "      <td>orange</td>\n",
       "      <td>orange</td>\n",
       "    </tr>\n",
       "  </tbody>\n",
       "</table>\n",
       "</div>"
      ],
      "text/plain": [
       "   fruit1  fruit2\n",
       "7   apple   apple\n",
       "8  orange  orange\n",
       "9  orange  orange"
      ]
     },
     "metadata": {},
     "output_type": "display_data"
    }
   ],
   "source": [
    "## Input\n",
    "df = pd.DataFrame({'fruit1': np.random.choice(['apple', 'orange', 'banana'], 10),\n",
    "                    'fruit2': np.random.choice(['apple', 'orange', 'banana'], 10)})\n",
    "\n",
    "display(df)\n",
    "display(df[df['fruit1'] == df['fruit2']])\n"
   ]
  }
 ],
 "metadata": {
  "kernelspec": {
   "display_name": "Python 3",
   "language": "python",
   "name": "python3"
  },
  "language_info": {
   "codemirror_mode": {
    "name": "ipython",
    "version": 3
   },
   "file_extension": ".py",
   "mimetype": "text/x-python",
   "name": "python",
   "nbconvert_exporter": "python",
   "pygments_lexer": "ipython3",
   "version": "3.8.12"
  }
 },
 "nbformat": 4,
 "nbformat_minor": 5
}
