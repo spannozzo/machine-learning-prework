{
 "cells": [
  {
   "cell_type": "markdown",
   "id": "bdfbcacc",
   "metadata": {},
   "source": [
    "<img src=\"./assets/numpy_logo.png\" alt=\"logo\" width=\"400\"/>\n",
    "\n",
    "## Introduction to numpy\n",
    "\n",
    "NumPy stands for 'Numerical Python'. It is an open-source Python library used to perform various mathematical and scientific tasks. It contains multi-dimensional arrays and matrices, along with many high-level mathematical functions that operate on these arrays and matrices. It contains among other things:\n",
    "\n",
    "→ a powerful N-dimensional array object\n",
    "\n",
    "→ sophisticated (broadcasting) functions\n",
    "\n",
    "→ tools for integrating C/C++ and Fortran code\n",
    "\n",
    "→ useful linear algebra, Fourier transform, and random number capabilities"
   ]
  },
  {
   "cell_type": "markdown",
   "id": "85902746",
   "metadata": {},
   "source": [
    "## Installing NumPy\n",
    "When you want to work with numpy locally, you should run the following commands:\n",
    "\n",
    "You can install NumPy with:\\\n",
    "`pip install numpy`\\\n",
    "or\\\n",
    "`conda install numpy`\n",
    "\n",
    "In our case, 4Geeks have prepared all the environment in order that you can work comfortably."
   ]
  },
  {
   "cell_type": "markdown",
   "id": "58765356",
   "metadata": {},
   "source": [
    "## Why should we use NumPy?\n",
    "\n",
    "Numpy is a library to perform numerical calculation in python. We will use it mainly because it allows us to create and modify matrices, and to do operations on them with ease.\n",
    "\n",
    "NumPy is, like Pandas, Matplotlib or Scikit-Learn, one of the packages that you cannot miss when you are learning Machine Learning, mainly because this library provides a matrix data structure that has some benefits over regular Python lists. Some of these benefits are: being more compact, quicker access to reading and writing articles, being more convenient and more efficient.\n",
    "\n",
    "For example, we will see later in the bootcamp that working with images means dealing with three-dimensional matrices as large as 3840 x 2160, which means we will have 3×3840×2160 = 24883200 entries!!! 😱😱😱.\n",
    "\n",
    "Working with matrices of that magnitude is practically impossible to carry out with lists and dictionaries if one wants to have an efficient and fast programming."
   ]
  },
  {
   "cell_type": "markdown",
   "id": "c4e52ee5",
   "metadata": {},
   "source": [
    "#### Exercise: Import the numpy package under the name `np` (★☆☆)\n",
    "\n",
    "`numpy` is commonly imported as `np` so we highly recommend to put this alias."
   ]
  },
  {
   "cell_type": "code",
   "execution_count": 4,
   "id": "ea3038d9",
   "metadata": {},
   "outputs": [],
   "source": [
    "import numpy as np"
   ]
  },
  {
   "cell_type": "markdown",
   "id": "40631cd6",
   "metadata": {},
   "source": [
    "## What is an array and why it is importante for machine learning?\n",
    "\n",
    "An array is a data structure consisting of a collection of elements (values or variables), each identified by at least one array index or key.\n"
   ]
  },
  {
   "cell_type": "markdown",
   "id": "ce969254",
   "metadata": {},
   "source": [
    "![alt text](assets/1D.png \"1D\")"
   ]
  },
  {
   "cell_type": "markdown",
   "id": "735d02e2",
   "metadata": {},
   "source": [
    "We can have arrays from several dimension. Neural networks sometimes deal with 4D arrays. An array is known as the central data structure of the NumPy library. Array in NumPy is called as NumPy Array. Later, we will use also other kind of arrays thar are called: Tensors."
   ]
  },
  {
   "cell_type": "markdown",
   "id": "a20ce3a4",
   "metadata": {},
   "source": [
    "![alt text](./assets/3D.png \"3D\")"
   ]
  },
  {
   "cell_type": "markdown",
   "id": "46950f4f",
   "metadata": {},
   "source": [
    "#### Exercise: Print the numpy version and the configuration (★☆☆)\n",
    "\n",
    "You can print the version of any package of Python using `name_of_package.__version__`"
   ]
  },
  {
   "cell_type": "code",
   "execution_count": 3,
   "id": "2a9f5838",
   "metadata": {},
   "outputs": [
    {
     "ename": "ModuleNotFoundError",
     "evalue": "No module named 'numpy'",
     "output_type": "error",
     "traceback": [
      "\u001b[0;31m---------------------------------------------------------------------------\u001b[0m",
      "\u001b[0;31mModuleNotFoundError\u001b[0m                       Traceback (most recent call last)",
      "\u001b[0;32m/tmp/ipykernel_1195/3199286542.py\u001b[0m in \u001b[0;36m<module>\u001b[0;34m\u001b[0m\n\u001b[0;32m----> 1\u001b[0;31m \u001b[0;32mimport\u001b[0m \u001b[0mnumpy\u001b[0m \u001b[0;32mas\u001b[0m \u001b[0mnp\u001b[0m\u001b[0;34m\u001b[0m\u001b[0;34m\u001b[0m\u001b[0m\n\u001b[0m\u001b[1;32m      2\u001b[0m \u001b[0mprint\u001b[0m\u001b[0;34m(\u001b[0m\u001b[0mnp\u001b[0m\u001b[0;34m.\u001b[0m\u001b[0m__version__\u001b[0m\u001b[0;34m)\u001b[0m\u001b[0;34m\u001b[0m\u001b[0;34m\u001b[0m\u001b[0m\n",
      "\u001b[0;31mModuleNotFoundError\u001b[0m: No module named 'numpy'"
     ]
    }
   ],
   "source": [
    "import numpy as np\n",
    "print(np.__version__)"
   ]
  },
  {
   "cell_type": "markdown",
   "id": "e3c20b3d",
   "metadata": {},
   "source": [
    "#### Exercise: Create a null vector of size 10 (★☆☆)\n",
    "\n",
    "A `null vector` is an array of zeros (`0`), also called `inicializacion vector`.\n",
    "\n",
    "Check de function `np.zeros` (https://numpy.org/doc/stable/reference/generated/numpy.zeros.html)"
   ]
  },
  {
   "cell_type": "code",
   "execution_count": 9,
   "id": "8a758bcf",
   "metadata": {},
   "outputs": [
    {
     "data": {
      "text/plain": [
       "array([], dtype=float64)"
      ]
     },
     "execution_count": 9,
     "metadata": {},
     "output_type": "execute_result"
    }
   ],
   "source": [
    "np.zeros(0)"
   ]
  },
  {
   "cell_type": "markdown",
   "id": "6cbe7954",
   "metadata": {},
   "source": [
    "#### Exercise: Create a vector of ones with size 10 (★☆☆)\n",
    "Check de function `np.ones` (https://numpy.org/doc/stable/reference/generated/numpy.ones.html)"
   ]
  },
  {
   "cell_type": "code",
   "execution_count": 8,
   "id": "86477874",
   "metadata": {},
   "outputs": [
    {
     "data": {
      "text/plain": [
       "array([1., 1., 1., 1., 1., 1., 1., 1., 1., 1.])"
      ]
     },
     "execution_count": 8,
     "metadata": {},
     "output_type": "execute_result"
    }
   ],
   "source": [
    "np.ones(10)"
   ]
  },
  {
   "cell_type": "markdown",
   "id": "0a708990",
   "metadata": {},
   "source": [
    "#### Exercise: Create an 1D array with specific start value, end value and number of values (★☆☆)\n",
    "\n",
    "Check the function `np.linspace` (https://numpy.org/doc/stable/reference/generated/numpy.linspace.html)"
   ]
  },
  {
   "cell_type": "code",
   "execution_count": 9,
   "id": "477e01f4",
   "metadata": {},
   "outputs": [
    {
     "data": {
      "text/plain": [
       "array([1.        , 1.11111111, 1.22222222, 1.33333333, 1.44444444,\n",
       "       1.55555556, 1.66666667, 1.77777778, 1.88888889, 2.        ])"
      ]
     },
     "execution_count": 9,
     "metadata": {},
     "output_type": "execute_result"
    }
   ],
   "source": [
    "np.linspace(1,2,10)"
   ]
  },
  {
   "cell_type": "markdown",
   "id": "782d4c77",
   "metadata": {},
   "source": [
    "#### Run: Create a vector (1D array) with random integers from 10 to 49 and dimension 1x35 (★☆☆)\n",
    "\n",
    "When `dimension` is expressed `1x35` it means: One dimension array with 35 items (length=35).\n",
    "\n",
    "Check the function `np.random` which allows you to create random arrays (https://numpy.org/doc/1.16/reference/routines.random.html)"
   ]
  },
  {
   "cell_type": "code",
   "execution_count": 11,
   "id": "5dbe1a08",
   "metadata": {},
   "outputs": [
    {
     "name": "stdout",
     "output_type": "stream",
     "text": [
      "[0.52695108 0.22313171 0.91103478 0.57098364 0.16811639 0.35390062\n",
      " 0.12898958 0.47682877 0.71750087 0.62085768]\n"
     ]
    }
   ],
   "source": [
    "import numpy as np\n",
    "\n",
    "## 10 random numbers between (0, 1)\n",
    "print(np.random.random(10)) "
   ]
  },
  {
   "cell_type": "code",
   "execution_count": 12,
   "id": "a9354456",
   "metadata": {},
   "outputs": [
    {
     "name": "stdout",
     "output_type": "stream",
     "text": [
      "[0.95709992 0.70796881 0.63291411 0.07249913 0.56649902 0.12816831\n",
      " 0.52317597 0.73977957 0.20302675 0.91572199]\n",
      "[-2.39019341 -0.80038051 -0.62084449 -1.35499298  1.11262462 -0.56228392\n",
      " -2.08550598  1.68030833 -0.10372674  0.34479778]\n"
     ]
    }
   ],
   "source": [
    "## Two ways to create numbers with normal distribution\n",
    "print(np.random.rand(10)) # 10 random values with distribution N(0,1)\n",
    "print(np.random.normal(loc = 0, scale = 1, size = 10)) # 10 random values with distribution N(0,1)"
   ]
  },
  {
   "cell_type": "code",
   "execution_count": 14,
   "id": "73ed6271",
   "metadata": {},
   "outputs": [
    {
     "name": "stdout",
     "output_type": "stream",
     "text": [
      "[ -3.80070589  43.76160777 -42.01081659 -83.67688502  43.59531323\n",
      "  -6.44896963  12.36174841 -40.77399631 -45.51572827 -35.99056959]\n"
     ]
    }
   ],
   "source": [
    "## Did you notice the difference between both functions? \n",
    "print(np.random.normal(loc = -5, scale = 33, size = 10)) # 10 random values with distribution N(-5,33)"
   ]
  },
  {
   "cell_type": "code",
   "execution_count": 10,
   "id": "21ff11c0",
   "metadata": {},
   "outputs": [
    {
     "data": {
      "text/plain": [
       "array([19, 14, 27, 10, -3, 22, 10, 30, 28,  3])"
      ]
     },
     "execution_count": 10,
     "metadata": {},
     "output_type": "execute_result"
    }
   ],
   "source": [
    "from numpy.random import default_rng\n",
    "rng = default_rng()\n",
    "rints = rng.integers(-5, 34, 10)\n",
    "rints"
   ]
  },
  {
   "cell_type": "code",
   "execution_count": 11,
   "id": "49ae7a5a",
   "metadata": {},
   "outputs": [
    {
     "name": "stdout",
     "output_type": "stream",
     "text": [
      "[ 82.01425891  61.1240876   64.43180679 -15.42784896  70.20113652\n",
      "  66.642906    27.85578247  12.52727244 -17.61906896  -6.63441494]\n"
     ]
    }
   ],
   "source": [
    "## 10 random values with uniform distribution. That is, all values have the same probability\n",
    "print(np.random.uniform(-30,100,10)) # All values are between -30 and 100."
   ]
  },
  {
   "cell_type": "code",
   "execution_count": 12,
   "id": "f78e72cb",
   "metadata": {},
   "outputs": [
    {
     "name": "stdout",
     "output_type": "stream",
     "text": [
      "[54 64  9 68 92 54 30 25 15 90]\n"
     ]
    }
   ],
   "source": [
    "# 10 integers values between 0 and 100.\n",
    "print(np.random.randint(0, 100, 10))"
   ]
  },
  {
   "cell_type": "code",
   "execution_count": 13,
   "id": "db278431",
   "metadata": {},
   "outputs": [
    {
     "name": "stdout",
     "output_type": "stream",
     "text": [
      "[6.98098174 3.15042628 5.02398328 7.58559354 1.26541884 6.3029172\n",
      " 2.40590854 1.77080141 1.89322669 2.32921181]\n"
     ]
    }
   ],
   "source": [
    "# 10 random values with Chi distribution with 5 degrees of freedom\n",
    "print(np.random.chisquare(5,10))"
   ]
  },
  {
   "cell_type": "markdown",
   "id": "1b7841da",
   "metadata": {},
   "source": [
    "The above examples are the most common distribution and random values you will learn throughout the bootcamp. Now, let's deal with those arrays."
   ]
  },
  {
   "cell_type": "markdown",
   "id": "48d48f01",
   "metadata": {},
   "source": [
    "#### Exercise: Reverse one of the last vector we created before (first element becomes last) (★☆☆)\n",
    "Try with `[::-1]`"
   ]
  },
  {
   "cell_type": "code",
   "execution_count": 14,
   "id": "3ed233e7",
   "metadata": {},
   "outputs": [
    {
     "name": "stdout",
     "output_type": "stream",
     "text": [
      "[ 6 -2  6  2  8  2  2  8 -2  7]\n",
      "[ 7 -2  8  2  2  8  2  6 -2  6]\n"
     ]
    }
   ],
   "source": [
    "from numpy.random import default_rng\n",
    "rng = default_rng()\n",
    "integers = rng.integers(-5,10,10)\n",
    "print(integers)\n",
    "y = integers[::-1]\n",
    "print(y)"
   ]
  },
  {
   "cell_type": "markdown",
   "id": "4fa39382",
   "metadata": {},
   "source": [
    "#### Exercise: Create a 5x5 identidy matrix (★☆☆)\n",
    "Check the function `np.eye`(https://numpy.org/devdocs/reference/generated/numpy.eye.html)"
   ]
  },
  {
   "cell_type": "code",
   "execution_count": 17,
   "id": "c97757ec",
   "metadata": {},
   "outputs": [
    {
     "data": {
      "text/plain": [
       "array([[1, 0, 0, 0, 0],\n",
       "       [0, 1, 0, 0, 0],\n",
       "       [0, 0, 1, 0, 0],\n",
       "       [0, 0, 0, 1, 0],\n",
       "       [0, 0, 0, 0, 1]])"
      ]
     },
     "execution_count": 17,
     "metadata": {},
     "output_type": "execute_result"
    }
   ],
   "source": [
    "import numpy as np\n",
    "np.eye(5,dtype='int')"
   ]
  },
  {
   "cell_type": "markdown",
   "id": "da64551a",
   "metadata": {},
   "source": [
    "#### Exercise: Find indices of non-zero elements from [1,2,0,0,4,0] (★☆☆)\n",
    "Check the function `where`(https://numpy.org/devdocs/reference/generated/numpy.where.html)"
   ]
  },
  {
   "cell_type": "code",
   "execution_count": 2,
   "id": "327f7adb",
   "metadata": {},
   "outputs": [
    {
     "name": "stdout",
     "output_type": "stream",
     "text": [
      "[1 2 0 0 4 0]\n",
      "(array([0, 1, 4]),)\n"
     ]
    }
   ],
   "source": [
    "import numpy as np\n",
    "x = np.array([1,2,0,0,4,0],dtype=np.int8)\n",
    "print(x)\n",
    "y=np.nonzero(x)\n",
    "print(y)"
   ]
  },
  {
   "cell_type": "markdown",
   "id": "13c5928c",
   "metadata": {},
   "source": [
    "#### Exercise: Create a 10x10 array with random values and find the minimum and maximum values (★☆☆)\n",
    "Check the function `min`(https://numpy.org/devdocs/reference/generated/numpy.where.html) and `max`(https://numpy.org/devdocs/reference/generated/numpy.max.html)"
   ]
  },
  {
   "cell_type": "code",
   "execution_count": 3,
   "id": "911c9b93",
   "metadata": {},
   "outputs": [
    {
     "name": "stdout",
     "output_type": "stream",
     "text": [
      "[[79. 53. 53. 17. 26. 37. 72. 22. 46. 63.]\n",
      " [47. 15. 51. 64. 79. 20. 42. 53. 97. 84.]\n",
      " [81. 99. 61. 18. 99. 54. 39. 31. 95. 54.]\n",
      " [22. 13. 98. 94. 32. 13. 89. 96. 56. 82.]\n",
      " [12. 94.  4. 67. 56. 66. 13. 21. 89. 55.]\n",
      " [32. 23. 27. 22. 48. 77. 80. 69. 70. 56.]\n",
      " [76. 14. 36. 92. 45. 41. 21. 17.  1.  3.]\n",
      " [92. 52.  6.  5. 48. 96. 80. 83. 32. 86.]\n",
      " [58. 21. 74. 26. 25. 59. 67.  3. 54.  5.]\n",
      " [51. 70. 32. 14. 25. 20. 40. 80.  2.  4.]]\n",
      "1.0 99.0\n"
     ]
    }
   ],
   "source": [
    "import numpy as np\n",
    "x=np.random.random((10,10))\n",
    "x=x*100//1\n",
    "print(x)\n",
    "print(x.min(),x.max())\n",
    "\n"
   ]
  },
  {
   "cell_type": "markdown",
   "id": "3fa2e461",
   "metadata": {},
   "source": [
    "#### Exercise: Create a random vector of size 30 and find the mean value (★☆☆)"
   ]
  },
  {
   "cell_type": "code",
   "execution_count": 10,
   "id": "323eb38a",
   "metadata": {},
   "outputs": [
    {
     "name": "stdout",
     "output_type": "stream",
     "text": [
      "[65. 17. 66.  2. 79. 34. 43. 10. 19. 29. 94. 91. 75. 36. 14. 21. 48. 77.\n",
      "  5. 93. 35.  6. 88. 26.  0. 49. 96. 48.  1. 46.]\n",
      "0.0 96.0\n"
     ]
    }
   ],
   "source": [
    "import numpy as np\n",
    "x = np.random.random(30)\n",
    "x= x * 100//1\n",
    "print(x)\n",
    "print(x.min(),x.max())"
   ]
  },
  {
   "cell_type": "markdown",
   "id": "961f074f",
   "metadata": {},
   "source": [
    "#### Exercise: Define a function with input your date of birth (yyyy/mm/dd) that returns a random array with the following dimensions: (★★☆)\n",
    "$$yyyy-1900 \\times |mm - dd|$$"
   ]
  },
  {
   "cell_type": "code",
   "execution_count": 16,
   "id": "d3f49255",
   "metadata": {},
   "outputs": [
    {
     "name": "stdout",
     "output_type": "stream",
     "text": [
      "16/02/1983\n",
      "83 14\n",
      "[[0.19733243 0.77693549 0.2236358  ... 0.84400393 0.21243198 0.71304587]\n",
      " [0.38113712 0.27770004 0.87118002 ... 0.35134796 0.3162129  0.46173898]\n",
      " [0.87547836 0.37431979 0.08400277 ... 0.43374158 0.52481946 0.44352723]\n",
      " ...\n",
      " [0.76202336 0.78839548 0.88460118 ... 0.00597797 0.80948161 0.56673408]\n",
      " [0.82876268 0.58917045 0.55160715 ... 0.37786586 0.76280339 0.06900866]\n",
      " [0.86744566 0.55225775 0.8753563  ... 0.25255436 0.88906416 0.83727606]]\n"
     ]
    }
   ],
   "source": [
    "date = input(\"insert your birthdate (dd/mm/yyyy)\")\n",
    "print(date)\n",
    "\n",
    "x = date.split('/')\n",
    "n = int(x[2]) - 1900\n",
    "m = abs(int(x[1])-int(x[0]))\n",
    "v= np.random.random((n,m))\n",
    "print(n,m)\n",
    "print(v)"
   ]
  },
  {
   "cell_type": "markdown",
   "id": "ff8dbb92",
   "metadata": {},
   "source": [
    "## What is the difference between Python List and a Numpy Array?\n",
    "\n",
    "- Python list can contain elements with different data types whereas Numpy Array‘s elements are always homogeneous (same data types).\n",
    "- NumPy arrays are faster and more compact than Python lists.\n",
    "\n",
    "## Why NumPy Arrays are faster than Lists?\n",
    "\n",
    "- NumPy Array uses fixed memory to store data and less memory than Python lists.\n",
    "- Contiguous memory allocation in NumPy Arrays."
   ]
  },
  {
   "cell_type": "markdown",
   "id": "e3a7ba7f",
   "metadata": {},
   "source": [
    "#### Exercise: Convert the list `my_list = [1, 2, 3]` to numpy array (★☆☆)"
   ]
  },
  {
   "cell_type": "code",
   "execution_count": 17,
   "id": "01d8e257",
   "metadata": {},
   "outputs": [
    {
     "name": "stdout",
     "output_type": "stream",
     "text": [
      "[1, 2, 3]\n",
      "[1 2 3]\n"
     ]
    }
   ],
   "source": [
    "import numpy as np\n",
    "\n",
    "x = [1,2,3]\n",
    "print(x)\n",
    "\n",
    "y = np.array(x)\n",
    "print(y)"
   ]
  },
  {
   "cell_type": "markdown",
   "id": "6d17ab5d",
   "metadata": {},
   "source": [
    "#### Exercise: Convert the tuple `my_list = (1, 2, 3)` to numpy array (★☆☆)"
   ]
  },
  {
   "cell_type": "code",
   "execution_count": 18,
   "id": "841373cd",
   "metadata": {},
   "outputs": [
    {
     "name": "stdout",
     "output_type": "stream",
     "text": [
      "(1, 2, 3)\n",
      "[1 2 3]\n"
     ]
    }
   ],
   "source": [
    "import numpy as np\n",
    "\n",
    "x = (1,2,3)\n",
    "print(x)\n",
    "y = np.asarray(x)\n",
    "print(y)"
   ]
  },
  {
   "cell_type": "markdown",
   "id": "8837119b",
   "metadata": {},
   "source": [
    "#### Exercise: Convert the list of tuples `my_list = [(1,2,3), (4,5)]` to numpy array (★☆☆)"
   ]
  },
  {
   "cell_type": "code",
   "execution_count": 22,
   "id": "2c0d16f1",
   "metadata": {},
   "outputs": [
    {
     "name": "stdout",
     "output_type": "stream",
     "text": [
      "[(1, 2, 3), (4, 5)]\n",
      "[(1, 2, 3) (4, 5)]\n"
     ]
    }
   ],
   "source": [
    "import numpy as np\n",
    "my_list = [(1,2,3),(4,5)]\n",
    "print(my_list)\n",
    "\n",
    "y = np.asarray(my_list,dtype=object)\n",
    "print(y)"
   ]
  },
  {
   "cell_type": "markdown",
   "id": "ec788c9f",
   "metadata": {},
   "source": [
    "#### Exercise: Resize a random array of dimensions 5x12 into 12x5 (★☆☆)\n",
    "Check `reshape`from `numpy`(https://numpy.org/doc/stable/reference/generated/numpy.reshape.html)"
   ]
  },
  {
   "cell_type": "code",
   "execution_count": 27,
   "id": "0a4f919f",
   "metadata": {},
   "outputs": [
    {
     "name": "stdout",
     "output_type": "stream",
     "text": [
      "[[97. 34. 25. 29. 80. 66. 89. 99. 50. 88. 69. 98.]\n",
      " [11.  0. 22. 20. 68. 79. 47. 25. 20. 61. 66. 69.]\n",
      " [80. 69. 95. 32. 11. 24. 58. 47. 17. 17. 67. 24.]\n",
      " [65. 63. 23. 22. 48. 89. 15.  2. 50. 61. 71. 64.]\n",
      " [55.  1. 84. 26. 97.  0. 18. 80. 24. 48. 38. 17.]]\n",
      "-------------------\n",
      "[[97. 11. 80. 65. 55.]\n",
      " [34.  0. 69. 63.  1.]\n",
      " [25. 22. 95. 23. 84.]\n",
      " [29. 20. 32. 22. 26.]\n",
      " [80. 68. 11. 48. 97.]\n",
      " [66. 79. 24. 89.  0.]\n",
      " [89. 47. 58. 15. 18.]\n",
      " [99. 25. 47.  2. 80.]\n",
      " [50. 20. 17. 50. 24.]\n",
      " [88. 61. 17. 61. 48.]\n",
      " [69. 66. 67. 71. 38.]\n",
      " [98. 69. 24. 64. 17.]]\n",
      "-------------------\n",
      "[[97. 34. 25. 29. 80.]\n",
      " [66. 89. 99. 50. 88.]\n",
      " [69. 98. 11.  0. 22.]\n",
      " [20. 68. 79. 47. 25.]\n",
      " [20. 61. 66. 69. 80.]\n",
      " [69. 95. 32. 11. 24.]\n",
      " [58. 47. 17. 17. 67.]\n",
      " [24. 65. 63. 23. 22.]\n",
      " [48. 89. 15.  2. 50.]\n",
      " [61. 71. 64. 55.  1.]\n",
      " [84. 26. 97.  0. 18.]\n",
      " [80. 24. 48. 38. 17.]]\n"
     ]
    }
   ],
   "source": [
    "import numpy as np\n",
    "\n",
    "x = np.random.random((5,12))\n",
    "x = x*100//1\n",
    "print(x)\n",
    "print('-------------------')\n",
    "print(x.T)\n",
    "print('-------------------')\n",
    "print(x.reshape(12,5))"
   ]
  },
  {
   "cell_type": "markdown",
   "id": "391791e0",
   "metadata": {},
   "source": [
    "#### Exercise: Create a function that normalize a 5x5 random matrix (★☆☆)\n",
    "Remember from probability (https://en.wikipedia.org/wiki/Normalization_(statistics)) that :\n",
    "$$ x_{norm} = \\frac{x - \\bar{x}}{\\sigma}$$\n"
   ]
  },
  {
   "cell_type": "code",
   "execution_count": 43,
   "id": "f6533d39",
   "metadata": {},
   "outputs": [
    {
     "name": "stdout",
     "output_type": "stream",
     "text": [
      "[[6 9 7 5 8]\n",
      " [8 9 2 6 2]\n",
      " [9 8 5 8 3]\n",
      " [9 8 4 1 6]\n",
      " [6 8 6 7 9]]\n",
      "-------------------\n",
      "[[0.17685347 0.26528021 0.20632905 0.14737789 0.23580463]\n",
      " [0.23580463 0.26528021 0.05895116 0.17685347 0.05895116]\n",
      " [0.26528021 0.23580463 0.14737789 0.23580463 0.08842674]\n",
      " [0.26528021 0.23580463 0.11790231 0.02947558 0.17685347]\n",
      " [0.17685347 0.23580463 0.17685347 0.20632905 0.26528021]]\n"
     ]
    }
   ],
   "source": [
    "import numpy as np\n",
    "x = np.random.random((5,5))\n",
    "x= x*10//1\n",
    "x = x.astype(int)\n",
    "print(x)\n",
    "norm = np.linalg.norm(x)\n",
    "y = x / norm\n",
    "print('-------------------')\n",
    "print(y)"
   ]
  },
  {
   "cell_type": "markdown",
   "id": "d2d143f1",
   "metadata": {},
   "source": [
    "## Stacking numpy arrays\n",
    "\n",
    "Stacking is used to join a sequence of same dimension arrays along a new axis.\n",
    "`numpy.stack(arrays,axis)` : It returns a stacked array of the input arrays which has one more dimension than the input arrays.\n",
    "\n",
    "### You have two ways to do it:\n",
    "\n",
    "\n",
    "![alt text](./assets/stack.jpeg \"stack\")\n",
    "\n",
    "\n",
    "### or\n",
    "\n",
    "\n",
    "![alt text](./assets/stack2.jpeg \"stack\")\n",
    "\n",
    "\n"
   ]
  },
  {
   "cell_type": "markdown",
   "id": "1e74d39e",
   "metadata": {},
   "source": [
    "#### Exercise: Generate two random arrays with integers and apply the stacking using `stack` (★★☆)"
   ]
  },
  {
   "cell_type": "code",
   "execution_count": 57,
   "id": "3f639d33",
   "metadata": {},
   "outputs": [
    {
     "name": "stdout",
     "output_type": "stream",
     "text": [
      "[[0 1]\n",
      " [9 3]]\n",
      "----------\n",
      "[[1 5]\n",
      " [3 1]]\n",
      "----------\n",
      "[[[0 1]\n",
      "  [9 3]]\n",
      "\n",
      " [[1 5]\n",
      "  [3 1]]]\n",
      "----------\n",
      "[[[0 1]\n",
      "  [1 5]]\n",
      "\n",
      " [[9 3]\n",
      "  [3 1]]]\n"
     ]
    }
   ],
   "source": [
    "import numpy as np\n",
    "x1 = np.random.random((2,2))\n",
    "x1= x1*10//1\n",
    "x1 = x1.astype(int)\n",
    "print(x1)\n",
    "\n",
    "print('----------')\n",
    "x2 = np.random.random((2,2))\n",
    "x2 = x2*10//1\n",
    "x2 = x2.astype(int)\n",
    "print(x2)\n",
    "\n",
    "print('----------')\n",
    "y = np.stack((x1,x2),axis=0)\n",
    "print(y)\n",
    "print('----------')\n",
    "y = np.stack((x1,x2),axis=1)\n",
    "print(y)"
   ]
  },
  {
   "cell_type": "markdown",
   "id": "78250c14",
   "metadata": {},
   "source": [
    "#### Exercise: Generate two random arrays with integers and apply the stacking using `hstack` and `vstack` (★★☆)"
   ]
  },
  {
   "cell_type": "code",
   "execution_count": 61,
   "id": "9fe729cb",
   "metadata": {},
   "outputs": [
    {
     "name": "stdout",
     "output_type": "stream",
     "text": [
      "[[4 9]\n",
      " [3 5]]\n",
      "----------\n",
      "[[9 7]\n",
      " [3 7]]\n",
      "----------\n",
      "[[4 9]\n",
      " [3 5]\n",
      " [9 7]\n",
      " [3 7]]\n",
      "----------\n",
      "[[4 9 9 7]\n",
      " [3 5 3 7]]\n"
     ]
    }
   ],
   "source": [
    "import numpy as np\n",
    "x1 = np.random.random((2,2))\n",
    "x1= x1*10//1\n",
    "x1 = x1.astype(int)\n",
    "print(x1)\n",
    "\n",
    "print('----------')\n",
    "x2 = np.random.random((2,2))\n",
    "x2 = x2*10//1\n",
    "x2 = x2.astype(int)\n",
    "print(x2)\n",
    "\n",
    "print('----------')\n",
    "y =np.vstack((x1,x2))\n",
    "print(y)\n",
    "\n",
    "print('----------')\n",
    "y =np.hstack((x1,x2))\n",
    "print(y)"
   ]
  },
  {
   "cell_type": "markdown",
   "id": "51898680",
   "metadata": {},
   "source": [
    "## Basic maths in numpy\n",
    "\n",
    "You can make typical math operations like:\n",
    "\n",
    "- Addition,Subtraction,Multiplication and Division between two arrays using numpy.\n",
    "- Operation on array using sum() & cumsum() function.\n",
    "- Minimum and Maximum value from an array\n",
    "- Exponent/Power , Square Root and Cube Root functions\n",
    "\n",
    "or even apply common trigonometric functions:\n",
    "\n",
    "- `numpy.sin()`:  Sine (x) Function\n",
    "- `numpy.cos()`: Cosine(x) Function\n",
    "- `numpy.tan()`: Tangent(x)Function\n",
    "- `numpy.sinh()`: Hyperbolic Sine (x) Function\n",
    "- `numpy.cosh()`: Hyperbolic Cosine(x) Functionv\n",
    "- `numpy.tanh()`: Hyperbolic Tangent(x)Function\n",
    "- `numpy.arcsin()`: Inverse Sine Function\n",
    "- `numpy.arccos()`: Inverse Cosine Function\n",
    "- `numpy.arctan()`: Inverse Tangent Function\n",
    "- `numpy.pi`: pi value\n",
    "- `numpy.hypot(w,h)`: For calculating Hypotenuse $c = \\sqrt{(w^2 + h^2)}$\n",
    "- `numpy.rad2deg()`: Radians to degrees\n",
    "- `numpy.deg2rad()`: Degrees to radians"
   ]
  },
  {
   "cell_type": "markdown",
   "id": "89e78048",
   "metadata": {},
   "source": [
    "#### Exercise: Generate two random 8 - dimensional vectors and apply the most common operation between vectors:  addition, substraction, multiplication, division(★☆☆)\n",
    "\n",
    "Check the math functions here: https://numpy.org/doc/stable/reference/routines.math.html"
   ]
  },
  {
   "cell_type": "code",
   "execution_count": 9,
   "id": "b62e9d1c",
   "metadata": {},
   "outputs": [
    {
     "name": "stdout",
     "output_type": "stream",
     "text": [
      "[[[[29 64 18 ... 22 59 49]\n",
      "   [42 39 68 ... 64  3 57]\n",
      "   [58 41  0 ... 12  4 39]\n",
      "   ...\n",
      "   [61 54 22 ... 47 63 44]\n",
      "   [34 60 44 ...  9 17 27]\n",
      "   [32 43 58 ... 65 29 46]]\n",
      "\n",
      "  [[22 10 14 ... 10 22 66]\n",
      "   [ 7  2 59 ... 64 43 26]\n",
      "   [35 58 36 ... 44 62 11]\n",
      "   ...\n",
      "   [39 63 12 ... 26  9 34]\n",
      "   [40 17 17 ... 57  6 56]\n",
      "   [49  3 14 ... 50  2 21]]\n",
      "\n",
      "  [[38  8  4 ... 64 12 26]\n",
      "   [66 39 22 ... 62 27 14]\n",
      "   [52 60 54 ... 68 27 62]\n",
      "   ...\n",
      "   [34 42 60 ...  4 38 70]\n",
      "   [64 47 52 ... 52 47 68]\n",
      "   [67 11 59 ...  1  1 62]]\n",
      "\n",
      "  ...\n",
      "\n",
      "  [[19 65 39 ...  6 41 44]\n",
      "   [54 64 67 ... 49  1 11]\n",
      "   [62  7 70 ... 17  5 64]\n",
      "   ...\n",
      "   [68 70 49 ... 44  6 52]\n",
      "   [52 21 59 ... 64 52  6]\n",
      "   [12 39 58 ... 49 57 37]]\n",
      "\n",
      "  [[13 43 59 ... 36 34 57]\n",
      "   [ 5 14 69 ... 61 30  0]\n",
      "   [13 59 56 ... 51 45  4]\n",
      "   ...\n",
      "   [60 41 57 ... 13  4 39]\n",
      "   [16 49 69 ... 17  7  2]\n",
      "   [20 59 58 ... 62 22 69]]\n",
      "\n",
      "  [[45 14 30 ... 25 47 61]\n",
      "   [30 24 17 ... 23 58 53]\n",
      "   [29  8 10 ... 68 37 36]\n",
      "   ...\n",
      "   [14  0 11 ... 29 55 55]\n",
      "   [20 36 34 ... 44 14 54]\n",
      "   [ 2  2 57 ... 40 40 65]]]\n",
      "\n",
      "\n",
      " [[[59 47 37 ... 62 58  4]\n",
      "   [37 54 15 ... 23 47 66]\n",
      "   [42  9 35 ... 42 24 44]\n",
      "   ...\n",
      "   [27  8 22 ... 53 42 64]\n",
      "   [32 44 54 ... 42 28 69]\n",
      "   [67 67  3 ... 32 31 34]]\n",
      "\n",
      "  [[49 12 31 ... 29 37 37]\n",
      "   [44 35 16 ... 23 69 65]\n",
      "   [44  9 46 ... 54 63 16]\n",
      "   ...\n",
      "   [66 18 54 ...  2 52 69]\n",
      "   [ 2 57 48 ... 57 33 32]\n",
      "   [ 7 45  0 ... 70 64 67]]\n",
      "\n",
      "  [[50 61 18 ... 64 39 69]\n",
      "   [22  3 17 ... 51 10 17]\n",
      "   [49 22 13 ... 50 17 12]\n",
      "   ...\n",
      "   [55 29 58 ... 13 19 43]\n",
      "   [ 8 24 15 ... 33 50 59]\n",
      "   [ 4 13 47 ... 47 60 47]]\n",
      "\n",
      "  ...\n",
      "\n",
      "  [[35 37  9 ...  2 17  0]\n",
      "   [17  2 32 ... 22 40 29]\n",
      "   [10 57  9 ... 37 34 11]\n",
      "   ...\n",
      "   [52 48 27 ... 11 67 32]\n",
      "   [47 69  3 ... 17 24 14]\n",
      "   [22 24 27 ... 12 50 29]]\n",
      "\n",
      "  [[48 10 33 ... 38  0 31]\n",
      "   [12  0 57 ... 44 34 38]\n",
      "   [57 47 52 ...  0 28 39]\n",
      "   ...\n",
      "   [52 19 27 ... 12  1 39]\n",
      "   [35 29 11 ... 58 34 41]\n",
      "   [10 47 32 ... 53 55 58]]\n",
      "\n",
      "  [[58  8 30 ... 42 32 40]\n",
      "   [ 9 69 36 ...  4 24 13]\n",
      "   [ 7 38 58 ... 66 54  1]\n",
      "   ...\n",
      "   [52 28 13 ... 12 33  3]\n",
      "   [19  9 49 ... 59 24 55]\n",
      "   [47  2 17 ... 32 64 45]]]\n",
      "\n",
      "\n",
      " [[[41 23 32 ...  0 24 41]\n",
      "   [63 25 44 ... 21  9  7]\n",
      "   [46 43 41 ... 46 23 20]\n",
      "   ...\n",
      "   [24  3  2 ... 61 21 68]\n",
      "   [34 65 47 ... 50  0 16]\n",
      "   [22 47 55 ... 50  1 44]]\n",
      "\n",
      "  [[20 64 17 ... 56 40 60]\n",
      "   [42 47 60 ...  2 15 37]\n",
      "   [53  9 28 ... 22 31 52]\n",
      "   ...\n",
      "   [ 7  9 62 ...  9 68 49]\n",
      "   [37 45 42 ... 12 68 14]\n",
      "   [44 52 35 ... 57 33 42]]\n",
      "\n",
      "  [[19 55 25 ... 42  2 12]\n",
      "   [64 66  2 ... 25 42 17]\n",
      "   [ 8 61 60 ... 25 62 24]\n",
      "   ...\n",
      "   [42  2  4 ... 69 16  5]\n",
      "   [39 27 25 ... 47 52 47]\n",
      "   [45 25 24 ... 22 14 12]]\n",
      "\n",
      "  ...\n",
      "\n",
      "  [[ 7  2  0 ... 32 69  1]\n",
      "   [42 59 32 ...  9  2 19]\n",
      "   [47 54 69 ...  9 13 13]\n",
      "   ...\n",
      "   [33 34 17 ...  3 12  9]\n",
      "   [ 2 57 67 ... 12  7 61]\n",
      "   [49 62 12 ...  0 32 67]]\n",
      "\n",
      "  [[64 43  6 ... 15  7 17]\n",
      "   [20  2 27 ... 14 58 20]\n",
      "   [ 0  2 64 ... 28 36  7]\n",
      "   ...\n",
      "   [19  0 38 ...  4 50 40]\n",
      "   [14 19 55 ... 33 36 66]\n",
      "   [32  4 19 ... 14  0 54]]\n",
      "\n",
      "  [[21 34 52 ... 13 52 30]\n",
      "   [39 62 30 ...  8 70  8]\n",
      "   [33 12  9 ... 63 16  9]\n",
      "   ...\n",
      "   [ 0 39  8 ... 27 39 57]\n",
      "   [17 12 29 ... 62  5 68]\n",
      "   [ 5  2 69 ... 19 27  0]]]\n",
      "\n",
      "\n",
      " ...\n",
      "\n",
      "\n",
      " [[[13  7 44 ... 11 57 23]\n",
      "   [37 47 14 ... 34 35 48]\n",
      "   [40 69 47 ... 14 13 68]\n",
      "   ...\n",
      "   [13 38 65 ... 37 23 36]\n",
      "   [35  9 34 ... 27 19  3]\n",
      "   [37 19 12 ...  8 27 50]]\n",
      "\n",
      "  [[22 38 27 ...  3 11 66]\n",
      "   [39 52 61 ... 69 29 44]\n",
      "   [55  7 12 ... 34 12 60]\n",
      "   ...\n",
      "   [19  4 42 ... 49 23 54]\n",
      "   [44 63 12 ... 12 54 14]\n",
      "   [69 14 47 ... 19 43 49]]\n",
      "\n",
      "  [[37 57 42 ... 22  4 54]\n",
      "   [52 10 55 ... 36 11 68]\n",
      "   [56  1 49 ... 14 54 34]\n",
      "   ...\n",
      "   [29 51 21 ...  8 49 60]\n",
      "   [47  1  3 ... 67  7 14]\n",
      "   [69 25 31 ...  4 52  0]]\n",
      "\n",
      "  ...\n",
      "\n",
      "  [[23  4 24 ... 36 31  0]\n",
      "   [33 59 42 ... 45 54 49]\n",
      "   [55 69  7 ... 53  7 37]\n",
      "   ...\n",
      "   [47 59 38 ... 24 67 33]\n",
      "   [43 60 56 ... 65 25 21]\n",
      "   [54 41 58 ... 56 37  7]]\n",
      "\n",
      "  [[66  1 48 ... 32 11  2]\n",
      "   [42 30 34 ... 20 46 23]\n",
      "   [23 12  9 ...  3 53 40]\n",
      "   ...\n",
      "   [62 14 45 ...  2 17  2]\n",
      "   [16 59 30 ... 35 52 48]\n",
      "   [59 70 27 ...  7 20 22]]\n",
      "\n",
      "  [[14 23 38 ... 69 44 46]\n",
      "   [42 64 59 ... 36 34 59]\n",
      "   [35 48 60 ...  0 44 39]\n",
      "   ...\n",
      "   [69 47  0 ... 49 12 69]\n",
      "   [55 50 33 ... 56 67 69]\n",
      "   [31 27 13 ... 14 16 27]]]\n",
      "\n",
      "\n",
      " [[[48 67  9 ... 57 15 52]\n",
      "   [12 69 19 ... 11  2 67]\n",
      "   [14 52  2 ... 55 44 27]\n",
      "   ...\n",
      "   [52 70  0 ...  2 12 50]\n",
      "   [32 49 56 ... 49 47 42]\n",
      "   [68 24 27 ... 26 59 44]]\n",
      "\n",
      "  [[ 2 13 42 ... 17 57  0]\n",
      "   [12 30 55 ... 25  7 20]\n",
      "   [37 27  3 ... 33 65 34]\n",
      "   ...\n",
      "   [ 3 22 47 ... 47 36 61]\n",
      "   [ 2 41 10 ... 63 10 38]\n",
      "   [37  4 62 ... 56 12 38]]\n",
      "\n",
      "  [[64 57 47 ... 22  6 38]\n",
      "   [39 42 59 ... 12  4 24]\n",
      "   [56 42 20 ... 27  9 17]\n",
      "   ...\n",
      "   [59 25 50 ... 48  0 66]\n",
      "   [52 22 19 ... 49 42 32]\n",
      "   [59  0 59 ...  7 70 49]]\n",
      "\n",
      "  ...\n",
      "\n",
      "  [[27 69 29 ... 32 62 28]\n",
      "   [32 64 49 ... 31 55 53]\n",
      "   [46 21  0 ... 64 28 14]\n",
      "   ...\n",
      "   [23 42 10 ... 66 66  7]\n",
      "   [62 67 17 ... 38 31 54]\n",
      "   [25 51 12 ... 38  5 67]]\n",
      "\n",
      "  [[47  9  7 ... 39 21 62]\n",
      "   [17 44 61 ... 10 55 65]\n",
      "   [62 24 65 ... 17 64 46]\n",
      "   ...\n",
      "   [54 69 32 ... 62 54 57]\n",
      "   [42 57 35 ... 30 19  3]\n",
      "   [47 54 29 ... 27 34 38]]\n",
      "\n",
      "  [[ 0 29 23 ... 22 34 42]\n",
      "   [36 39  4 ... 22 62 28]\n",
      "   [ 6 12  4 ... 13 54 58]\n",
      "   ...\n",
      "   [ 9 29 50 ... 19 32 43]\n",
      "   [30 39 51 ... 64 17  0]\n",
      "   [ 4 66 13 ... 64 27 49]]]\n",
      "\n",
      "\n",
      " [[[69 44 19 ... 70 64 67]\n",
      "   [ 9 44 42 ... 23 14  4]\n",
      "   [40 45 21 ...  0 10 22]\n",
      "   ...\n",
      "   [70 49 29 ... 34 25 41]\n",
      "   [68 57 42 ... 70 52 67]\n",
      "   [62  6  4 ... 20 22 16]]\n",
      "\n",
      "  [[67 11 17 ... 39 54 29]\n",
      "   [55 68 42 ... 33 52 47]\n",
      "   [53 11 63 ... 34 14 63]\n",
      "   ...\n",
      "   [62 34 47 ... 12 68 62]\n",
      "   [52 37 52 ...  7 37  6]\n",
      "   [ 4 67 39 ... 51 67 56]]\n",
      "\n",
      "  [[17 22 62 ... 52 20 47]\n",
      "   [67 67 53 ... 67 59 14]\n",
      "   [23 42 41 ... 64 69 56]\n",
      "   ...\n",
      "   [ 3 28  8 ... 65  2 62]\n",
      "   [ 7 21 23 ...  9  9 20]\n",
      "   [70 57 57 ...  8 11 12]]\n",
      "\n",
      "  ...\n",
      "\n",
      "  [[17 67 70 ... 56 57 67]\n",
      "   [57 69 49 ... 57 20 39]\n",
      "   [13 14 46 ... 47 23 12]\n",
      "   ...\n",
      "   [30  3 30 ... 43 52  0]\n",
      "   [19 70 34 ... 57 23 24]\n",
      "   [63 46 14 ... 37 36 30]]\n",
      "\n",
      "  [[20 35 54 ... 34 22 41]\n",
      "   [64 49 43 ... 42 59 28]\n",
      "   [34 60 15 ... 61 35 64]\n",
      "   ...\n",
      "   [28 55 58 ...  9 44 42]\n",
      "   [27 26  3 ... 70 24 49]\n",
      "   [ 9 35 57 ... 12 30 47]]\n",
      "\n",
      "  [[32  2 61 ... 31 55 51]\n",
      "   [ 9 27 49 ... 24 33  2]\n",
      "   [66 12  4 ...  9 44 50]\n",
      "   ...\n",
      "   [69 67 67 ...  7 49 30]\n",
      "   [47 44 36 ...  7 67  8]\n",
      "   [27 22 57 ... 57  8  7]]]]\n"
     ]
    }
   ],
   "source": [
    "import numpy as np\n",
    "\n",
    "x1 = np.random.random((10,10,10,10))\n",
    "x1 = x1*100//1\n",
    "\n",
    "x1 = x1*5\n",
    "x1 = x1 -np.random.random(10)\n",
    "\n",
    "x1 = x1 / 7\n",
    "\n",
    "x1 = x1.astype(int)\n",
    "print(x1)\n"
   ]
  },
  {
   "cell_type": "markdown",
   "id": "ebd10810",
   "metadata": {},
   "source": [
    "#### Exercise: Generate two random matrices with dimensions between 5 and 10, e.g. 5x7 vs 8x9 and try. Were you able to do the matrix multiplication? why? (★★☆) "
   ]
  },
  {
   "cell_type": "code",
   "execution_count": 16,
   "id": "6ada209f",
   "metadata": {},
   "outputs": [
    {
     "name": "stdout",
     "output_type": "stream",
     "text": [
      "[[1.06595814 1.22719362 2.25760611 1.30231411 2.90540677 1.80001074\n",
      "  2.12778732 1.13161624 1.76638935]\n",
      " [0.85691861 1.04897357 2.20715046 1.42276996 2.94604992 1.97060366\n",
      "  2.00480588 1.23443143 1.74986446]\n",
      " [1.27731329 1.59426636 2.74802626 1.74563048 3.46934482 2.61358769\n",
      "  2.11641282 1.62336258 2.33643454]\n",
      " [1.52892333 1.24136666 2.29981534 1.66471258 3.13677869 1.96277732\n",
      "  2.47780398 1.32133355 2.46053314]\n",
      " [1.12602135 1.68308846 2.15909675 1.05734878 2.71332993 1.6414646\n",
      "  1.97036903 0.77756337 1.2910402 ]]\n"
     ]
    }
   ],
   "source": [
    "import numpy as np\n",
    "x = np.random.random((5,7))\n",
    "y = np.random.random((7,9))\n",
    "\n",
    "z = np.dot(x,y)\n",
    "print(z)"
   ]
  },
  {
   "cell_type": "markdown",
   "id": "c0e940f8",
   "metadata": {},
   "source": [
    "#### Exercise: Given 2 numpy arrays as matrices, output the result of multiplying the 2 matrices (as a numpy array) Were you able to do the matrix multiplication? (★★☆) \n",
    "\n",
    "$$ a = \\left(\\begin{matrix}\n",
    "0 & 1 & 2\\\\ \n",
    "3 & 4 & 5\\\\ \n",
    "6 & 7 & 8\n",
    "\\end{matrix}\\right)$$\n",
    "\n",
    "$$ b = \\left(\\begin{matrix}\n",
    "2 & 3 & 4\\\\ \n",
    "5 & 6 & 7\\\\ \n",
    "8 & 9 & 10\n",
    "\\end{matrix}\\right)$$\n",
    "\n",
    "\n"
   ]
  },
  {
   "cell_type": "code",
   "execution_count": 20,
   "id": "820dc7a5",
   "metadata": {},
   "outputs": [
    {
     "name": "stdout",
     "output_type": "stream",
     "text": [
      "[[ 21  24  27]\n",
      " [ 66  78  90]\n",
      " [111 132 153]]\n"
     ]
    }
   ],
   "source": [
    "import numpy as np\n",
    "a = [[0,1,2],[3,4,5],[6,7,8]]\n",
    "#print(a)\n",
    "b = [[2,3,4],[5,6,7],[8,9,10]]\n",
    "#print (b)\n",
    "x = np.asarray(a)\n",
    "#print(x)\n",
    "y = np.asarray(b)\n",
    "\n",
    "print(np.dot(x,y))"
   ]
  },
  {
   "cell_type": "markdown",
   "id": "22713c3f",
   "metadata": {},
   "source": [
    "#### Exercise: Multiply a 5x3 matrix by a 3x2 matrix (real matrix product) (★★☆)"
   ]
  },
  {
   "cell_type": "code",
   "execution_count": 25,
   "id": "a3e05c29",
   "metadata": {},
   "outputs": [
    {
     "name": "stdout",
     "output_type": "stream",
     "text": [
      "[[0 7 3]\n",
      " [3 0 5]\n",
      " [9 7 4]\n",
      " [1 8 5]\n",
      " [3 3 9]]\n",
      "[[2 1]\n",
      " [8 2]\n",
      " [0 2]]\n",
      "[[56 20]\n",
      " [ 6 13]\n",
      " [74 31]\n",
      " [66 27]\n",
      " [30 27]]\n"
     ]
    }
   ],
   "source": [
    "import numpy as np\n",
    "x = np.random.random((5,3))\n",
    "x = x*10//1\n",
    "x = x.astype(int)\n",
    "print(x)\n",
    "y = np.random.random((3,2))\n",
    "y = y*10//1\n",
    "y =y.astype(int)\n",
    "print(y)\n",
    "\n",
    "print(np.dot(x,y))"
   ]
  },
  {
   "cell_type": "markdown",
   "id": "4815930e",
   "metadata": {},
   "source": [
    "## Data types\n",
    "\n",
    "Do you think the following preposition is true?\n",
    "`8==8`\n",
    "\n",
    "Surely you will definetely say yes, which is true mathematically, but computationally it is not always the same, at least in terms of memory. For example, run the following cell:"
   ]
  },
  {
   "cell_type": "code",
   "execution_count": 21,
   "id": "cd81c3c6",
   "metadata": {},
   "outputs": [
    {
     "name": "stdout",
     "output_type": "stream",
     "text": [
      "int64: 96\n",
      "int8: 89\n",
      "float32: 92\n"
     ]
    }
   ],
   "source": [
    "import sys\n",
    "\n",
    "# int64\n",
    "x = np.array(123)\n",
    "print(\"int64: \" + str(sys.getsizeof(x)))\n",
    "\n",
    "# int8\n",
    "x = np.array(123,dtype=np.int8)\n",
    "print(\"int8: \" + str(sys.getsizeof(x)))\n",
    "\n",
    "# float32\n",
    "x = np.array(123,dtype=np.float32)\n",
    "print(\"float32: \" + str(sys.getsizeof(x)))"
   ]
  },
  {
   "cell_type": "markdown",
   "id": "8e34f294",
   "metadata": {},
   "source": [
    "## It turns out that there are many computational representation of the same number and you can create arrays with different Data Types (dtypes) depending what you need:\n",
    "\n",
    "- Boolean : `np.bool_`\n",
    "- Char : `np.byte`\n",
    "- Short : `np.short`\n",
    "- Integer : `np.short`\n",
    "- Long : `np.int_`\n",
    "- Float : `np.single`&np.float32`\n",
    "- Double :`np.double`&`np.float64`\n",
    "- `np.int8`: integer (-128 to 127)\n",
    "- `np.int16`:integer( -32768 to 32767)\n",
    "- `np.int32`: integer(-2147483648 to 2147483647)\n",
    "- `np.int64`:integer( -9223372036854775808 to 9223372036854775807)\n",
    "\n",
    "\n",
    "Sometimes, you will need to load, create or export arrays from different data types.\n"
   ]
  },
  {
   "cell_type": "markdown",
   "id": "f1ae2c2d",
   "metadata": {},
   "source": [
    "## Harder exercises\n",
    "\n",
    "The next exercises are related with real situations you could face while you are working in data science and machine learning and we will be frequently talking about matrices and bidimensional arrays."
   ]
  },
  {
   "cell_type": "markdown",
   "id": "759c9c8d",
   "metadata": {},
   "source": [
    "#### Exercise: Subtract the mean of each row of a matrix (★★☆)"
   ]
  },
  {
   "cell_type": "code",
   "execution_count": 27,
   "id": "6801c73d",
   "metadata": {},
   "outputs": [
    {
     "name": "stdout",
     "output_type": "stream",
     "text": [
      "[[6 0 7]\n",
      " [6 0 7]\n",
      " [3 1 6]]\n"
     ]
    },
    {
     "ename": "AttributeError",
     "evalue": "'numpy.ndarray' object has no attribute 'ndarray'",
     "output_type": "error",
     "traceback": [
      "\u001b[0;31m---------------------------------------------------------------------------\u001b[0m",
      "\u001b[0;31mAttributeError\u001b[0m                            Traceback (most recent call last)",
      "\u001b[0;32m/tmp/ipykernel_1637/4184975221.py\u001b[0m in \u001b[0;36m<module>\u001b[0;34m\u001b[0m\n\u001b[1;32m      5\u001b[0m \u001b[0;34m\u001b[0m\u001b[0m\n\u001b[1;32m      6\u001b[0m \u001b[0mprint\u001b[0m\u001b[0;34m(\u001b[0m\u001b[0mx\u001b[0m\u001b[0;34m)\u001b[0m\u001b[0;34m\u001b[0m\u001b[0;34m\u001b[0m\u001b[0m\n\u001b[0;32m----> 7\u001b[0;31m \u001b[0mprint\u001b[0m\u001b[0;34m(\u001b[0m\u001b[0mx\u001b[0m\u001b[0;34m.\u001b[0m\u001b[0mndarray\u001b[0m\u001b[0;34m(\u001b[0m\u001b[0;34m)\u001b[0m\u001b[0;34m)\u001b[0m\u001b[0;34m\u001b[0m\u001b[0;34m\u001b[0m\u001b[0m\n\u001b[0m",
      "\u001b[0;31mAttributeError\u001b[0m: 'numpy.ndarray' object has no attribute 'ndarray'"
     ]
    }
   ],
   "source": [
    "import numpy as np\n",
    "x = np.random.random((3,3))\n",
    "x=x*10 // 1\n",
    "x = x.astype(int)\n",
    "\n",
    "print(x)\n",
    "print(x.ndarray())"
   ]
  },
  {
   "cell_type": "markdown",
   "id": "129c342d",
   "metadata": {},
   "source": [
    "#### Exercise: How to get the dates of yesterday, today and tomorrow? (★★☆)\n",
    "Check `np.datetime64`, `np.timedelta64` in numpy (https://numpy.org/doc/stable/reference/arrays.datetime.html)"
   ]
  },
  {
   "cell_type": "code",
   "execution_count": null,
   "id": "8ba1badb",
   "metadata": {},
   "outputs": [],
   "source": []
  },
  {
   "cell_type": "markdown",
   "id": "42f8b2f9",
   "metadata": {},
   "source": [
    "#### Exercise: How to get all the dates corresponding to the month of December 2022? (★★☆)\n",
    "Combine `arange`with `datetime`\n"
   ]
  },
  {
   "cell_type": "code",
   "execution_count": null,
   "id": "eb8ebe45",
   "metadata": {},
   "outputs": [],
   "source": []
  },
  {
   "cell_type": "markdown",
   "id": "486df8ea",
   "metadata": {},
   "source": [
    "#### Exercise: Extract the integer part of a random array of positive numbers using 2 different methods (★★☆)"
   ]
  },
  {
   "cell_type": "code",
   "execution_count": null,
   "id": "34b4fa08",
   "metadata": {},
   "outputs": [],
   "source": []
  },
  {
   "cell_type": "markdown",
   "id": "649e89f9",
   "metadata": {},
   "source": [
    "#### Exercise: Create a 5x5 matrix with row values ranging from 0 to 4 (★★☆)"
   ]
  },
  {
   "cell_type": "code",
   "execution_count": null,
   "id": "663cc611",
   "metadata": {},
   "outputs": [],
   "source": []
  },
  {
   "cell_type": "markdown",
   "id": "3421e17f",
   "metadata": {},
   "source": [
    "#### Exercise: Consider a generator function that generates 10 integers and use it to build an array (★★☆)"
   ]
  },
  {
   "cell_type": "code",
   "execution_count": null,
   "id": "7336b8e4",
   "metadata": {},
   "outputs": [],
   "source": []
  },
  {
   "cell_type": "markdown",
   "id": "483dd554",
   "metadata": {},
   "source": [
    "#### Exercise: Create a vector of size 10 with values ranging from 0 to 1, both excluded (★★☆)"
   ]
  },
  {
   "cell_type": "code",
   "execution_count": null,
   "id": "c89b93e7",
   "metadata": {},
   "outputs": [],
   "source": []
  },
  {
   "cell_type": "markdown",
   "id": "2d07be1c",
   "metadata": {},
   "source": [
    "#### Exercise: Create a random vector of size 10 and sort it (★★☆)"
   ]
  },
  {
   "cell_type": "code",
   "execution_count": null,
   "id": "4f7cb3ad",
   "metadata": {},
   "outputs": [],
   "source": []
  },
  {
   "cell_type": "markdown",
   "id": "fe043549",
   "metadata": {},
   "source": [
    "#### Exercise: Consider two random array A and B, check if they are equal (★★☆)"
   ]
  },
  {
   "cell_type": "code",
   "execution_count": null,
   "id": "3326a686",
   "metadata": {},
   "outputs": [],
   "source": []
  },
  {
   "cell_type": "markdown",
   "id": "2002cb03",
   "metadata": {},
   "source": [
    "#### Exercise: Consider a random 10x2 matrix representing cartesian coordinates, convert them to polar coordinates (★★★)\n",
    "Suggestion: check how to calculate the \"square of a matrix\""
   ]
  },
  {
   "cell_type": "code",
   "execution_count": null,
   "id": "58be72bc",
   "metadata": {},
   "outputs": [],
   "source": []
  },
  {
   "cell_type": "markdown",
   "id": "b7109c9f",
   "metadata": {},
   "source": [
    "#### Exercise: Create random vector of size 10 and replace the maximum value by 0 (★★☆)"
   ]
  },
  {
   "cell_type": "code",
   "execution_count": null,
   "id": "f79e79a7",
   "metadata": {},
   "outputs": [],
   "source": []
  },
  {
   "cell_type": "markdown",
   "id": "fb24674c",
   "metadata": {},
   "source": [
    "#### Exercise: How to print all the values of an array? (★★☆)"
   ]
  },
  {
   "cell_type": "code",
   "execution_count": null,
   "id": "c81f1456",
   "metadata": {},
   "outputs": [],
   "source": []
  },
  {
   "cell_type": "markdown",
   "id": "48413134",
   "metadata": {},
   "source": [
    "#### Exercise: How to convert a float (32 bits) array into an integer (32 bits) in place?\n",
    "Check https://stackoverflow.com/a/4396247/5989906"
   ]
  },
  {
   "cell_type": "code",
   "execution_count": null,
   "id": "5db64b6d",
   "metadata": {},
   "outputs": [],
   "source": []
  },
  {
   "cell_type": "markdown",
   "id": "215b6acc",
   "metadata": {},
   "source": [
    "#### Exercise: Subtract the mean of each row of a matrix (★★☆)"
   ]
  },
  {
   "cell_type": "code",
   "execution_count": null,
   "id": "dd1adef4",
   "metadata": {},
   "outputs": [],
   "source": []
  },
  {
   "cell_type": "markdown",
   "id": "c0cf37e0",
   "metadata": {},
   "source": [
    "#### Exercise: How to sort an array by the nth column? (★★☆)"
   ]
  },
  {
   "cell_type": "code",
   "execution_count": null,
   "id": "9336ca5f",
   "metadata": {},
   "outputs": [],
   "source": []
  },
  {
   "cell_type": "markdown",
   "id": "c17fb213",
   "metadata": {},
   "source": [
    "#### Exercise: Find the position of a the minimum of a 2D matrix? (★★☆)"
   ]
  },
  {
   "cell_type": "code",
   "execution_count": null,
   "id": "7fdda78d",
   "metadata": {},
   "outputs": [],
   "source": []
  },
  {
   "cell_type": "markdown",
   "id": "f4427f7f",
   "metadata": {},
   "source": [
    "#### Exercise: Read an image using openCV, check its dimensions, normalize the numbers and show the image (★★★)\n",
    "Check: https://www.geeksforgeeks.org/python-opencv-cv2-imread-method/"
   ]
  },
  {
   "cell_type": "code",
   "execution_count": null,
   "id": "fe253212",
   "metadata": {},
   "outputs": [],
   "source": []
  },
  {
   "cell_type": "markdown",
   "id": "33c986d9",
   "metadata": {},
   "source": [
    "#### Exercise: Considering a four dimensions array, how to get sum over the last two axis at once? (★★★)"
   ]
  },
  {
   "cell_type": "code",
   "execution_count": null,
   "id": "a99a50e2",
   "metadata": {},
   "outputs": [],
   "source": []
  },
  {
   "cell_type": "markdown",
   "id": "928a1a15",
   "metadata": {},
   "source": [
    "#### Exercise: How to get the diagonal of a dot product? (★★★)"
   ]
  },
  {
   "cell_type": "code",
   "execution_count": null,
   "id": "ef2c9ddd",
   "metadata": {},
   "outputs": [],
   "source": []
  },
  {
   "cell_type": "markdown",
   "id": "f62551d8",
   "metadata": {},
   "source": [
    "#### Exercise: Consider an array of dimension (5,5,3), how to mulitply it by an array with dimensions (5,5)? (★★★)"
   ]
  },
  {
   "cell_type": "code",
   "execution_count": null,
   "id": "9ab241b7",
   "metadata": {},
   "outputs": [],
   "source": []
  },
  {
   "cell_type": "markdown",
   "id": "6896e326",
   "metadata": {},
   "source": [
    "#### Exercise: How to swap two rows of an array? (★★★)"
   ]
  },
  {
   "cell_type": "code",
   "execution_count": null,
   "id": "9e8fcba9",
   "metadata": {},
   "outputs": [],
   "source": []
  },
  {
   "cell_type": "markdown",
   "id": "8e83df46",
   "metadata": {},
   "source": [
    "#### Exercise: Read an image using openCV and tranpose it. What did you get exactly? Was the image rotated? Moved? Reflected with respect to an axis? (★★★)"
   ]
  },
  {
   "cell_type": "code",
   "execution_count": null,
   "id": "f73127b7",
   "metadata": {},
   "outputs": [],
   "source": []
  },
  {
   "cell_type": "markdown",
   "id": "781fa236",
   "metadata": {},
   "source": [
    "#### Exercise: Consider an array Z = [1,2,3,4,5,6,7,8,9,10,11,12,13,14], how to generate an array R = [[1,2,3,4], [2,3,4,5], [3,4,5,6], ..., [11,12,13,14]]? (★★★)"
   ]
  },
  {
   "cell_type": "code",
   "execution_count": null,
   "id": "8e84d3c2",
   "metadata": {},
   "outputs": [],
   "source": []
  },
  {
   "cell_type": "markdown",
   "id": "7d8dc135",
   "metadata": {},
   "source": [
    "#### Exercise: How to find the most frequent value in an array? (★★★)"
   ]
  },
  {
   "cell_type": "code",
   "execution_count": null,
   "id": "3978a7a2",
   "metadata": {},
   "outputs": [],
   "source": []
  },
  {
   "cell_type": "markdown",
   "id": "4c70397b",
   "metadata": {},
   "source": [
    "#### Exercise: How to get the n largest values of an array (★★★)"
   ]
  },
  {
   "cell_type": "code",
   "execution_count": null,
   "id": "16371718",
   "metadata": {},
   "outputs": [],
   "source": []
  },
  {
   "cell_type": "markdown",
   "id": "d94352b6",
   "metadata": {},
   "source": [
    "#### Exercise: Consider a large vector Z, compute Z to the power of 3 using 3 different methods (★★★)"
   ]
  },
  {
   "cell_type": "code",
   "execution_count": null,
   "id": "301ba8a8",
   "metadata": {},
   "outputs": [],
   "source": []
  },
  {
   "cell_type": "markdown",
   "id": "2784c996",
   "metadata": {},
   "source": [
    "#### Exercise: Given a two dimensional array, how to extract unique rows? (★★★)"
   ]
  },
  {
   "cell_type": "code",
   "execution_count": null,
   "id": "f030595f",
   "metadata": {},
   "outputs": [],
   "source": []
  },
  {
   "cell_type": "markdown",
   "id": "e5737276",
   "metadata": {},
   "source": [
    "#### Exercise: Can you have arrray of strings? can you mix different data types in the same array? Can you operate (add, sub, mult) arrays with different data types? (★★★)"
   ]
  },
  {
   "cell_type": "code",
   "execution_count": null,
   "id": "68c333b0",
   "metadata": {},
   "outputs": [],
   "source": []
  }
 ],
 "metadata": {
  "kernelspec": {
   "display_name": "Python 3",
   "language": "python",
   "name": "python3"
  },
  "language_info": {
   "codemirror_mode": {
    "name": "ipython",
    "version": 3
   },
   "file_extension": ".py",
   "mimetype": "text/x-python",
   "name": "python",
   "nbconvert_exporter": "python",
   "pygments_lexer": "ipython3",
   "version": "3.8.12"
  }
 },
 "nbformat": 4,
 "nbformat_minor": 5
}
